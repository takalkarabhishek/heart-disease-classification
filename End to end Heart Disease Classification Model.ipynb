{
 "cells": [
  {
   "cell_type": "markdown",
   "id": "9aeb5d7d",
   "metadata": {},
   "source": [
    "### Predicting whether a person has Heart Disease or not using Machine Learning\n",
    "\n",
    "#### We are going to cover the following approach\n",
    "1. Problem Definition\n",
    "2. Data\n",
    "3. Evaluation\n",
    "4. Features\n",
    "5. Modelling\n",
    "6. Experimentation"
   ]
  },
  {
   "cell_type": "markdown",
   "id": "2c327ca3",
   "metadata": {},
   "source": [
    "### 1. Problem Definition\n",
    "\n",
    "#### In a nutshell\n",
    "> Given Clinical parameters of the patient can we predict whether a person has Heart Disease or not?\n",
    "\n",
    "### 2. Data\n",
    "\n",
    "#### Source (taken from UCI) : https://archive.ics.uci.edu/ml/datasets/heart+Disease\n",
    "\n",
    "#### Lets have a look at the Attributes\n",
    "\n",
    "1. age\n",
    "2. sex\n",
    "3. cp\n",
    "4. trestbps\n",
    "5. chol\n",
    "6. fbs\n",
    "7. restecg\n",
    "8. thalach\n",
    "9. exang\n",
    "10. oldpeak\n",
    "11. slope\n",
    "12. ca\n",
    "13. thal\n",
    "14. target (the predicted attribute)\n",
    "\n",
    "\n",
    "### 3. Evaluation :\n",
    "\n",
    "#### What defines Success? \n",
    "\n",
    "#### If we achieve 95% accuracy in predicting whether a  person has Heart Disease or not, only then will the project be persuaded\n",
    "\n",
    "### 4. Features\n",
    "\n",
    "#### Details about the Data\n",
    "\n",
    "##### Data Dictionary :\n",
    "\n",
    "1. age: age in years\n",
    "2. sex: sex (1 = male; 0 = female)\n",
    "3. cp: chest pain type\n",
    ">  1. Value 1: typical angina\n",
    ">  2. Value 2: atypical angina\n",
    ">  3. Value 3: non-anginal pain\n",
    ">  4. Value 4: asymptomatic\n",
    "4. trestbps: resting blood pressure (in mm Hg on admission to the hospital)\n",
    "5. chol: serum cholestoral in mg/dl\n",
    "6. fbs: (fasting blood sugar > 120 mg/dl) (1 = true; 0 = false)\n",
    "7. restecg: resting electrocardiographic results\n",
    ">  1. Value 0: normal\n",
    ">  2. Value 1: having ST-T wave abnormality (T wave inversions and/or ST elevation or depression of > 0.05 mV)\n",
    ">  3. Value 2: showing probable or definite left ventricular hypertrophy by Estes' criteria\n",
    "8. thalach: maximum heart rate achieved\n",
    "9. exang: exercise induced angina (1 = yes; 0 = no)\n",
    "10. oldpeak = ST depression induced by exercise relative to rest\n",
    "11. slope: the slope of the peak exercise ST segment\n",
    ">  1. Value 1: upsloping\n",
    ">  2. Value 2: flat\n",
    ">  3. Value 3: downsloping\n",
    "12. ca: number of major vessels (0-3) colored by flourosopy\n",
    "13. thal: 3 = normal; 6 = fixed defect; 7 = reversable defect\n",
    "14. target: 0-Not Heart Disease, 1-Heart Disease "
   ]
  },
  {
   "cell_type": "markdown",
   "id": "74e8a1a8",
   "metadata": {},
   "source": [
    "### A. Preparing the tools \n",
    "\n",
    "#### A1. Importing various Libraries "
   ]
  },
  {
   "cell_type": "code",
   "execution_count": 1,
   "id": "78b51f30",
   "metadata": {},
   "outputs": [],
   "source": [
    "#For EDA (Exploratory Data Analysis)\n",
    "import pandas as pd\n",
    "import numpy as np\n",
    "import matplotlib.pyplot as plt\n",
    "%matplotlib inline\n",
    "import seaborn as sns\n",
    "\n",
    "#Modelling\n",
    "from sklearn.linear_model import LogisticRegression\n",
    "from sklearn.neighbors import KNeighborsClassifier\n",
    "from sklearn.ensemble import RandomForestClassifier\n",
    "\n",
    "#Model Evaluation\n",
    "from sklearn.model_selection import train_test_split, GridSearchCV, RandomizedSearchCV, cross_val_score\n",
    "from sklearn.metrics import classification_report, precision_score, recall_score, f1_score, confusion_matrix, plot_roc_curve"
   ]
  },
  {
   "cell_type": "markdown",
   "id": "29c9a13b",
   "metadata": {},
   "source": [
    "#### A2. Load Data"
   ]
  },
  {
   "cell_type": "code",
   "execution_count": 2,
   "id": "d3456ab0",
   "metadata": {},
   "outputs": [
    {
     "name": "stdout",
     "output_type": "stream",
     "text": [
      "(303, 14)\n"
     ]
    },
    {
     "data": {
      "text/html": [
       "<div>\n",
       "<style scoped>\n",
       "    .dataframe tbody tr th:only-of-type {\n",
       "        vertical-align: middle;\n",
       "    }\n",
       "\n",
       "    .dataframe tbody tr th {\n",
       "        vertical-align: top;\n",
       "    }\n",
       "\n",
       "    .dataframe thead th {\n",
       "        text-align: right;\n",
       "    }\n",
       "</style>\n",
       "<table border=\"1\" class=\"dataframe\">\n",
       "  <thead>\n",
       "    <tr style=\"text-align: right;\">\n",
       "      <th></th>\n",
       "      <th>age</th>\n",
       "      <th>sex</th>\n",
       "      <th>cp</th>\n",
       "      <th>trestbps</th>\n",
       "      <th>chol</th>\n",
       "      <th>fbs</th>\n",
       "      <th>restecg</th>\n",
       "      <th>thalach</th>\n",
       "      <th>exang</th>\n",
       "      <th>oldpeak</th>\n",
       "      <th>slope</th>\n",
       "      <th>ca</th>\n",
       "      <th>thal</th>\n",
       "      <th>target</th>\n",
       "    </tr>\n",
       "  </thead>\n",
       "  <tbody>\n",
       "    <tr>\n",
       "      <th>0</th>\n",
       "      <td>63</td>\n",
       "      <td>1</td>\n",
       "      <td>3</td>\n",
       "      <td>145</td>\n",
       "      <td>233</td>\n",
       "      <td>1</td>\n",
       "      <td>0</td>\n",
       "      <td>150</td>\n",
       "      <td>0</td>\n",
       "      <td>2.3</td>\n",
       "      <td>0</td>\n",
       "      <td>0</td>\n",
       "      <td>1</td>\n",
       "      <td>1</td>\n",
       "    </tr>\n",
       "    <tr>\n",
       "      <th>1</th>\n",
       "      <td>37</td>\n",
       "      <td>1</td>\n",
       "      <td>2</td>\n",
       "      <td>130</td>\n",
       "      <td>250</td>\n",
       "      <td>0</td>\n",
       "      <td>1</td>\n",
       "      <td>187</td>\n",
       "      <td>0</td>\n",
       "      <td>3.5</td>\n",
       "      <td>0</td>\n",
       "      <td>0</td>\n",
       "      <td>2</td>\n",
       "      <td>1</td>\n",
       "    </tr>\n",
       "    <tr>\n",
       "      <th>2</th>\n",
       "      <td>41</td>\n",
       "      <td>0</td>\n",
       "      <td>1</td>\n",
       "      <td>130</td>\n",
       "      <td>204</td>\n",
       "      <td>0</td>\n",
       "      <td>0</td>\n",
       "      <td>172</td>\n",
       "      <td>0</td>\n",
       "      <td>1.4</td>\n",
       "      <td>2</td>\n",
       "      <td>0</td>\n",
       "      <td>2</td>\n",
       "      <td>1</td>\n",
       "    </tr>\n",
       "    <tr>\n",
       "      <th>3</th>\n",
       "      <td>56</td>\n",
       "      <td>1</td>\n",
       "      <td>1</td>\n",
       "      <td>120</td>\n",
       "      <td>236</td>\n",
       "      <td>0</td>\n",
       "      <td>1</td>\n",
       "      <td>178</td>\n",
       "      <td>0</td>\n",
       "      <td>0.8</td>\n",
       "      <td>2</td>\n",
       "      <td>0</td>\n",
       "      <td>2</td>\n",
       "      <td>1</td>\n",
       "    </tr>\n",
       "    <tr>\n",
       "      <th>4</th>\n",
       "      <td>57</td>\n",
       "      <td>0</td>\n",
       "      <td>0</td>\n",
       "      <td>120</td>\n",
       "      <td>354</td>\n",
       "      <td>0</td>\n",
       "      <td>1</td>\n",
       "      <td>163</td>\n",
       "      <td>1</td>\n",
       "      <td>0.6</td>\n",
       "      <td>2</td>\n",
       "      <td>0</td>\n",
       "      <td>2</td>\n",
       "      <td>1</td>\n",
       "    </tr>\n",
       "  </tbody>\n",
       "</table>\n",
       "</div>"
      ],
      "text/plain": [
       "   age  sex  cp  trestbps  chol  fbs  restecg  thalach  exang  oldpeak  slope  \\\n",
       "0   63    1   3       145   233    1        0      150      0      2.3      0   \n",
       "1   37    1   2       130   250    0        1      187      0      3.5      0   \n",
       "2   41    0   1       130   204    0        0      172      0      1.4      2   \n",
       "3   56    1   1       120   236    0        1      178      0      0.8      2   \n",
       "4   57    0   0       120   354    0        1      163      1      0.6      2   \n",
       "\n",
       "   ca  thal  target  \n",
       "0   0     1       1  \n",
       "1   0     2       1  \n",
       "2   0     2       1  \n",
       "3   0     2       1  \n",
       "4   0     2       1  "
      ]
     },
     "execution_count": 2,
     "metadata": {},
     "output_type": "execute_result"
    }
   ],
   "source": [
    "df = pd.read_csv('heart-disease.csv')\n",
    "print(df.shape)\n",
    "df.head()"
   ]
  },
  {
   "cell_type": "markdown",
   "id": "b5471e02",
   "metadata": {},
   "source": [
    "### B. Data Exploration (Exploratory Data Analysis or EDA)\n",
    "1. What question(s) are we trying to solve?\n",
    "2. What kind of data do we have and how do we treat different types\n",
    "3. What's missing from the data aand how do we deal with it\n",
    "4. Where are the outliers and why should you care about them\n",
    "5. How can you add, change or remove features to make your data more meaningful and to get more out of it"
   ]
  },
  {
   "cell_type": "code",
   "execution_count": 7,
   "id": "8f125012",
   "metadata": {},
   "outputs": [
    {
     "data": {
      "text/plain": [
       "1    165\n",
       "0    138\n",
       "Name: target, dtype: int64"
      ]
     },
     "execution_count": 7,
     "metadata": {},
     "output_type": "execute_result"
    }
   ],
   "source": [
    "#Lets check the total number of values in each class\n",
    "df['target'].value_counts()"
   ]
  },
  {
   "cell_type": "code",
   "execution_count": 21,
   "id": "9428ae06",
   "metadata": {
    "scrolled": true
   },
   "outputs": [
    {
     "data": {
      "image/png": "[encoded data removed]",
      "text/plain": [
       "<Figure size 432x288 with 1 Axes>"
      ]
     },
     "metadata": {
      "needs_background": "light"
     },
     "output_type": "display_data"
    }
   ],
   "source": [
    "#Lets visualise the classes to get a better understanding\n",
    "df['target'].value_counts().plot.bar(color = ['salmon', 'blue'] )\n",
    "#or df['target'].value_counts().plot(kind = 'bar')\n",
    "plt.xticks(rotation = 0); # To rotate the xtick labels "
   ]
  },
  {
   "cell_type": "markdown",
   "id": "deaba4de",
   "metadata": {},
   "source": [
    "### B1. Basic info about our dataset"
   ]
  },
  {
   "cell_type": "code",
   "execution_count": 27,
   "id": "8e404933",
   "metadata": {},
   "outputs": [
    {
     "name": "stdout",
     "output_type": "stream",
     "text": [
      "<class 'pandas.core.frame.DataFrame'>\n",
      "RangeIndex: 303 entries, 0 to 302\n",
      "Data columns (total 14 columns):\n",
      " #   Column    Non-Null Count  Dtype  \n",
      "---  ------    --------------  -----  \n",
      " 0   age       303 non-null    int64  \n",
      " 1   sex       303 non-null    int64  \n",
      " 2   cp        303 non-null    int64  \n",
      " 3   trestbps  303 non-null    int64  \n",
      " 4   chol      303 non-null    int64  \n",
      " 5   fbs       303 non-null    int64  \n",
      " 6   restecg   303 non-null    int64  \n",
      " 7   thalach   303 non-null    int64  \n",
      " 8   exang     303 non-null    int64  \n",
      " 9   oldpeak   303 non-null    float64\n",
      " 10  slope     303 non-null    int64  \n",
      " 11  ca        303 non-null    int64  \n",
      " 12  thal      303 non-null    int64  \n",
      " 13  target    303 non-null    int64  \n",
      "dtypes: float64(1), int64(13)\n",
      "memory usage: 33.3 KB\n"
     ]
    }
   ],
   "source": [
    "df.info();"
   ]
  },
  {
   "cell_type": "code",
   "execution_count": 28,
   "id": "c4338c5a",
   "metadata": {},
   "outputs": [
    {
     "data": {
      "text/html": [
       "<div>\n",
       "<style scoped>\n",
       "    .dataframe tbody tr th:only-of-type {\n",
       "        vertical-align: middle;\n",
       "    }\n",
       "\n",
       "    .dataframe tbody tr th {\n",
       "        vertical-align: top;\n",
       "    }\n",
       "\n",
       "    .dataframe thead th {\n",
       "        text-align: right;\n",
       "    }\n",
       "</style>\n",
       "<table border=\"1\" class=\"dataframe\">\n",
       "  <thead>\n",
       "    <tr style=\"text-align: right;\">\n",
       "      <th></th>\n",
       "      <th>age</th>\n",
       "      <th>sex</th>\n",
       "      <th>cp</th>\n",
       "      <th>trestbps</th>\n",
       "      <th>chol</th>\n",
       "      <th>fbs</th>\n",
       "      <th>restecg</th>\n",
       "      <th>thalach</th>\n",
       "      <th>exang</th>\n",
       "      <th>oldpeak</th>\n",
       "      <th>slope</th>\n",
       "      <th>ca</th>\n",
       "      <th>thal</th>\n",
       "      <th>target</th>\n",
       "    </tr>\n",
       "  </thead>\n",
       "  <tbody>\n",
       "    <tr>\n",
       "      <th>count</th>\n",
       "      <td>303.000000</td>\n",
       "      <td>303.000000</td>\n",
       "      <td>303.000000</td>\n",
       "      <td>303.000000</td>\n",
       "      <td>303.000000</td>\n",
       "      <td>303.000000</td>\n",
       "      <td>303.000000</td>\n",
       "      <td>303.000000</td>\n",
       "      <td>303.000000</td>\n",
       "      <td>303.000000</td>\n",
       "      <td>303.000000</td>\n",
       "      <td>303.000000</td>\n",
       "      <td>303.000000</td>\n",
       "      <td>303.000000</td>\n",
       "    </tr>\n",
       "    <tr>\n",
       "      <th>mean</th>\n",
       "      <td>54.366337</td>\n",
       "      <td>0.683168</td>\n",
       "      <td>0.966997</td>\n",
       "      <td>131.623762</td>\n",
       "      <td>246.264026</td>\n",
       "      <td>0.148515</td>\n",
       "      <td>0.528053</td>\n",
       "      <td>149.646865</td>\n",
       "      <td>0.326733</td>\n",
       "      <td>1.039604</td>\n",
       "      <td>1.399340</td>\n",
       "      <td>0.729373</td>\n",
       "      <td>2.313531</td>\n",
       "      <td>0.544554</td>\n",
       "    </tr>\n",
       "    <tr>\n",
       "      <th>std</th>\n",
       "      <td>9.082101</td>\n",
       "      <td>0.466011</td>\n",
       "      <td>1.032052</td>\n",
       "      <td>17.538143</td>\n",
       "      <td>51.830751</td>\n",
       "      <td>0.356198</td>\n",
       "      <td>0.525860</td>\n",
       "      <td>22.905161</td>\n",
       "      <td>0.469794</td>\n",
       "      <td>1.161075</td>\n",
       "      <td>0.616226</td>\n",
       "      <td>1.022606</td>\n",
       "      <td>0.612277</td>\n",
       "      <td>0.498835</td>\n",
       "    </tr>\n",
       "    <tr>\n",
       "      <th>min</th>\n",
       "      <td>29.000000</td>\n",
       "      <td>0.000000</td>\n",
       "      <td>0.000000</td>\n",
       "      <td>94.000000</td>\n",
       "      <td>126.000000</td>\n",
       "      <td>0.000000</td>\n",
       "      <td>0.000000</td>\n",
       "      <td>71.000000</td>\n",
       "      <td>0.000000</td>\n",
       "      <td>0.000000</td>\n",
       "      <td>0.000000</td>\n",
       "      <td>0.000000</td>\n",
       "      <td>0.000000</td>\n",
       "      <td>0.000000</td>\n",
       "    </tr>\n",
       "    <tr>\n",
       "      <th>25%</th>\n",
       "      <td>47.500000</td>\n",
       "      <td>0.000000</td>\n",
       "      <td>0.000000</td>\n",
       "      <td>120.000000</td>\n",
       "      <td>211.000000</td>\n",
       "      <td>0.000000</td>\n",
       "      <td>0.000000</td>\n",
       "      <td>133.500000</td>\n",
       "      <td>0.000000</td>\n",
       "      <td>0.000000</td>\n",
       "      <td>1.000000</td>\n",
       "      <td>0.000000</td>\n",
       "      <td>2.000000</td>\n",
       "      <td>0.000000</td>\n",
       "    </tr>\n",
       "    <tr>\n",
       "      <th>50%</th>\n",
       "      <td>55.000000</td>\n",
       "      <td>1.000000</td>\n",
       "      <td>1.000000</td>\n",
       "      <td>130.000000</td>\n",
       "      <td>240.000000</td>\n",
       "      <td>0.000000</td>\n",
       "      <td>1.000000</td>\n",
       "      <td>153.000000</td>\n",
       "      <td>0.000000</td>\n",
       "      <td>0.800000</td>\n",
       "      <td>1.000000</td>\n",
       "      <td>0.000000</td>\n",
       "      <td>2.000000</td>\n",
       "      <td>1.000000</td>\n",
       "    </tr>\n",
       "    <tr>\n",
       "      <th>75%</th>\n",
       "      <td>61.000000</td>\n",
       "      <td>1.000000</td>\n",
       "      <td>2.000000</td>\n",
       "      <td>140.000000</td>\n",
       "      <td>274.500000</td>\n",
       "      <td>0.000000</td>\n",
       "      <td>1.000000</td>\n",
       "      <td>166.000000</td>\n",
       "      <td>1.000000</td>\n",
       "      <td>1.600000</td>\n",
       "      <td>2.000000</td>\n",
       "      <td>1.000000</td>\n",
       "      <td>3.000000</td>\n",
       "      <td>1.000000</td>\n",
       "    </tr>\n",
       "    <tr>\n",
       "      <th>max</th>\n",
       "      <td>77.000000</td>\n",
       "      <td>1.000000</td>\n",
       "      <td>3.000000</td>\n",
       "      <td>200.000000</td>\n",
       "      <td>564.000000</td>\n",
       "      <td>1.000000</td>\n",
       "      <td>2.000000</td>\n",
       "      <td>202.000000</td>\n",
       "      <td>1.000000</td>\n",
       "      <td>6.200000</td>\n",
       "      <td>2.000000</td>\n",
       "      <td>4.000000</td>\n",
       "      <td>3.000000</td>\n",
       "      <td>1.000000</td>\n",
       "    </tr>\n",
       "  </tbody>\n",
       "</table>\n",
       "</div>"
      ],
      "text/plain": [
       "              age         sex          cp    trestbps        chol         fbs  \\\n",
       "count  303.000000  303.000000  303.000000  303.000000  303.000000  303.000000   \n",
       "mean    54.366337    0.683168    0.966997  131.623762  246.264026    0.148515   \n",
       "std      9.082101    0.466011    1.032052   17.538143   51.830751    0.356198   \n",
       "min     29.000000    0.000000    0.000000   94.000000  126.000000    0.000000   \n",
       "25%     47.500000    0.000000    0.000000  120.000000  211.000000    0.000000   \n",
       "50%     55.000000    1.000000    1.000000  130.000000  240.000000    0.000000   \n",
       "75%     61.000000    1.000000    2.000000  140.000000  274.500000    0.000000   \n",
       "max     77.000000    1.000000    3.000000  200.000000  564.000000    1.000000   \n",
       "\n",
       "          restecg     thalach       exang     oldpeak       slope          ca  \\\n",
       "count  303.000000  303.000000  303.000000  303.000000  303.000000  303.000000   \n",
       "mean     0.528053  149.646865    0.326733    1.039604    1.399340    0.729373   \n",
       "std      0.525860   22.905161    0.469794    1.161075    0.616226    1.022606   \n",
       "min      0.000000   71.000000    0.000000    0.000000    0.000000    0.000000   \n",
       "25%      0.000000  133.500000    0.000000    0.000000    1.000000    0.000000   \n",
       "50%      1.000000  153.000000    0.000000    0.800000    1.000000    0.000000   \n",
       "75%      1.000000  166.000000    1.000000    1.600000    2.000000    1.000000   \n",
       "max      2.000000  202.000000    1.000000    6.200000    2.000000    4.000000   \n",
       "\n",
       "             thal      target  \n",
       "count  303.000000  303.000000  \n",
       "mean     2.313531    0.544554  \n",
       "std      0.612277    0.498835  \n",
       "min      0.000000    0.000000  \n",
       "25%      2.000000    0.000000  \n",
       "50%      2.000000    1.000000  \n",
       "75%      3.000000    1.000000  \n",
       "max      3.000000    1.000000  "
      ]
     },
     "execution_count": 28,
     "metadata": {},
     "output_type": "execute_result"
    }
   ],
   "source": [
    "df.describe()"
   ]
  },
  {
   "cell_type": "code",
   "execution_count": 29,
   "id": "e12fcf69",
   "metadata": {},
   "outputs": [
    {
     "data": {
      "text/plain": [
       "age         0\n",
       "sex         0\n",
       "cp          0\n",
       "trestbps    0\n",
       "chol        0\n",
       "fbs         0\n",
       "restecg     0\n",
       "thalach     0\n",
       "exang       0\n",
       "oldpeak     0\n",
       "slope       0\n",
       "ca          0\n",
       "thal        0\n",
       "target      0\n",
       "dtype: int64"
      ]
     },
     "execution_count": 29,
     "metadata": {},
     "output_type": "execute_result"
    }
   ],
   "source": [
    "df.isna().sum()"
   ]
  },
  {
   "cell_type": "markdown",
   "id": "91a94c6e",
   "metadata": {},
   "source": [
    "### B2. Now lets Correlate and extract some information from our data to help undersatnd relationships between various features"
   ]
  },
  {
   "cell_type": "markdown",
   "id": "b324cdca",
   "metadata": {},
   "source": [
    "> ### B2.1 Sex Vs Target"
   ]
  },
  {
   "cell_type": "code",
   "execution_count": 30,
   "id": "4821f2b3",
   "metadata": {},
   "outputs": [
    {
     "data": {
      "text/plain": [
       "1    207\n",
       "0     96\n",
       "Name: sex, dtype: int64"
      ]
     },
     "execution_count": 30,
     "metadata": {},
     "output_type": "execute_result"
    }
   ],
   "source": [
    "df.sex.value_counts()"
   ]
  },
  {
   "cell_type": "code",
   "execution_count": 39,
   "id": "03ea6dc0",
   "metadata": {},
   "outputs": [
    {
     "data": {
      "text/html": [
       "<div>\n",
       "<style scoped>\n",
       "    .dataframe tbody tr th:only-of-type {\n",
       "        vertical-align: middle;\n",
       "    }\n",
       "\n",
       "    .dataframe tbody tr th {\n",
       "        vertical-align: top;\n",
       "    }\n",
       "\n",
       "    .dataframe thead th {\n",
       "        text-align: right;\n",
       "    }\n",
       "</style>\n",
       "<table border=\"1\" class=\"dataframe\">\n",
       "  <thead>\n",
       "    <tr style=\"text-align: right;\">\n",
       "      <th>sex</th>\n",
       "      <th>0</th>\n",
       "      <th>1</th>\n",
       "    </tr>\n",
       "    <tr>\n",
       "      <th>target</th>\n",
       "      <th></th>\n",
       "      <th></th>\n",
       "    </tr>\n",
       "  </thead>\n",
       "  <tbody>\n",
       "    <tr>\n",
       "      <th>0</th>\n",
       "      <td>24</td>\n",
       "      <td>114</td>\n",
       "    </tr>\n",
       "    <tr>\n",
       "      <th>1</th>\n",
       "      <td>72</td>\n",
       "      <td>93</td>\n",
       "    </tr>\n",
       "  </tbody>\n",
       "</table>\n",
       "</div>"
      ],
      "text/plain": [
       "sex      0    1\n",
       "target         \n",
       "0       24  114\n",
       "1       72   93"
      ]
     },
     "execution_count": 39,
     "metadata": {},
     "output_type": "execute_result"
    }
   ],
   "source": [
    "# Comparing target column with sex column\n",
    "mat = pd.crosstab(df.target, df.sex)\n",
    "mat\n",
    "#or pd.crosstab(df['target'], df['sex'])"
   ]
  },
  {
   "cell_type": "code",
   "execution_count": 65,
   "id": "90e50134",
   "metadata": {},
   "outputs": [
    {
     "data": {
      "image/png": "[encoded data removed]",
      "text/plain": [
       "<Figure size 432x288 with 2 Axes>"
      ]
     },
     "metadata": {
      "needs_background": "light"
     },
     "output_type": "display_data"
    }
   ],
   "source": [
    "#Plotting it on a heatmap\n",
    "sns.heatmap(mat, annot = True, cbar = True,)\n",
    "plt.title('Sex vs Target frequency chart')\n",
    "plt.xlabel('Sex (0 = Female, 1 = Male)')\n",
    "plt.ylabel('Target (0 = Not disease, 1 = Disease)');"
   ]
  },
  {
   "cell_type": "code",
   "execution_count": 68,
   "id": "196b54ff",
   "metadata": {},
   "outputs": [
    {
     "data": {
      "image/png": "[encoded data removed]",
      "text/plain": [
       "<Figure size 576x432 with 1 Axes>"
      ]
     },
     "metadata": {
      "needs_background": "light"
     },
     "output_type": "display_data"
    }
   ],
   "source": [
    "pd.crosstab(df.target,df.sex).plot(kind = 'bar', color = ['salmon','lightblue'], figsize = (8,6))\n",
    "plt.xticks(rotation = 0)\n",
    "plt.title('Frequency of Sex Variable with Target Variable')\n",
    "plt.xlabel('Target (0=No Disease, 1 = Disease)')\n",
    "plt.ylabel('Frequency')\n",
    "plt.legend(['Female', 'Male']);"
   ]
  },
  {
   "cell_type": "markdown",
   "id": "47785fb0",
   "metadata": {},
   "source": [
    "> ### B2.2 Age vs thalach for Heart Disease (i-e for target = 1)"
   ]
  },
  {
   "cell_type": "code",
   "execution_count": 86,
   "id": "1fe0e0fb",
   "metadata": {},
   "outputs": [
    {
     "data": {
      "image/png": "[encoded data removed]",
      "text/plain": [
       "<Figure size 576x432 with 1 Axes>"
      ]
     },
     "metadata": {
      "needs_background": "light"
     },
     "output_type": "display_data"
    }
   ],
   "source": [
    "plt.figure(figsize = (8,6))\n",
    "plt.scatter(df.age[df.target==1], df.thalach[df.target==1], c = 'red')\n",
    "plt.title('Age vs thalach values for Heart Disease')\n",
    "plt.xlabel('Age')\n",
    "plt.ylabel('Max Heart Rate (beats per minute)')\n",
    "plt.scatter(df.age[df.target==0], df.thalach[df.target==0], c= 'green')\n",
    "plt.legend(['Heart Disease', 'No Heart Disease']);"
   ]
  },
  {
   "cell_type": "code",
   "execution_count": 89,
   "id": "77b8d886",
   "metadata": {},
   "outputs": [
    {
     "data": {
      "image/png": "[encoded data removed]",
      "text/plain": [
       "<Figure size 432x288 with 1 Axes>"
      ]
     },
     "metadata": {
      "needs_background": "light"
     },
     "output_type": "display_data"
    }
   ],
   "source": [
    "df['age'].plot.hist();"
   ]
  },
  {
   "cell_type": "code",
   "execution_count": 90,
   "id": "d0c3f895",
   "metadata": {},
   "outputs": [],
   "source": [
    "# Looks like a normal distribution curve"
   ]
  },
  {
   "cell_type": "markdown",
   "id": "679b0871",
   "metadata": {},
   "source": [
    ">### B2.3 Chest pain type for Heart Disease"
   ]
  },
  {
   "cell_type": "code",
   "execution_count": 91,
   "id": "8fefd074",
   "metadata": {},
   "outputs": [
    {
     "data": {
      "text/plain": [
       "0    143\n",
       "2     87\n",
       "1     50\n",
       "3     23\n",
       "Name: cp, dtype: int64"
      ]
     },
     "execution_count": 91,
     "metadata": {},
     "output_type": "execute_result"
    }
   ],
   "source": [
    "df.cp.value_counts()"
   ]
  },
  {
   "cell_type": "code",
   "execution_count": 93,
   "id": "4f7db6b1",
   "metadata": {},
   "outputs": [
    {
     "data": {
      "text/plain": [
       "2    69\n",
       "1    41\n",
       "0    39\n",
       "3    16\n",
       "Name: cp, dtype: int64"
      ]
     },
     "execution_count": 93,
     "metadata": {},
     "output_type": "execute_result"
    }
   ],
   "source": [
    "df.cp[df.target==1].value_counts()"
   ]
  },
  {
   "cell_type": "code",
   "execution_count": 119,
   "id": "d33018c8",
   "metadata": {},
   "outputs": [
    {
     "data": {
      "image/png": "[encoded data removed]",
      "text/plain": [
       "<Figure size 504x360 with 1 Axes>"
      ]
     },
     "metadata": {
      "needs_background": "light"
     },
     "output_type": "display_data"
    }
   ],
   "source": [
    "df.cp.value_counts().plot.bar(figsize = (7,5));\n",
    "plt.xticks(rotation = 0)\n",
    "plt.title('Chest pain frequency for Heart Disease')\n",
    "plt.xlabel('Chest pain type')\n",
    "plt.ylabel('Frequency');"
   ]
  },
  {
   "cell_type": "code",
   "execution_count": 120,
   "id": "a4d55932",
   "metadata": {},
   "outputs": [
    {
     "data": {
      "text/html": [
       "<div>\n",
       "<style scoped>\n",
       "    .dataframe tbody tr th:only-of-type {\n",
       "        vertical-align: middle;\n",
       "    }\n",
       "\n",
       "    .dataframe tbody tr th {\n",
       "        vertical-align: top;\n",
       "    }\n",
       "\n",
       "    .dataframe thead th {\n",
       "        text-align: right;\n",
       "    }\n",
       "</style>\n",
       "<table border=\"1\" class=\"dataframe\">\n",
       "  <thead>\n",
       "    <tr style=\"text-align: right;\">\n",
       "      <th>target</th>\n",
       "      <th>0</th>\n",
       "      <th>1</th>\n",
       "    </tr>\n",
       "    <tr>\n",
       "      <th>cp</th>\n",
       "      <th></th>\n",
       "      <th></th>\n",
       "    </tr>\n",
       "  </thead>\n",
       "  <tbody>\n",
       "    <tr>\n",
       "      <th>0</th>\n",
       "      <td>104</td>\n",
       "      <td>39</td>\n",
       "    </tr>\n",
       "    <tr>\n",
       "      <th>1</th>\n",
       "      <td>9</td>\n",
       "      <td>41</td>\n",
       "    </tr>\n",
       "    <tr>\n",
       "      <th>2</th>\n",
       "      <td>18</td>\n",
       "      <td>69</td>\n",
       "    </tr>\n",
       "    <tr>\n",
       "      <th>3</th>\n",
       "      <td>7</td>\n",
       "      <td>16</td>\n",
       "    </tr>\n",
       "  </tbody>\n",
       "</table>\n",
       "</div>"
      ],
      "text/plain": [
       "target    0   1\n",
       "cp             \n",
       "0       104  39\n",
       "1         9  41\n",
       "2        18  69\n",
       "3         7  16"
      ]
     },
     "execution_count": 120,
     "metadata": {},
     "output_type": "execute_result"
    }
   ],
   "source": [
    "pd.crosstab(df.cp, df.target)"
   ]
  },
  {
   "cell_type": "code",
   "execution_count": 136,
   "id": "43fdea11",
   "metadata": {},
   "outputs": [
    {
     "data": {
      "image/png": "[encoded data removed]",
      "text/plain": [
       "<Figure size 576x432 with 1 Axes>"
      ]
     },
     "metadata": {
      "needs_background": "light"
     },
     "output_type": "display_data"
    }
   ],
   "source": [
    "pd.crosstab(df.cp, df.target).plot.bar(figsize = (8,6), color = ['green', 'red']);\n",
    "plt.title('Chest pain Frequency vs Chest Pain Type')\n",
    "plt.xlabel('Chest pain type')\n",
    "plt.ylabel('Frequency')\n",
    "plt.legend(['No Heart Disease', 'Heart Disease'])\n",
    "plt.xticks(rotation = 0);"
   ]
  },
  {
   "cell_type": "markdown",
   "id": "7907dab2",
   "metadata": {},
   "source": [
    "### C. Correlation Matrix"
   ]
  },
  {
   "cell_type": "code",
   "execution_count": 137,
   "id": "32cbe757",
   "metadata": {},
   "outputs": [
    {
     "data": {
      "text/html": [
       "<div>\n",
       "<style scoped>\n",
       "    .dataframe tbody tr th:only-of-type {\n",
       "        vertical-align: middle;\n",
       "    }\n",
       "\n",
       "    .dataframe tbody tr th {\n",
       "        vertical-align: top;\n",
       "    }\n",
       "\n",
       "    .dataframe thead th {\n",
       "        text-align: right;\n",
       "    }\n",
       "</style>\n",
       "<table border=\"1\" class=\"dataframe\">\n",
       "  <thead>\n",
       "    <tr style=\"text-align: right;\">\n",
       "      <th></th>\n",
       "      <th>age</th>\n",
       "      <th>sex</th>\n",
       "      <th>cp</th>\n",
       "      <th>trestbps</th>\n",
       "      <th>chol</th>\n",
       "      <th>fbs</th>\n",
       "      <th>restecg</th>\n",
       "      <th>thalach</th>\n",
       "      <th>exang</th>\n",
       "      <th>oldpeak</th>\n",
       "      <th>slope</th>\n",
       "      <th>ca</th>\n",
       "      <th>thal</th>\n",
       "      <th>target</th>\n",
       "    </tr>\n",
       "  </thead>\n",
       "  <tbody>\n",
       "    <tr>\n",
       "      <th>age</th>\n",
       "      <td>1.000000</td>\n",
       "      <td>-0.098447</td>\n",
       "      <td>-0.068653</td>\n",
       "      <td>0.279351</td>\n",
       "      <td>0.213678</td>\n",
       "      <td>0.121308</td>\n",
       "      <td>-0.116211</td>\n",
       "      <td>-0.398522</td>\n",
       "      <td>0.096801</td>\n",
       "      <td>0.210013</td>\n",
       "      <td>-0.168814</td>\n",
       "      <td>0.276326</td>\n",
       "      <td>0.068001</td>\n",
       "      <td>-0.225439</td>\n",
       "    </tr>\n",
       "    <tr>\n",
       "      <th>sex</th>\n",
       "      <td>-0.098447</td>\n",
       "      <td>1.000000</td>\n",
       "      <td>-0.049353</td>\n",
       "      <td>-0.056769</td>\n",
       "      <td>-0.197912</td>\n",
       "      <td>0.045032</td>\n",
       "      <td>-0.058196</td>\n",
       "      <td>-0.044020</td>\n",
       "      <td>0.141664</td>\n",
       "      <td>0.096093</td>\n",
       "      <td>-0.030711</td>\n",
       "      <td>0.118261</td>\n",
       "      <td>0.210041</td>\n",
       "      <td>-0.280937</td>\n",
       "    </tr>\n",
       "    <tr>\n",
       "      <th>cp</th>\n",
       "      <td>-0.068653</td>\n",
       "      <td>-0.049353</td>\n",
       "      <td>1.000000</td>\n",
       "      <td>0.047608</td>\n",
       "      <td>-0.076904</td>\n",
       "      <td>0.094444</td>\n",
       "      <td>0.044421</td>\n",
       "      <td>0.295762</td>\n",
       "      <td>-0.394280</td>\n",
       "      <td>-0.149230</td>\n",
       "      <td>0.119717</td>\n",
       "      <td>-0.181053</td>\n",
       "      <td>-0.161736</td>\n",
       "      <td>0.433798</td>\n",
       "    </tr>\n",
       "    <tr>\n",
       "      <th>trestbps</th>\n",
       "      <td>0.279351</td>\n",
       "      <td>-0.056769</td>\n",
       "      <td>0.047608</td>\n",
       "      <td>1.000000</td>\n",
       "      <td>0.123174</td>\n",
       "      <td>0.177531</td>\n",
       "      <td>-0.114103</td>\n",
       "      <td>-0.046698</td>\n",
       "      <td>0.067616</td>\n",
       "      <td>0.193216</td>\n",
       "      <td>-0.121475</td>\n",
       "      <td>0.101389</td>\n",
       "      <td>0.062210</td>\n",
       "      <td>-0.144931</td>\n",
       "    </tr>\n",
       "    <tr>\n",
       "      <th>chol</th>\n",
       "      <td>0.213678</td>\n",
       "      <td>-0.197912</td>\n",
       "      <td>-0.076904</td>\n",
       "      <td>0.123174</td>\n",
       "      <td>1.000000</td>\n",
       "      <td>0.013294</td>\n",
       "      <td>-0.151040</td>\n",
       "      <td>-0.009940</td>\n",
       "      <td>0.067023</td>\n",
       "      <td>0.053952</td>\n",
       "      <td>-0.004038</td>\n",
       "      <td>0.070511</td>\n",
       "      <td>0.098803</td>\n",
       "      <td>-0.085239</td>\n",
       "    </tr>\n",
       "    <tr>\n",
       "      <th>fbs</th>\n",
       "      <td>0.121308</td>\n",
       "      <td>0.045032</td>\n",
       "      <td>0.094444</td>\n",
       "      <td>0.177531</td>\n",
       "      <td>0.013294</td>\n",
       "      <td>1.000000</td>\n",
       "      <td>-0.084189</td>\n",
       "      <td>-0.008567</td>\n",
       "      <td>0.025665</td>\n",
       "      <td>0.005747</td>\n",
       "      <td>-0.059894</td>\n",
       "      <td>0.137979</td>\n",
       "      <td>-0.032019</td>\n",
       "      <td>-0.028046</td>\n",
       "    </tr>\n",
       "    <tr>\n",
       "      <th>restecg</th>\n",
       "      <td>-0.116211</td>\n",
       "      <td>-0.058196</td>\n",
       "      <td>0.044421</td>\n",
       "      <td>-0.114103</td>\n",
       "      <td>-0.151040</td>\n",
       "      <td>-0.084189</td>\n",
       "      <td>1.000000</td>\n",
       "      <td>0.044123</td>\n",
       "      <td>-0.070733</td>\n",
       "      <td>-0.058770</td>\n",
       "      <td>0.093045</td>\n",
       "      <td>-0.072042</td>\n",
       "      <td>-0.011981</td>\n",
       "      <td>0.137230</td>\n",
       "    </tr>\n",
       "    <tr>\n",
       "      <th>thalach</th>\n",
       "      <td>-0.398522</td>\n",
       "      <td>-0.044020</td>\n",
       "      <td>0.295762</td>\n",
       "      <td>-0.046698</td>\n",
       "      <td>-0.009940</td>\n",
       "      <td>-0.008567</td>\n",
       "      <td>0.044123</td>\n",
       "      <td>1.000000</td>\n",
       "      <td>-0.378812</td>\n",
       "      <td>-0.344187</td>\n",
       "      <td>0.386784</td>\n",
       "      <td>-0.213177</td>\n",
       "      <td>-0.096439</td>\n",
       "      <td>0.421741</td>\n",
       "    </tr>\n",
       "    <tr>\n",
       "      <th>exang</th>\n",
       "      <td>0.096801</td>\n",
       "      <td>0.141664</td>\n",
       "      <td>-0.394280</td>\n",
       "      <td>0.067616</td>\n",
       "      <td>0.067023</td>\n",
       "      <td>0.025665</td>\n",
       "      <td>-0.070733</td>\n",
       "      <td>-0.378812</td>\n",
       "      <td>1.000000</td>\n",
       "      <td>0.288223</td>\n",
       "      <td>-0.257748</td>\n",
       "      <td>0.115739</td>\n",
       "      <td>0.206754</td>\n",
       "      <td>-0.436757</td>\n",
       "    </tr>\n",
       "    <tr>\n",
       "      <th>oldpeak</th>\n",
       "      <td>0.210013</td>\n",
       "      <td>0.096093</td>\n",
       "      <td>-0.149230</td>\n",
       "      <td>0.193216</td>\n",
       "      <td>0.053952</td>\n",
       "      <td>0.005747</td>\n",
       "      <td>-0.058770</td>\n",
       "      <td>-0.344187</td>\n",
       "      <td>0.288223</td>\n",
       "      <td>1.000000</td>\n",
       "      <td>-0.577537</td>\n",
       "      <td>0.222682</td>\n",
       "      <td>0.210244</td>\n",
       "      <td>-0.430696</td>\n",
       "    </tr>\n",
       "    <tr>\n",
       "      <th>slope</th>\n",
       "      <td>-0.168814</td>\n",
       "      <td>-0.030711</td>\n",
       "      <td>0.119717</td>\n",
       "      <td>-0.121475</td>\n",
       "      <td>-0.004038</td>\n",
       "      <td>-0.059894</td>\n",
       "      <td>0.093045</td>\n",
       "      <td>0.386784</td>\n",
       "      <td>-0.257748</td>\n",
       "      <td>-0.577537</td>\n",
       "      <td>1.000000</td>\n",
       "      <td>-0.080155</td>\n",
       "      <td>-0.104764</td>\n",
       "      <td>0.345877</td>\n",
       "    </tr>\n",
       "    <tr>\n",
       "      <th>ca</th>\n",
       "      <td>0.276326</td>\n",
       "      <td>0.118261</td>\n",
       "      <td>-0.181053</td>\n",
       "      <td>0.101389</td>\n",
       "      <td>0.070511</td>\n",
       "      <td>0.137979</td>\n",
       "      <td>-0.072042</td>\n",
       "      <td>-0.213177</td>\n",
       "      <td>0.115739</td>\n",
       "      <td>0.222682</td>\n",
       "      <td>-0.080155</td>\n",
       "      <td>1.000000</td>\n",
       "      <td>0.151832</td>\n",
       "      <td>-0.391724</td>\n",
       "    </tr>\n",
       "    <tr>\n",
       "      <th>thal</th>\n",
       "      <td>0.068001</td>\n",
       "      <td>0.210041</td>\n",
       "      <td>-0.161736</td>\n",
       "      <td>0.062210</td>\n",
       "      <td>0.098803</td>\n",
       "      <td>-0.032019</td>\n",
       "      <td>-0.011981</td>\n",
       "      <td>-0.096439</td>\n",
       "      <td>0.206754</td>\n",
       "      <td>0.210244</td>\n",
       "      <td>-0.104764</td>\n",
       "      <td>0.151832</td>\n",
       "      <td>1.000000</td>\n",
       "      <td>-0.344029</td>\n",
       "    </tr>\n",
       "    <tr>\n",
       "      <th>target</th>\n",
       "      <td>-0.225439</td>\n",
       "      <td>-0.280937</td>\n",
       "      <td>0.433798</td>\n",
       "      <td>-0.144931</td>\n",
       "      <td>-0.085239</td>\n",
       "      <td>-0.028046</td>\n",
       "      <td>0.137230</td>\n",
       "      <td>0.421741</td>\n",
       "      <td>-0.436757</td>\n",
       "      <td>-0.430696</td>\n",
       "      <td>0.345877</td>\n",
       "      <td>-0.391724</td>\n",
       "      <td>-0.344029</td>\n",
       "      <td>1.000000</td>\n",
       "    </tr>\n",
       "  </tbody>\n",
       "</table>\n",
       "</div>"
      ],
      "text/plain": [
       "               age       sex        cp  trestbps      chol       fbs  \\\n",
       "age       1.000000 -0.098447 -0.068653  0.279351  0.213678  0.121308   \n",
       "sex      -0.098447  1.000000 -0.049353 -0.056769 -0.197912  0.045032   \n",
       "cp       -0.068653 -0.049353  1.000000  0.047608 -0.076904  0.094444   \n",
       "trestbps  0.279351 -0.056769  0.047608  1.000000  0.123174  0.177531   \n",
       "chol      0.213678 -0.197912 -0.076904  0.123174  1.000000  0.013294   \n",
       "fbs       0.121308  0.045032  0.094444  0.177531  0.013294  1.000000   \n",
       "restecg  -0.116211 -0.058196  0.044421 -0.114103 -0.151040 -0.084189   \n",
       "thalach  -0.398522 -0.044020  0.295762 -0.046698 -0.009940 -0.008567   \n",
       "exang     0.096801  0.141664 -0.394280  0.067616  0.067023  0.025665   \n",
       "oldpeak   0.210013  0.096093 -0.149230  0.193216  0.053952  0.005747   \n",
       "slope    -0.168814 -0.030711  0.119717 -0.121475 -0.004038 -0.059894   \n",
       "ca        0.276326  0.118261 -0.181053  0.101389  0.070511  0.137979   \n",
       "thal      0.068001  0.210041 -0.161736  0.062210  0.098803 -0.032019   \n",
       "target   -0.225439 -0.280937  0.433798 -0.144931 -0.085239 -0.028046   \n",
       "\n",
       "           restecg   thalach     exang   oldpeak     slope        ca  \\\n",
       "age      -0.116211 -0.398522  0.096801  0.210013 -0.168814  0.276326   \n",
       "sex      -0.058196 -0.044020  0.141664  0.096093 -0.030711  0.118261   \n",
       "cp        0.044421  0.295762 -0.394280 -0.149230  0.119717 -0.181053   \n",
       "trestbps -0.114103 -0.046698  0.067616  0.193216 -0.121475  0.101389   \n",
       "chol     -0.151040 -0.009940  0.067023  0.053952 -0.004038  0.070511   \n",
       "fbs      -0.084189 -0.008567  0.025665  0.005747 -0.059894  0.137979   \n",
       "restecg   1.000000  0.044123 -0.070733 -0.058770  0.093045 -0.072042   \n",
       "thalach   0.044123  1.000000 -0.378812 -0.344187  0.386784 -0.213177   \n",
       "exang    -0.070733 -0.378812  1.000000  0.288223 -0.257748  0.115739   \n",
       "oldpeak  -0.058770 -0.344187  0.288223  1.000000 -0.577537  0.222682   \n",
       "slope     0.093045  0.386784 -0.257748 -0.577537  1.000000 -0.080155   \n",
       "ca       -0.072042 -0.213177  0.115739  0.222682 -0.080155  1.000000   \n",
       "thal     -0.011981 -0.096439  0.206754  0.210244 -0.104764  0.151832   \n",
       "target    0.137230  0.421741 -0.436757 -0.430696  0.345877 -0.391724   \n",
       "\n",
       "              thal    target  \n",
       "age       0.068001 -0.225439  \n",
       "sex       0.210041 -0.280937  \n",
       "cp       -0.161736  0.433798  \n",
       "trestbps  0.062210 -0.144931  \n",
       "chol      0.098803 -0.085239  \n",
       "fbs      -0.032019 -0.028046  \n",
       "restecg  -0.011981  0.137230  \n",
       "thalach  -0.096439  0.421741  \n",
       "exang     0.206754 -0.436757  \n",
       "oldpeak   0.210244 -0.430696  \n",
       "slope    -0.104764  0.345877  \n",
       "ca        0.151832 -0.391724  \n",
       "thal      1.000000 -0.344029  \n",
       "target   -0.344029  1.000000  "
      ]
     },
     "execution_count": 137,
     "metadata": {},
     "output_type": "execute_result"
    }
   ],
   "source": [
    "df.corr()"
   ]
  },
  {
   "cell_type": "code",
   "execution_count": 158,
   "id": "0efbb5a0",
   "metadata": {},
   "outputs": [
    {
     "data": {
      "image/png": "[encoded data removed]",
      "text/plain": [
       "<Figure size 936x936 with 2 Axes>"
      ]
     },
     "metadata": {
      "needs_background": "light"
     },
     "output_type": "display_data"
    }
   ],
   "source": [
    "correlation_matrix = df.corr()\n",
    "fig,ax = plt.subplots(figsize = (13,13))\n",
    "ax = sns.heatmap(correlation_matrix, annot = True, cbar = True, fmt = \".2f\",cmap = 'icefire')\n",
    "\n",
    "#or plt.figure(figsize=(13,13))\n",
    "#sns.heatmap(correlation_matrix, annot = True, cbar = True, fmt = \".2f\",cmap = 'icefire');\n",
    "\n",
    "# We know the concept of correlation right? ( (0,1)-Direct reletation, 0-No relation, (-1,0)-Inverse relation)"
   ]
  },
  {
   "cell_type": "markdown",
   "id": "0234c449",
   "metadata": {},
   "source": [
    "### 5.Modelling"
   ]
  },
  {
   "cell_type": "code",
   "execution_count": 4,
   "id": "caab2c57",
   "metadata": {},
   "outputs": [
    {
     "data": {
      "text/html": [
       "<div>\n",
       "<style scoped>\n",
       "    .dataframe tbody tr th:only-of-type {\n",
       "        vertical-align: middle;\n",
       "    }\n",
       "\n",
       "    .dataframe tbody tr th {\n",
       "        vertical-align: top;\n",
       "    }\n",
       "\n",
       "    .dataframe thead th {\n",
       "        text-align: right;\n",
       "    }\n",
       "</style>\n",
       "<table border=\"1\" class=\"dataframe\">\n",
       "  <thead>\n",
       "    <tr style=\"text-align: right;\">\n",
       "      <th></th>\n",
       "      <th>age</th>\n",
       "      <th>sex</th>\n",
       "      <th>cp</th>\n",
       "      <th>trestbps</th>\n",
       "      <th>chol</th>\n",
       "      <th>fbs</th>\n",
       "      <th>restecg</th>\n",
       "      <th>thalach</th>\n",
       "      <th>exang</th>\n",
       "      <th>oldpeak</th>\n",
       "      <th>slope</th>\n",
       "      <th>ca</th>\n",
       "      <th>thal</th>\n",
       "      <th>target</th>\n",
       "    </tr>\n",
       "  </thead>\n",
       "  <tbody>\n",
       "    <tr>\n",
       "      <th>0</th>\n",
       "      <td>63</td>\n",
       "      <td>1</td>\n",
       "      <td>3</td>\n",
       "      <td>145</td>\n",
       "      <td>233</td>\n",
       "      <td>1</td>\n",
       "      <td>0</td>\n",
       "      <td>150</td>\n",
       "      <td>0</td>\n",
       "      <td>2.3</td>\n",
       "      <td>0</td>\n",
       "      <td>0</td>\n",
       "      <td>1</td>\n",
       "      <td>1</td>\n",
       "    </tr>\n",
       "    <tr>\n",
       "      <th>1</th>\n",
       "      <td>37</td>\n",
       "      <td>1</td>\n",
       "      <td>2</td>\n",
       "      <td>130</td>\n",
       "      <td>250</td>\n",
       "      <td>0</td>\n",
       "      <td>1</td>\n",
       "      <td>187</td>\n",
       "      <td>0</td>\n",
       "      <td>3.5</td>\n",
       "      <td>0</td>\n",
       "      <td>0</td>\n",
       "      <td>2</td>\n",
       "      <td>1</td>\n",
       "    </tr>\n",
       "    <tr>\n",
       "      <th>2</th>\n",
       "      <td>41</td>\n",
       "      <td>0</td>\n",
       "      <td>1</td>\n",
       "      <td>130</td>\n",
       "      <td>204</td>\n",
       "      <td>0</td>\n",
       "      <td>0</td>\n",
       "      <td>172</td>\n",
       "      <td>0</td>\n",
       "      <td>1.4</td>\n",
       "      <td>2</td>\n",
       "      <td>0</td>\n",
       "      <td>2</td>\n",
       "      <td>1</td>\n",
       "    </tr>\n",
       "    <tr>\n",
       "      <th>3</th>\n",
       "      <td>56</td>\n",
       "      <td>1</td>\n",
       "      <td>1</td>\n",
       "      <td>120</td>\n",
       "      <td>236</td>\n",
       "      <td>0</td>\n",
       "      <td>1</td>\n",
       "      <td>178</td>\n",
       "      <td>0</td>\n",
       "      <td>0.8</td>\n",
       "      <td>2</td>\n",
       "      <td>0</td>\n",
       "      <td>2</td>\n",
       "      <td>1</td>\n",
       "    </tr>\n",
       "    <tr>\n",
       "      <th>4</th>\n",
       "      <td>57</td>\n",
       "      <td>0</td>\n",
       "      <td>0</td>\n",
       "      <td>120</td>\n",
       "      <td>354</td>\n",
       "      <td>0</td>\n",
       "      <td>1</td>\n",
       "      <td>163</td>\n",
       "      <td>1</td>\n",
       "      <td>0.6</td>\n",
       "      <td>2</td>\n",
       "      <td>0</td>\n",
       "      <td>2</td>\n",
       "      <td>1</td>\n",
       "    </tr>\n",
       "  </tbody>\n",
       "</table>\n",
       "</div>"
      ],
      "text/plain": [
       "   age  sex  cp  trestbps  chol  fbs  restecg  thalach  exang  oldpeak  slope  \\\n",
       "0   63    1   3       145   233    1        0      150      0      2.3      0   \n",
       "1   37    1   2       130   250    0        1      187      0      3.5      0   \n",
       "2   41    0   1       130   204    0        0      172      0      1.4      2   \n",
       "3   56    1   1       120   236    0        1      178      0      0.8      2   \n",
       "4   57    0   0       120   354    0        1      163      1      0.6      2   \n",
       "\n",
       "   ca  thal  target  \n",
       "0   0     1       1  \n",
       "1   0     2       1  \n",
       "2   0     2       1  \n",
       "3   0     2       1  \n",
       "4   0     2       1  "
      ]
     },
     "execution_count": 4,
     "metadata": {},
     "output_type": "execute_result"
    }
   ],
   "source": [
    "df.head()"
   ]
  },
  {
   "cell_type": "code",
   "execution_count": 7,
   "id": "dd260cd4",
   "metadata": {},
   "outputs": [],
   "source": [
    "# Lets define our feature Variables and Target Variable\n",
    "X = df.drop('target', axis = 1)\n",
    "y = df.target"
   ]
  },
  {
   "cell_type": "code",
   "execution_count": 6,
   "id": "a1ad7c5f",
   "metadata": {},
   "outputs": [
    {
     "data": {
      "text/html": [
       "<div>\n",
       "<style scoped>\n",
       "    .dataframe tbody tr th:only-of-type {\n",
       "        vertical-align: middle;\n",
       "    }\n",
       "\n",
       "    .dataframe tbody tr th {\n",
       "        vertical-align: top;\n",
       "    }\n",
       "\n",
       "    .dataframe thead th {\n",
       "        text-align: right;\n",
       "    }\n",
       "</style>\n",
       "<table border=\"1\" class=\"dataframe\">\n",
       "  <thead>\n",
       "    <tr style=\"text-align: right;\">\n",
       "      <th></th>\n",
       "      <th>age</th>\n",
       "      <th>sex</th>\n",
       "      <th>cp</th>\n",
       "      <th>trestbps</th>\n",
       "      <th>chol</th>\n",
       "      <th>fbs</th>\n",
       "      <th>restecg</th>\n",
       "      <th>thalach</th>\n",
       "      <th>exang</th>\n",
       "      <th>oldpeak</th>\n",
       "      <th>slope</th>\n",
       "      <th>ca</th>\n",
       "      <th>thal</th>\n",
       "    </tr>\n",
       "  </thead>\n",
       "  <tbody>\n",
       "    <tr>\n",
       "      <th>0</th>\n",
       "      <td>63</td>\n",
       "      <td>1</td>\n",
       "      <td>3</td>\n",
       "      <td>145</td>\n",
       "      <td>233</td>\n",
       "      <td>1</td>\n",
       "      <td>0</td>\n",
       "      <td>150</td>\n",
       "      <td>0</td>\n",
       "      <td>2.3</td>\n",
       "      <td>0</td>\n",
       "      <td>0</td>\n",
       "      <td>1</td>\n",
       "    </tr>\n",
       "    <tr>\n",
       "      <th>1</th>\n",
       "      <td>37</td>\n",
       "      <td>1</td>\n",
       "      <td>2</td>\n",
       "      <td>130</td>\n",
       "      <td>250</td>\n",
       "      <td>0</td>\n",
       "      <td>1</td>\n",
       "      <td>187</td>\n",
       "      <td>0</td>\n",
       "      <td>3.5</td>\n",
       "      <td>0</td>\n",
       "      <td>0</td>\n",
       "      <td>2</td>\n",
       "    </tr>\n",
       "    <tr>\n",
       "      <th>2</th>\n",
       "      <td>41</td>\n",
       "      <td>0</td>\n",
       "      <td>1</td>\n",
       "      <td>130</td>\n",
       "      <td>204</td>\n",
       "      <td>0</td>\n",
       "      <td>0</td>\n",
       "      <td>172</td>\n",
       "      <td>0</td>\n",
       "      <td>1.4</td>\n",
       "      <td>2</td>\n",
       "      <td>0</td>\n",
       "      <td>2</td>\n",
       "    </tr>\n",
       "    <tr>\n",
       "      <th>3</th>\n",
       "      <td>56</td>\n",
       "      <td>1</td>\n",
       "      <td>1</td>\n",
       "      <td>120</td>\n",
       "      <td>236</td>\n",
       "      <td>0</td>\n",
       "      <td>1</td>\n",
       "      <td>178</td>\n",
       "      <td>0</td>\n",
       "      <td>0.8</td>\n",
       "      <td>2</td>\n",
       "      <td>0</td>\n",
       "      <td>2</td>\n",
       "    </tr>\n",
       "    <tr>\n",
       "      <th>4</th>\n",
       "      <td>57</td>\n",
       "      <td>0</td>\n",
       "      <td>0</td>\n",
       "      <td>120</td>\n",
       "      <td>354</td>\n",
       "      <td>0</td>\n",
       "      <td>1</td>\n",
       "      <td>163</td>\n",
       "      <td>1</td>\n",
       "      <td>0.6</td>\n",
       "      <td>2</td>\n",
       "      <td>0</td>\n",
       "      <td>2</td>\n",
       "    </tr>\n",
       "    <tr>\n",
       "      <th>...</th>\n",
       "      <td>...</td>\n",
       "      <td>...</td>\n",
       "      <td>...</td>\n",
       "      <td>...</td>\n",
       "      <td>...</td>\n",
       "      <td>...</td>\n",
       "      <td>...</td>\n",
       "      <td>...</td>\n",
       "      <td>...</td>\n",
       "      <td>...</td>\n",
       "      <td>...</td>\n",
       "      <td>...</td>\n",
       "      <td>...</td>\n",
       "    </tr>\n",
       "    <tr>\n",
       "      <th>298</th>\n",
       "      <td>57</td>\n",
       "      <td>0</td>\n",
       "      <td>0</td>\n",
       "      <td>140</td>\n",
       "      <td>241</td>\n",
       "      <td>0</td>\n",
       "      <td>1</td>\n",
       "      <td>123</td>\n",
       "      <td>1</td>\n",
       "      <td>0.2</td>\n",
       "      <td>1</td>\n",
       "      <td>0</td>\n",
       "      <td>3</td>\n",
       "    </tr>\n",
       "    <tr>\n",
       "      <th>299</th>\n",
       "      <td>45</td>\n",
       "      <td>1</td>\n",
       "      <td>3</td>\n",
       "      <td>110</td>\n",
       "      <td>264</td>\n",
       "      <td>0</td>\n",
       "      <td>1</td>\n",
       "      <td>132</td>\n",
       "      <td>0</td>\n",
       "      <td>1.2</td>\n",
       "      <td>1</td>\n",
       "      <td>0</td>\n",
       "      <td>3</td>\n",
       "    </tr>\n",
       "    <tr>\n",
       "      <th>300</th>\n",
       "      <td>68</td>\n",
       "      <td>1</td>\n",
       "      <td>0</td>\n",
       "      <td>144</td>\n",
       "      <td>193</td>\n",
       "      <td>1</td>\n",
       "      <td>1</td>\n",
       "      <td>141</td>\n",
       "      <td>0</td>\n",
       "      <td>3.4</td>\n",
       "      <td>1</td>\n",
       "      <td>2</td>\n",
       "      <td>3</td>\n",
       "    </tr>\n",
       "    <tr>\n",
       "      <th>301</th>\n",
       "      <td>57</td>\n",
       "      <td>1</td>\n",
       "      <td>0</td>\n",
       "      <td>130</td>\n",
       "      <td>131</td>\n",
       "      <td>0</td>\n",
       "      <td>1</td>\n",
       "      <td>115</td>\n",
       "      <td>1</td>\n",
       "      <td>1.2</td>\n",
       "      <td>1</td>\n",
       "      <td>1</td>\n",
       "      <td>3</td>\n",
       "    </tr>\n",
       "    <tr>\n",
       "      <th>302</th>\n",
       "      <td>57</td>\n",
       "      <td>0</td>\n",
       "      <td>1</td>\n",
       "      <td>130</td>\n",
       "      <td>236</td>\n",
       "      <td>0</td>\n",
       "      <td>0</td>\n",
       "      <td>174</td>\n",
       "      <td>0</td>\n",
       "      <td>0.0</td>\n",
       "      <td>1</td>\n",
       "      <td>1</td>\n",
       "      <td>2</td>\n",
       "    </tr>\n",
       "  </tbody>\n",
       "</table>\n",
       "<p>303 rows × 13 columns</p>\n",
       "</div>"
      ],
      "text/plain": [
       "     age  sex  cp  trestbps  chol  fbs  restecg  thalach  exang  oldpeak  \\\n",
       "0     63    1   3       145   233    1        0      150      0      2.3   \n",
       "1     37    1   2       130   250    0        1      187      0      3.5   \n",
       "2     41    0   1       130   204    0        0      172      0      1.4   \n",
       "3     56    1   1       120   236    0        1      178      0      0.8   \n",
       "4     57    0   0       120   354    0        1      163      1      0.6   \n",
       "..   ...  ...  ..       ...   ...  ...      ...      ...    ...      ...   \n",
       "298   57    0   0       140   241    0        1      123      1      0.2   \n",
       "299   45    1   3       110   264    0        1      132      0      1.2   \n",
       "300   68    1   0       144   193    1        1      141      0      3.4   \n",
       "301   57    1   0       130   131    0        1      115      1      1.2   \n",
       "302   57    0   1       130   236    0        0      174      0      0.0   \n",
       "\n",
       "     slope  ca  thal  \n",
       "0        0   0     1  \n",
       "1        0   0     2  \n",
       "2        2   0     2  \n",
       "3        2   0     2  \n",
       "4        2   0     2  \n",
       "..     ...  ..   ...  \n",
       "298      1   0     3  \n",
       "299      1   0     3  \n",
       "300      1   2     3  \n",
       "301      1   1     3  \n",
       "302      1   1     2  \n",
       "\n",
       "[303 rows x 13 columns]"
      ]
     },
     "execution_count": 6,
     "metadata": {},
     "output_type": "execute_result"
    }
   ],
   "source": [
    "X"
   ]
  },
  {
   "cell_type": "code",
   "execution_count": 7,
   "id": "18008677",
   "metadata": {},
   "outputs": [
    {
     "data": {
      "text/plain": [
       "0      1\n",
       "1      1\n",
       "2      1\n",
       "3      1\n",
       "4      1\n",
       "      ..\n",
       "298    0\n",
       "299    0\n",
       "300    0\n",
       "301    0\n",
       "302    0\n",
       "Name: target, Length: 303, dtype: int64"
      ]
     },
     "execution_count": 7,
     "metadata": {},
     "output_type": "execute_result"
    }
   ],
   "source": [
    "y"
   ]
  },
  {
   "cell_type": "code",
   "execution_count": 8,
   "id": "481e428a",
   "metadata": {},
   "outputs": [
    {
     "data": {
      "text/plain": [
       "((242, 13), (61, 13), (242,), (61,))"
      ]
     },
     "execution_count": 8,
     "metadata": {},
     "output_type": "execute_result"
    }
   ],
   "source": [
    "# Splitting our Data\n",
    "X_train, X_test, y_train, y_test = train_test_split(X, y, test_size = 0.2)\n",
    "X_train.shape, X_test.shape, y_train.shape, y_test.shape"
   ]
  },
  {
   "cell_type": "markdown",
   "id": "82eab611",
   "metadata": {},
   "source": [
    "Now we have split our data into training and testing set\n",
    "\n",
    "We will train the model (finding patterns) on the train set\n",
    "\n",
    "And we will test the model (evaluate recognised patterns) on test set\n",
    "\n",
    "We will look at 3 Machine learning models and try them out\n",
    "\n",
    "1. Logistic Regression\n",
    "2. K-Nearest Neighbors Classifier\n",
    "3. Random Forest Classifier"
   ]
  },
  {
   "cell_type": "code",
   "execution_count": 51,
   "id": "3596258d",
   "metadata": {},
   "outputs": [],
   "source": [
    "#We will create a dictionary to store our models and create a function to fit and score our model\n",
    "\n",
    "models = {'Logistic Regression' : LogisticRegression(),\n",
    "          'KNN' : KNeighborsClassifier(),\n",
    "          'Random Forest' : RandomForestClassifier()}\n",
    "\n",
    "def fit_and_score(models, X_train,X_test, y_train, y_test):\n",
    "    \"\"\"\n",
    "    Fits and Scores the model\n",
    "    X_train = Train set (Feature variables)\n",
    "    X_test = Test set (Feature variables)\n",
    "    y_train = Train set (Target Variable)\n",
    "    y_test = Test set (Target Variable)\n",
    "    \"\"\"\n",
    "    np.random.seed(42)\n",
    "    score = {}\n",
    "    for key, value in models.items():\n",
    "        value.fit(X_train, y_train)\n",
    "        score[key] = value.score(X_test, y_test)\n",
    "    return score\n",
    "\n",
    "def print_score(score):\n",
    "    \"\"\"\n",
    "    Prints the score evaluated by our models\n",
    "    \"\"\"\n",
    "    print(f\"The Score for Logistic Regression Model is: {score['Logistic Regression']*100:.2f}%\")\n",
    "    print(f\"The Score for K-Neighbors Classifier is : {score['KNN']*100:.2f}%\")\n",
    "    print(f\"The score for Random Forest Classifier is {score['Random Forest']*100:.2f}%\")"
   ]
  },
  {
   "cell_type": "code",
   "execution_count": 52,
   "id": "92f0aced",
   "metadata": {},
   "outputs": [
    {
     "name": "stderr",
     "output_type": "stream",
     "text": [
      "C:\\Users\\abhi2\\anaconda3\\lib\\site-packages\\sklearn\\linear_model\\_logistic.py:763: ConvergenceWarning: lbfgs failed to converge (status=1):\n",
      "STOP: TOTAL NO. of ITERATIONS REACHED LIMIT.\n",
      "\n",
      "Increase the number of iterations (max_iter) or scale the data as shown in:\n",
      "    https://scikit-learn.org/stable/modules/preprocessing.html\n",
      "Please also refer to the documentation for alternative solver options:\n",
      "    https://scikit-learn.org/stable/modules/linear_model.html#logistic-regression\n",
      "  n_iter_i = _check_optimize_result(\n"
     ]
    },
    {
     "name": "stdout",
     "output_type": "stream",
     "text": [
      "The Score for Logistic Regression Model is: 88.52%\n",
      "The Score for K-Neighbors Classifier is : 67.21%\n",
      "The score for Random Forest Classifier is 91.80%\n"
     ]
    }
   ],
   "source": [
    "model_scores = fit_and_score(models = models,\n",
    "                             X_train = X_train,\n",
    "                             X_test = X_test,\n",
    "                             y_train = y_train,\n",
    "                             y_test = y_test)\n",
    "print_score(model_scores)"
   ]
  },
  {
   "cell_type": "code",
   "execution_count": 65,
   "id": "3562e6bb",
   "metadata": {},
   "outputs": [
    {
     "data": {
      "image/png": "[encoded data removed]",
      "text/plain": [
       "<Figure size 576x288 with 1 Axes>"
      ]
     },
     "metadata": {
      "needs_background": "light"
     },
     "output_type": "display_data"
    }
   ],
   "source": [
    "model_score_df = pd.DataFrame(model_scores, index = ['Accuracy'])\n",
    "model_score_df.T.plot.bar(rot = 0, figsize = (8,4))\n",
    "#model_score_df.T indicates transpose of that dataframe\n",
    "plt.legend(loc ='best');"
   ]
  },
  {
   "cell_type": "markdown",
   "id": "f20087cb",
   "metadata": {},
   "source": [
    "We got our baseline model and we have to improve it now and evaluate it\n",
    "\n",
    "Lets look at the following evaluation metrics:\n",
    "* Hyperparameter tuning\n",
    "* Feature importance \n",
    "\n",
    "\n",
    "* Specific to Classification model\n",
    "> 1. Confuison Matrix\n",
    "> 2. Cross Validation\n",
    "> 3. Precision\n",
    "> 4 .Recall\n",
    "> 5. F1 score\n",
    "> 6. Classification Report\n",
    "> 7. ROC Curve\n",
    "> 8. Area Under Curve\n"
   ]
  },
  {
   "cell_type": "markdown",
   "id": "0c8b984c",
   "metadata": {},
   "source": [
    "### Hyperparameter Tuning\n",
    "#### KNN"
   ]
  },
  {
   "cell_type": "code",
   "execution_count": 69,
   "id": "2ab4eea8",
   "metadata": {},
   "outputs": [
    {
     "data": {
      "text/plain": [
       "{'algorithm': 'auto',\n",
       " 'leaf_size': 30,\n",
       " 'metric': 'minkowski',\n",
       " 'metric_params': None,\n",
       " 'n_jobs': None,\n",
       " 'n_neighbors': 5,\n",
       " 'p': 2,\n",
       " 'weights': 'uniform'}"
      ]
     },
     "execution_count": 69,
     "metadata": {},
     "output_type": "execute_result"
    }
   ],
   "source": [
    "models['KNN'].get_params()"
   ]
  },
  {
   "cell_type": "code",
   "execution_count": 87,
   "id": "cc67cc9f",
   "metadata": {},
   "outputs": [],
   "source": [
    "# Lets tune KNN by tuning a list of n_neighbors' hyperparameter (By Hand)\n",
    "\n",
    "train = []\n",
    "test = []\n",
    "\n",
    "for i in range(1,21):\n",
    "    models['KNN'].set_params(n_neighbors = i)\n",
    "    models['KNN'].fit(X_train, y_train)\n",
    "    k = models['KNN'].score(X_train, y_train)\n",
    "    train.append(k)\n",
    "    l = models['KNN'].score(X_test, y_test)\n",
    "    test.append(l)"
   ]
  },
  {
   "cell_type": "code",
   "execution_count": 88,
   "id": "787fe87b",
   "metadata": {},
   "outputs": [
    {
     "name": "stdout",
     "output_type": "stream",
     "text": [
      "The Maximum Training Efficiency on KNN model is 100.00%\n",
      "The Maximum Testing Efficiency on KNN model is 68.85%\n"
     ]
    },
    {
     "data": {
      "image/png": "[encoded data removed]",
      "text/plain": [
       "<Figure size 432x288 with 1 Axes>"
      ]
     },
     "metadata": {
      "needs_background": "light"
     },
     "output_type": "display_data"
    }
   ],
   "source": [
    "neighbors = range(1,21)\n",
    "plt.plot(neighbors, train)\n",
    "plt.plot(neighbors, test)\n",
    "plt.xticks(range(1,21,1))\n",
    "plt.xlabel('No pf Neighbors')\n",
    "plt.ylabel('Score')\n",
    "plt.legend(['Train Line', 'Test Line'])\n",
    "print(f\"The Maximum Training Efficiency on KNN model is {max(train)*100:.2f}%\")\n",
    "print(f\"The Maximum Testing Efficiency on KNN model is {max(test)*100:.2f}%\")"
   ]
  },
  {
   "cell_type": "markdown",
   "id": "13319330",
   "metadata": {},
   "source": [
    "    Slight increase in score of KNN from 67.21 to 68.85 by adjusting the n_neighbors hyperparameter"
   ]
  },
  {
   "cell_type": "markdown",
   "id": "28fc43cb",
   "metadata": {},
   "source": [
    "At this point it is obvious that we should cut KNN model because we need a min of 95% accuracy and we are not even near that in KNN model instead Random Forest or Logistic Regression seem apt for the job"
   ]
  },
  {
   "cell_type": "markdown",
   "id": "3bc7788b",
   "metadata": {},
   "source": [
    "But still let us see if KNN can be further imprroved by RandomizedSearchCV and GridSearchCV"
   ]
  },
  {
   "cell_type": "code",
   "execution_count": 89,
   "id": "7464ef86",
   "metadata": {},
   "outputs": [
    {
     "name": "stdout",
     "output_type": "stream",
     "text": [
      "Fitting 5 folds for each of 10 candidates, totalling 50 fits\n",
      "[CV] END algorithm=auto, metric=minkowski, n_neighbors=14, p=1, weights=distance; total time=   0.0s\n",
      "[CV] END algorithm=auto, metric=minkowski, n_neighbors=14, p=1, weights=distance; total time=   0.0s\n",
      "[CV] END algorithm=auto, metric=minkowski, n_neighbors=14, p=1, weights=distance; total time=   0.0s\n",
      "[CV] END algorithm=auto, metric=minkowski, n_neighbors=14, p=1, weights=distance; total time=   0.0s\n",
      "[CV] END algorithm=auto, metric=minkowski, n_neighbors=14, p=1, weights=distance; total time=   0.0s\n",
      "[CV] END algorithm=auto, metric=wminkowski, n_neighbors=14, p=2, weights=uniform; total time=   0.0s\n",
      "[CV] END algorithm=auto, metric=wminkowski, n_neighbors=14, p=2, weights=uniform; total time=   0.0s\n",
      "[CV] END algorithm=auto, metric=wminkowski, n_neighbors=14, p=2, weights=uniform; total time=   0.0s\n",
      "[CV] END algorithm=auto, metric=wminkowski, n_neighbors=14, p=2, weights=uniform; total time=   0.0s\n",
      "[CV] END algorithm=auto, metric=wminkowski, n_neighbors=14, p=2, weights=uniform; total time=   0.0s\n",
      "[CV] END algorithm=auto, metric=euclidian, n_neighbors=14, p=1, weights=uniform; total time=   0.0s\n",
      "[CV] END algorithm=auto, metric=euclidian, n_neighbors=14, p=1, weights=uniform; total time=   0.0s\n",
      "[CV] END algorithm=auto, metric=euclidian, n_neighbors=14, p=1, weights=uniform; total time=   0.0s\n",
      "[CV] END algorithm=auto, metric=euclidian, n_neighbors=14, p=1, weights=uniform; total time=   0.0s\n",
      "[CV] END algorithm=auto, metric=euclidian, n_neighbors=14, p=1, weights=uniform; total time=   0.0s\n",
      "[CV] END algorithm=kd_tree, metric=wminkowski, n_neighbors=14, p=1, weights=uniform; total time=   0.0s\n",
      "[CV] END algorithm=kd_tree, metric=wminkowski, n_neighbors=14, p=1, weights=uniform; total time=   0.0s\n",
      "[CV] END algorithm=kd_tree, metric=wminkowski, n_neighbors=14, p=1, weights=uniform; total time=   0.0s\n",
      "[CV] END algorithm=kd_tree, metric=wminkowski, n_neighbors=14, p=1, weights=uniform; total time=   0.0s\n",
      "[CV] END algorithm=kd_tree, metric=wminkowski, n_neighbors=14, p=1, weights=uniform; total time=   0.0s\n",
      "[CV] END algorithm=auto, metric=euclidian, n_neighbors=14, p=1, weights=distance; total time=   0.0s\n",
      "[CV] END algorithm=auto, metric=euclidian, n_neighbors=14, p=1, weights=distance; total time=   0.0s\n",
      "[CV] END algorithm=auto, metric=euclidian, n_neighbors=14, p=1, weights=distance; total time=   0.0s\n",
      "[CV] END algorithm=auto, metric=euclidian, n_neighbors=14, p=1, weights=distance; total time=   0.0s\n",
      "[CV] END algorithm=auto, metric=euclidian, n_neighbors=14, p=1, weights=distance; total time=   0.0s\n",
      "[CV] END algorithm=auto, metric=minkowski, n_neighbors=14, p=2, weights=uniform; total time=   0.0s\n",
      "[CV] END algorithm=auto, metric=minkowski, n_neighbors=14, p=2, weights=uniform; total time=   0.0s\n",
      "[CV] END algorithm=auto, metric=minkowski, n_neighbors=14, p=2, weights=uniform; total time=   0.0s\n",
      "[CV] END algorithm=auto, metric=minkowski, n_neighbors=14, p=2, weights=uniform; total time=   0.0s\n",
      "[CV] END algorithm=auto, metric=minkowski, n_neighbors=14, p=2, weights=uniform; total time=   0.0s\n",
      "[CV] END algorithm=kd_tree, metric=euclidian, n_neighbors=14, p=2, weights=uniform; total time=   0.0s\n",
      "[CV] END algorithm=kd_tree, metric=euclidian, n_neighbors=14, p=2, weights=uniform; total time=   0.0s\n",
      "[CV] END algorithm=kd_tree, metric=euclidian, n_neighbors=14, p=2, weights=uniform; total time=   0.0s\n",
      "[CV] END algorithm=kd_tree, metric=euclidian, n_neighbors=14, p=2, weights=uniform; total time=   0.0s\n",
      "[CV] END algorithm=kd_tree, metric=euclidian, n_neighbors=14, p=2, weights=uniform; total time=   0.0s\n",
      "[CV] END algorithm=kd_tree, metric=wminkowski, n_neighbors=14, p=2, weights=uniform; total time=   0.0s\n",
      "[CV] END algorithm=kd_tree, metric=wminkowski, n_neighbors=14, p=2, weights=uniform; total time=   0.0s\n",
      "[CV] END algorithm=kd_tree, metric=wminkowski, n_neighbors=14, p=2, weights=uniform; total time=   0.0s\n",
      "[CV] END algorithm=kd_tree, metric=wminkowski, n_neighbors=14, p=2, weights=uniform; total time=   0.0s\n",
      "[CV] END algorithm=kd_tree, metric=wminkowski, n_neighbors=14, p=2, weights=uniform; total time=   0.0s\n",
      "[CV] END algorithm=ball_tree, metric=wminkowski, n_neighbors=14, p=2, weights=distance; total time=   0.0s\n",
      "[CV] END algorithm=ball_tree, metric=wminkowski, n_neighbors=14, p=2, weights=distance; total time=   0.0s\n",
      "[CV] END algorithm=ball_tree, metric=wminkowski, n_neighbors=14, p=2, weights=distance; total time=   0.0s\n",
      "[CV] END algorithm=ball_tree, metric=wminkowski, n_neighbors=14, p=2, weights=distance; total time=   0.0s\n",
      "[CV] END algorithm=ball_tree, metric=wminkowski, n_neighbors=14, p=2, weights=distance; total time=   0.0s\n",
      "[CV] END algorithm=auto, metric=wminkowski, n_neighbors=14, p=2, weights=distance; total time=   0.0s\n",
      "[CV] END algorithm=auto, metric=wminkowski, n_neighbors=14, p=2, weights=distance; total time=   0.0s\n",
      "[CV] END algorithm=auto, metric=wminkowski, n_neighbors=14, p=2, weights=distance; total time=   0.0s\n",
      "[CV] END algorithm=auto, metric=wminkowski, n_neighbors=14, p=2, weights=distance; total time=   0.0s\n",
      "[CV] END algorithm=auto, metric=wminkowski, n_neighbors=14, p=2, weights=distance; total time=   0.0s\n"
     ]
    },
    {
     "name": "stderr",
     "output_type": "stream",
     "text": [
      "C:\\Users\\abhi2\\anaconda3\\lib\\site-packages\\sklearn\\model_selection\\_validation.py:610: FitFailedWarning: Estimator fit failed. The score on this train-test partition for these parameters will be set to nan. Details: \n",
      "Traceback (most recent call last):\n",
      "  File \"C:\\Users\\abhi2\\anaconda3\\lib\\site-packages\\sklearn\\model_selection\\_validation.py\", line 593, in _fit_and_score\n",
      "    estimator.fit(X_train, y_train, **fit_params)\n",
      "  File \"C:\\Users\\abhi2\\anaconda3\\lib\\site-packages\\sklearn\\neighbors\\_classification.py\", line 179, in fit\n",
      "    return self._fit(X, y)\n",
      "  File \"C:\\Users\\abhi2\\anaconda3\\lib\\site-packages\\sklearn\\neighbors\\_base.py\", line 499, in _fit\n",
      "    self._tree = BallTree(X, self.leaf_size,\n",
      "  File \"sklearn\\neighbors\\_binary_tree.pxi\", line 1063, in sklearn.neighbors._ball_tree.BinaryTree.__init__\n",
      "  File \"sklearn\\neighbors\\_dist_metrics.pyx\", line 289, in sklearn.neighbors._dist_metrics.DistanceMetric.get_metric\n",
      "  File \"sklearn\\neighbors\\_dist_metrics.pyx\", line 612, in sklearn.neighbors._dist_metrics.WMinkowskiDistance.__init__\n",
      "TypeError: __init__() takes exactly 2 positional arguments (1 given)\n",
      "\n",
      "  warnings.warn(\"Estimator fit failed. The score on this train-test\"\n",
      "C:\\Users\\abhi2\\anaconda3\\lib\\site-packages\\sklearn\\model_selection\\_validation.py:610: FitFailedWarning: Estimator fit failed. The score on this train-test partition for these parameters will be set to nan. Details: \n",
      "Traceback (most recent call last):\n",
      "  File \"C:\\Users\\abhi2\\anaconda3\\lib\\site-packages\\sklearn\\model_selection\\_validation.py\", line 593, in _fit_and_score\n",
      "    estimator.fit(X_train, y_train, **fit_params)\n",
      "  File \"C:\\Users\\abhi2\\anaconda3\\lib\\site-packages\\sklearn\\neighbors\\_classification.py\", line 179, in fit\n",
      "    return self._fit(X, y)\n",
      "  File \"C:\\Users\\abhi2\\anaconda3\\lib\\site-packages\\sklearn\\neighbors\\_base.py\", line 499, in _fit\n",
      "    self._tree = BallTree(X, self.leaf_size,\n",
      "  File \"sklearn\\neighbors\\_binary_tree.pxi\", line 1063, in sklearn.neighbors._ball_tree.BinaryTree.__init__\n",
      "  File \"sklearn\\neighbors\\_dist_metrics.pyx\", line 289, in sklearn.neighbors._dist_metrics.DistanceMetric.get_metric\n",
      "  File \"sklearn\\neighbors\\_dist_metrics.pyx\", line 612, in sklearn.neighbors._dist_metrics.WMinkowskiDistance.__init__\n",
      "TypeError: __init__() takes exactly 2 positional arguments (1 given)\n",
      "\n",
      "  warnings.warn(\"Estimator fit failed. The score on this train-test\"\n",
      "C:\\Users\\abhi2\\anaconda3\\lib\\site-packages\\sklearn\\model_selection\\_validation.py:610: FitFailedWarning: Estimator fit failed. The score on this train-test partition for these parameters will be set to nan. Details: \n",
      "Traceback (most recent call last):\n",
      "  File \"C:\\Users\\abhi2\\anaconda3\\lib\\site-packages\\sklearn\\model_selection\\_validation.py\", line 593, in _fit_and_score\n",
      "    estimator.fit(X_train, y_train, **fit_params)\n",
      "  File \"C:\\Users\\abhi2\\anaconda3\\lib\\site-packages\\sklearn\\neighbors\\_classification.py\", line 179, in fit\n",
      "    return self._fit(X, y)\n",
      "  File \"C:\\Users\\abhi2\\anaconda3\\lib\\site-packages\\sklearn\\neighbors\\_base.py\", line 499, in _fit\n",
      "    self._tree = BallTree(X, self.leaf_size,\n",
      "  File \"sklearn\\neighbors\\_binary_tree.pxi\", line 1063, in sklearn.neighbors._ball_tree.BinaryTree.__init__\n",
      "  File \"sklearn\\neighbors\\_dist_metrics.pyx\", line 289, in sklearn.neighbors._dist_metrics.DistanceMetric.get_metric\n",
      "  File \"sklearn\\neighbors\\_dist_metrics.pyx\", line 612, in sklearn.neighbors._dist_metrics.WMinkowskiDistance.__init__\n",
      "TypeError: __init__() takes exactly 2 positional arguments (1 given)\n",
      "\n",
      "  warnings.warn(\"Estimator fit failed. The score on this train-test\"\n",
      "C:\\Users\\abhi2\\anaconda3\\lib\\site-packages\\sklearn\\model_selection\\_validation.py:610: FitFailedWarning: Estimator fit failed. The score on this train-test partition for these parameters will be set to nan. Details: \n",
      "Traceback (most recent call last):\n",
      "  File \"C:\\Users\\abhi2\\anaconda3\\lib\\site-packages\\sklearn\\model_selection\\_validation.py\", line 593, in _fit_and_score\n",
      "    estimator.fit(X_train, y_train, **fit_params)\n",
      "  File \"C:\\Users\\abhi2\\anaconda3\\lib\\site-packages\\sklearn\\neighbors\\_classification.py\", line 179, in fit\n",
      "    return self._fit(X, y)\n",
      "  File \"C:\\Users\\abhi2\\anaconda3\\lib\\site-packages\\sklearn\\neighbors\\_base.py\", line 499, in _fit\n",
      "    self._tree = BallTree(X, self.leaf_size,\n",
      "  File \"sklearn\\neighbors\\_binary_tree.pxi\", line 1063, in sklearn.neighbors._ball_tree.BinaryTree.__init__\n",
      "  File \"sklearn\\neighbors\\_dist_metrics.pyx\", line 289, in sklearn.neighbors._dist_metrics.DistanceMetric.get_metric\n",
      "  File \"sklearn\\neighbors\\_dist_metrics.pyx\", line 612, in sklearn.neighbors._dist_metrics.WMinkowskiDistance.__init__\n",
      "TypeError: __init__() takes exactly 2 positional arguments (1 given)\n",
      "\n",
      "  warnings.warn(\"Estimator fit failed. The score on this train-test\"\n",
      "C:\\Users\\abhi2\\anaconda3\\lib\\site-packages\\sklearn\\model_selection\\_validation.py:610: FitFailedWarning: Estimator fit failed. The score on this train-test partition for these parameters will be set to nan. Details: \n",
      "Traceback (most recent call last):\n",
      "  File \"C:\\Users\\abhi2\\anaconda3\\lib\\site-packages\\sklearn\\model_selection\\_validation.py\", line 593, in _fit_and_score\n",
      "    estimator.fit(X_train, y_train, **fit_params)\n",
      "  File \"C:\\Users\\abhi2\\anaconda3\\lib\\site-packages\\sklearn\\neighbors\\_classification.py\", line 179, in fit\n",
      "    return self._fit(X, y)\n",
      "  File \"C:\\Users\\abhi2\\anaconda3\\lib\\site-packages\\sklearn\\neighbors\\_base.py\", line 499, in _fit\n",
      "    self._tree = BallTree(X, self.leaf_size,\n",
      "  File \"sklearn\\neighbors\\_binary_tree.pxi\", line 1063, in sklearn.neighbors._ball_tree.BinaryTree.__init__\n",
      "  File \"sklearn\\neighbors\\_dist_metrics.pyx\", line 289, in sklearn.neighbors._dist_metrics.DistanceMetric.get_metric\n",
      "  File \"sklearn\\neighbors\\_dist_metrics.pyx\", line 612, in sklearn.neighbors._dist_metrics.WMinkowskiDistance.__init__\n",
      "TypeError: __init__() takes exactly 2 positional arguments (1 given)\n",
      "\n",
      "  warnings.warn(\"Estimator fit failed. The score on this train-test\"\n",
      "C:\\Users\\abhi2\\anaconda3\\lib\\site-packages\\sklearn\\model_selection\\_validation.py:610: FitFailedWarning: Estimator fit failed. The score on this train-test partition for these parameters will be set to nan. Details: \n",
      "Traceback (most recent call last):\n",
      "  File \"C:\\Users\\abhi2\\anaconda3\\lib\\site-packages\\sklearn\\model_selection\\_validation.py\", line 593, in _fit_and_score\n",
      "    estimator.fit(X_train, y_train, **fit_params)\n",
      "  File \"C:\\Users\\abhi2\\anaconda3\\lib\\site-packages\\sklearn\\neighbors\\_classification.py\", line 179, in fit\n",
      "    return self._fit(X, y)\n",
      "  File \"C:\\Users\\abhi2\\anaconda3\\lib\\site-packages\\sklearn\\neighbors\\_base.py\", line 399, in _fit\n",
      "    self._check_algorithm_metric()\n",
      "  File \"C:\\Users\\abhi2\\anaconda3\\lib\\site-packages\\sklearn\\neighbors\\_base.py\", line 342, in _check_algorithm_metric\n",
      "    raise ValueError(\"Metric '%s' not valid. Use \"\n",
      "ValueError: Metric 'euclidian' not valid. Use sorted(sklearn.neighbors.VALID_METRICS['brute']) to get valid options. Metric can also be a callable function.\n",
      "\n",
      "  warnings.warn(\"Estimator fit failed. The score on this train-test\"\n",
      "C:\\Users\\abhi2\\anaconda3\\lib\\site-packages\\sklearn\\model_selection\\_validation.py:610: FitFailedWarning: Estimator fit failed. The score on this train-test partition for these parameters will be set to nan. Details: \n",
      "Traceback (most recent call last):\n",
      "  File \"C:\\Users\\abhi2\\anaconda3\\lib\\site-packages\\sklearn\\model_selection\\_validation.py\", line 593, in _fit_and_score\n",
      "    estimator.fit(X_train, y_train, **fit_params)\n",
      "  File \"C:\\Users\\abhi2\\anaconda3\\lib\\site-packages\\sklearn\\neighbors\\_classification.py\", line 179, in fit\n",
      "    return self._fit(X, y)\n",
      "  File \"C:\\Users\\abhi2\\anaconda3\\lib\\site-packages\\sklearn\\neighbors\\_base.py\", line 399, in _fit\n",
      "    self._check_algorithm_metric()\n",
      "  File \"C:\\Users\\abhi2\\anaconda3\\lib\\site-packages\\sklearn\\neighbors\\_base.py\", line 342, in _check_algorithm_metric\n",
      "    raise ValueError(\"Metric '%s' not valid. Use \"\n",
      "ValueError: Metric 'euclidian' not valid. Use sorted(sklearn.neighbors.VALID_METRICS['brute']) to get valid options. Metric can also be a callable function.\n",
      "\n",
      "  warnings.warn(\"Estimator fit failed. The score on this train-test\"\n",
      "C:\\Users\\abhi2\\anaconda3\\lib\\site-packages\\sklearn\\model_selection\\_validation.py:610: FitFailedWarning: Estimator fit failed. The score on this train-test partition for these parameters will be set to nan. Details: \n",
      "Traceback (most recent call last):\n",
      "  File \"C:\\Users\\abhi2\\anaconda3\\lib\\site-packages\\sklearn\\model_selection\\_validation.py\", line 593, in _fit_and_score\n",
      "    estimator.fit(X_train, y_train, **fit_params)\n",
      "  File \"C:\\Users\\abhi2\\anaconda3\\lib\\site-packages\\sklearn\\neighbors\\_classification.py\", line 179, in fit\n",
      "    return self._fit(X, y)\n",
      "  File \"C:\\Users\\abhi2\\anaconda3\\lib\\site-packages\\sklearn\\neighbors\\_base.py\", line 399, in _fit\n",
      "    self._check_algorithm_metric()\n",
      "  File \"C:\\Users\\abhi2\\anaconda3\\lib\\site-packages\\sklearn\\neighbors\\_base.py\", line 342, in _check_algorithm_metric\n",
      "    raise ValueError(\"Metric '%s' not valid. Use \"\n",
      "ValueError: Metric 'euclidian' not valid. Use sorted(sklearn.neighbors.VALID_METRICS['brute']) to get valid options. Metric can also be a callable function.\n",
      "\n",
      "  warnings.warn(\"Estimator fit failed. The score on this train-test\"\n",
      "C:\\Users\\abhi2\\anaconda3\\lib\\site-packages\\sklearn\\model_selection\\_validation.py:610: FitFailedWarning: Estimator fit failed. The score on this train-test partition for these parameters will be set to nan. Details: \n",
      "Traceback (most recent call last):\n",
      "  File \"C:\\Users\\abhi2\\anaconda3\\lib\\site-packages\\sklearn\\model_selection\\_validation.py\", line 593, in _fit_and_score\n",
      "    estimator.fit(X_train, y_train, **fit_params)\n",
      "  File \"C:\\Users\\abhi2\\anaconda3\\lib\\site-packages\\sklearn\\neighbors\\_classification.py\", line 179, in fit\n",
      "    return self._fit(X, y)\n",
      "  File \"C:\\Users\\abhi2\\anaconda3\\lib\\site-packages\\sklearn\\neighbors\\_base.py\", line 399, in _fit\n",
      "    self._check_algorithm_metric()\n",
      "  File \"C:\\Users\\abhi2\\anaconda3\\lib\\site-packages\\sklearn\\neighbors\\_base.py\", line 342, in _check_algorithm_metric\n",
      "    raise ValueError(\"Metric '%s' not valid. Use \"\n",
      "ValueError: Metric 'euclidian' not valid. Use sorted(sklearn.neighbors.VALID_METRICS['brute']) to get valid options. Metric can also be a callable function.\n",
      "\n",
      "  warnings.warn(\"Estimator fit failed. The score on this train-test\"\n",
      "C:\\Users\\abhi2\\anaconda3\\lib\\site-packages\\sklearn\\model_selection\\_validation.py:610: FitFailedWarning: Estimator fit failed. The score on this train-test partition for these parameters will be set to nan. Details: \n",
      "Traceback (most recent call last):\n",
      "  File \"C:\\Users\\abhi2\\anaconda3\\lib\\site-packages\\sklearn\\model_selection\\_validation.py\", line 593, in _fit_and_score\n",
      "    estimator.fit(X_train, y_train, **fit_params)\n",
      "  File \"C:\\Users\\abhi2\\anaconda3\\lib\\site-packages\\sklearn\\neighbors\\_classification.py\", line 179, in fit\n",
      "    return self._fit(X, y)\n",
      "  File \"C:\\Users\\abhi2\\anaconda3\\lib\\site-packages\\sklearn\\neighbors\\_base.py\", line 399, in _fit\n",
      "    self._check_algorithm_metric()\n",
      "  File \"C:\\Users\\abhi2\\anaconda3\\lib\\site-packages\\sklearn\\neighbors\\_base.py\", line 342, in _check_algorithm_metric\n",
      "    raise ValueError(\"Metric '%s' not valid. Use \"\n",
      "ValueError: Metric 'euclidian' not valid. Use sorted(sklearn.neighbors.VALID_METRICS['brute']) to get valid options. Metric can also be a callable function.\n",
      "\n",
      "  warnings.warn(\"Estimator fit failed. The score on this train-test\"\n",
      "C:\\Users\\abhi2\\anaconda3\\lib\\site-packages\\sklearn\\model_selection\\_validation.py:610: FitFailedWarning: Estimator fit failed. The score on this train-test partition for these parameters will be set to nan. Details: \n",
      "Traceback (most recent call last):\n",
      "  File \"C:\\Users\\abhi2\\anaconda3\\lib\\site-packages\\sklearn\\model_selection\\_validation.py\", line 593, in _fit_and_score\n",
      "    estimator.fit(X_train, y_train, **fit_params)\n",
      "  File \"C:\\Users\\abhi2\\anaconda3\\lib\\site-packages\\sklearn\\neighbors\\_classification.py\", line 179, in fit\n",
      "    return self._fit(X, y)\n",
      "  File \"C:\\Users\\abhi2\\anaconda3\\lib\\site-packages\\sklearn\\neighbors\\_base.py\", line 399, in _fit\n",
      "    self._check_algorithm_metric()\n",
      "  File \"C:\\Users\\abhi2\\anaconda3\\lib\\site-packages\\sklearn\\neighbors\\_base.py\", line 342, in _check_algorithm_metric\n",
      "    raise ValueError(\"Metric '%s' not valid. Use \"\n",
      "ValueError: Metric 'wminkowski' not valid. Use sorted(sklearn.neighbors.VALID_METRICS['kd_tree']) to get valid options. Metric can also be a callable function.\n",
      "\n",
      "  warnings.warn(\"Estimator fit failed. The score on this train-test\"\n",
      "C:\\Users\\abhi2\\anaconda3\\lib\\site-packages\\sklearn\\model_selection\\_validation.py:610: FitFailedWarning: Estimator fit failed. The score on this train-test partition for these parameters will be set to nan. Details: \n",
      "Traceback (most recent call last):\n",
      "  File \"C:\\Users\\abhi2\\anaconda3\\lib\\site-packages\\sklearn\\model_selection\\_validation.py\", line 593, in _fit_and_score\n",
      "    estimator.fit(X_train, y_train, **fit_params)\n",
      "  File \"C:\\Users\\abhi2\\anaconda3\\lib\\site-packages\\sklearn\\neighbors\\_classification.py\", line 179, in fit\n",
      "    return self._fit(X, y)\n",
      "  File \"C:\\Users\\abhi2\\anaconda3\\lib\\site-packages\\sklearn\\neighbors\\_base.py\", line 399, in _fit\n",
      "    self._check_algorithm_metric()\n",
      "  File \"C:\\Users\\abhi2\\anaconda3\\lib\\site-packages\\sklearn\\neighbors\\_base.py\", line 342, in _check_algorithm_metric\n",
      "    raise ValueError(\"Metric '%s' not valid. Use \"\n",
      "ValueError: Metric 'wminkowski' not valid. Use sorted(sklearn.neighbors.VALID_METRICS['kd_tree']) to get valid options. Metric can also be a callable function.\n",
      "\n",
      "  warnings.warn(\"Estimator fit failed. The score on this train-test\"\n",
      "C:\\Users\\abhi2\\anaconda3\\lib\\site-packages\\sklearn\\model_selection\\_validation.py:610: FitFailedWarning: Estimator fit failed. The score on this train-test partition for these parameters will be set to nan. Details: \n",
      "Traceback (most recent call last):\n",
      "  File \"C:\\Users\\abhi2\\anaconda3\\lib\\site-packages\\sklearn\\model_selection\\_validation.py\", line 593, in _fit_and_score\n",
      "    estimator.fit(X_train, y_train, **fit_params)\n",
      "  File \"C:\\Users\\abhi2\\anaconda3\\lib\\site-packages\\sklearn\\neighbors\\_classification.py\", line 179, in fit\n",
      "    return self._fit(X, y)\n",
      "  File \"C:\\Users\\abhi2\\anaconda3\\lib\\site-packages\\sklearn\\neighbors\\_base.py\", line 399, in _fit\n",
      "    self._check_algorithm_metric()\n",
      "  File \"C:\\Users\\abhi2\\anaconda3\\lib\\site-packages\\sklearn\\neighbors\\_base.py\", line 342, in _check_algorithm_metric\n",
      "    raise ValueError(\"Metric '%s' not valid. Use \"\n",
      "ValueError: Metric 'wminkowski' not valid. Use sorted(sklearn.neighbors.VALID_METRICS['kd_tree']) to get valid options. Metric can also be a callable function.\n",
      "\n",
      "  warnings.warn(\"Estimator fit failed. The score on this train-test\"\n",
      "C:\\Users\\abhi2\\anaconda3\\lib\\site-packages\\sklearn\\model_selection\\_validation.py:610: FitFailedWarning: Estimator fit failed. The score on this train-test partition for these parameters will be set to nan. Details: \n",
      "Traceback (most recent call last):\n",
      "  File \"C:\\Users\\abhi2\\anaconda3\\lib\\site-packages\\sklearn\\model_selection\\_validation.py\", line 593, in _fit_and_score\n",
      "    estimator.fit(X_train, y_train, **fit_params)\n",
      "  File \"C:\\Users\\abhi2\\anaconda3\\lib\\site-packages\\sklearn\\neighbors\\_classification.py\", line 179, in fit\n",
      "    return self._fit(X, y)\n",
      "  File \"C:\\Users\\abhi2\\anaconda3\\lib\\site-packages\\sklearn\\neighbors\\_base.py\", line 399, in _fit\n",
      "    self._check_algorithm_metric()\n",
      "  File \"C:\\Users\\abhi2\\anaconda3\\lib\\site-packages\\sklearn\\neighbors\\_base.py\", line 342, in _check_algorithm_metric\n",
      "    raise ValueError(\"Metric '%s' not valid. Use \"\n",
      "ValueError: Metric 'wminkowski' not valid. Use sorted(sklearn.neighbors.VALID_METRICS['kd_tree']) to get valid options. Metric can also be a callable function.\n",
      "\n",
      "  warnings.warn(\"Estimator fit failed. The score on this train-test\"\n",
      "C:\\Users\\abhi2\\anaconda3\\lib\\site-packages\\sklearn\\model_selection\\_validation.py:610: FitFailedWarning: Estimator fit failed. The score on this train-test partition for these parameters will be set to nan. Details: \n",
      "Traceback (most recent call last):\n",
      "  File \"C:\\Users\\abhi2\\anaconda3\\lib\\site-packages\\sklearn\\model_selection\\_validation.py\", line 593, in _fit_and_score\n",
      "    estimator.fit(X_train, y_train, **fit_params)\n",
      "  File \"C:\\Users\\abhi2\\anaconda3\\lib\\site-packages\\sklearn\\neighbors\\_classification.py\", line 179, in fit\n",
      "    return self._fit(X, y)\n",
      "  File \"C:\\Users\\abhi2\\anaconda3\\lib\\site-packages\\sklearn\\neighbors\\_base.py\", line 399, in _fit\n",
      "    self._check_algorithm_metric()\n",
      "  File \"C:\\Users\\abhi2\\anaconda3\\lib\\site-packages\\sklearn\\neighbors\\_base.py\", line 342, in _check_algorithm_metric\n",
      "    raise ValueError(\"Metric '%s' not valid. Use \"\n",
      "ValueError: Metric 'wminkowski' not valid. Use sorted(sklearn.neighbors.VALID_METRICS['kd_tree']) to get valid options. Metric can also be a callable function.\n",
      "\n",
      "  warnings.warn(\"Estimator fit failed. The score on this train-test\"\n",
      "C:\\Users\\abhi2\\anaconda3\\lib\\site-packages\\sklearn\\model_selection\\_validation.py:610: FitFailedWarning: Estimator fit failed. The score on this train-test partition for these parameters will be set to nan. Details: \n",
      "Traceback (most recent call last):\n",
      "  File \"C:\\Users\\abhi2\\anaconda3\\lib\\site-packages\\sklearn\\model_selection\\_validation.py\", line 593, in _fit_and_score\n",
      "    estimator.fit(X_train, y_train, **fit_params)\n",
      "  File \"C:\\Users\\abhi2\\anaconda3\\lib\\site-packages\\sklearn\\neighbors\\_classification.py\", line 179, in fit\n",
      "    return self._fit(X, y)\n",
      "  File \"C:\\Users\\abhi2\\anaconda3\\lib\\site-packages\\sklearn\\neighbors\\_base.py\", line 399, in _fit\n",
      "    self._check_algorithm_metric()\n",
      "  File \"C:\\Users\\abhi2\\anaconda3\\lib\\site-packages\\sklearn\\neighbors\\_base.py\", line 342, in _check_algorithm_metric\n",
      "    raise ValueError(\"Metric '%s' not valid. Use \"\n",
      "ValueError: Metric 'euclidian' not valid. Use sorted(sklearn.neighbors.VALID_METRICS['brute']) to get valid options. Metric can also be a callable function.\n",
      "\n",
      "  warnings.warn(\"Estimator fit failed. The score on this train-test\"\n",
      "C:\\Users\\abhi2\\anaconda3\\lib\\site-packages\\sklearn\\model_selection\\_validation.py:610: FitFailedWarning: Estimator fit failed. The score on this train-test partition for these parameters will be set to nan. Details: \n",
      "Traceback (most recent call last):\n",
      "  File \"C:\\Users\\abhi2\\anaconda3\\lib\\site-packages\\sklearn\\model_selection\\_validation.py\", line 593, in _fit_and_score\n",
      "    estimator.fit(X_train, y_train, **fit_params)\n",
      "  File \"C:\\Users\\abhi2\\anaconda3\\lib\\site-packages\\sklearn\\neighbors\\_classification.py\", line 179, in fit\n",
      "    return self._fit(X, y)\n",
      "  File \"C:\\Users\\abhi2\\anaconda3\\lib\\site-packages\\sklearn\\neighbors\\_base.py\", line 399, in _fit\n",
      "    self._check_algorithm_metric()\n",
      "  File \"C:\\Users\\abhi2\\anaconda3\\lib\\site-packages\\sklearn\\neighbors\\_base.py\", line 342, in _check_algorithm_metric\n",
      "    raise ValueError(\"Metric '%s' not valid. Use \"\n",
      "ValueError: Metric 'euclidian' not valid. Use sorted(sklearn.neighbors.VALID_METRICS['brute']) to get valid options. Metric can also be a callable function.\n",
      "\n",
      "  warnings.warn(\"Estimator fit failed. The score on this train-test\"\n",
      "C:\\Users\\abhi2\\anaconda3\\lib\\site-packages\\sklearn\\model_selection\\_validation.py:610: FitFailedWarning: Estimator fit failed. The score on this train-test partition for these parameters will be set to nan. Details: \n",
      "Traceback (most recent call last):\n",
      "  File \"C:\\Users\\abhi2\\anaconda3\\lib\\site-packages\\sklearn\\model_selection\\_validation.py\", line 593, in _fit_and_score\n",
      "    estimator.fit(X_train, y_train, **fit_params)\n",
      "  File \"C:\\Users\\abhi2\\anaconda3\\lib\\site-packages\\sklearn\\neighbors\\_classification.py\", line 179, in fit\n",
      "    return self._fit(X, y)\n",
      "  File \"C:\\Users\\abhi2\\anaconda3\\lib\\site-packages\\sklearn\\neighbors\\_base.py\", line 399, in _fit\n",
      "    self._check_algorithm_metric()\n",
      "  File \"C:\\Users\\abhi2\\anaconda3\\lib\\site-packages\\sklearn\\neighbors\\_base.py\", line 342, in _check_algorithm_metric\n",
      "    raise ValueError(\"Metric '%s' not valid. Use \"\n",
      "ValueError: Metric 'euclidian' not valid. Use sorted(sklearn.neighbors.VALID_METRICS['brute']) to get valid options. Metric can also be a callable function.\n",
      "\n",
      "  warnings.warn(\"Estimator fit failed. The score on this train-test\"\n",
      "C:\\Users\\abhi2\\anaconda3\\lib\\site-packages\\sklearn\\model_selection\\_validation.py:610: FitFailedWarning: Estimator fit failed. The score on this train-test partition for these parameters will be set to nan. Details: \n",
      "Traceback (most recent call last):\n",
      "  File \"C:\\Users\\abhi2\\anaconda3\\lib\\site-packages\\sklearn\\model_selection\\_validation.py\", line 593, in _fit_and_score\n",
      "    estimator.fit(X_train, y_train, **fit_params)\n",
      "  File \"C:\\Users\\abhi2\\anaconda3\\lib\\site-packages\\sklearn\\neighbors\\_classification.py\", line 179, in fit\n",
      "    return self._fit(X, y)\n",
      "  File \"C:\\Users\\abhi2\\anaconda3\\lib\\site-packages\\sklearn\\neighbors\\_base.py\", line 399, in _fit\n",
      "    self._check_algorithm_metric()\n",
      "  File \"C:\\Users\\abhi2\\anaconda3\\lib\\site-packages\\sklearn\\neighbors\\_base.py\", line 342, in _check_algorithm_metric\n",
      "    raise ValueError(\"Metric '%s' not valid. Use \"\n",
      "ValueError: Metric 'euclidian' not valid. Use sorted(sklearn.neighbors.VALID_METRICS['brute']) to get valid options. Metric can also be a callable function.\n",
      "\n",
      "  warnings.warn(\"Estimator fit failed. The score on this train-test\"\n",
      "C:\\Users\\abhi2\\anaconda3\\lib\\site-packages\\sklearn\\model_selection\\_validation.py:610: FitFailedWarning: Estimator fit failed. The score on this train-test partition for these parameters will be set to nan. Details: \n",
      "Traceback (most recent call last):\n",
      "  File \"C:\\Users\\abhi2\\anaconda3\\lib\\site-packages\\sklearn\\model_selection\\_validation.py\", line 593, in _fit_and_score\n",
      "    estimator.fit(X_train, y_train, **fit_params)\n",
      "  File \"C:\\Users\\abhi2\\anaconda3\\lib\\site-packages\\sklearn\\neighbors\\_classification.py\", line 179, in fit\n",
      "    return self._fit(X, y)\n",
      "  File \"C:\\Users\\abhi2\\anaconda3\\lib\\site-packages\\sklearn\\neighbors\\_base.py\", line 399, in _fit\n",
      "    self._check_algorithm_metric()\n",
      "  File \"C:\\Users\\abhi2\\anaconda3\\lib\\site-packages\\sklearn\\neighbors\\_base.py\", line 342, in _check_algorithm_metric\n",
      "    raise ValueError(\"Metric '%s' not valid. Use \"\n",
      "ValueError: Metric 'euclidian' not valid. Use sorted(sklearn.neighbors.VALID_METRICS['brute']) to get valid options. Metric can also be a callable function.\n",
      "\n",
      "  warnings.warn(\"Estimator fit failed. The score on this train-test\"\n",
      "C:\\Users\\abhi2\\anaconda3\\lib\\site-packages\\sklearn\\model_selection\\_validation.py:610: FitFailedWarning: Estimator fit failed. The score on this train-test partition for these parameters will be set to nan. Details: \n",
      "Traceback (most recent call last):\n",
      "  File \"C:\\Users\\abhi2\\anaconda3\\lib\\site-packages\\sklearn\\model_selection\\_validation.py\", line 593, in _fit_and_score\n",
      "    estimator.fit(X_train, y_train, **fit_params)\n",
      "  File \"C:\\Users\\abhi2\\anaconda3\\lib\\site-packages\\sklearn\\neighbors\\_classification.py\", line 179, in fit\n",
      "    return self._fit(X, y)\n",
      "  File \"C:\\Users\\abhi2\\anaconda3\\lib\\site-packages\\sklearn\\neighbors\\_base.py\", line 399, in _fit\n",
      "    self._check_algorithm_metric()\n",
      "  File \"C:\\Users\\abhi2\\anaconda3\\lib\\site-packages\\sklearn\\neighbors\\_base.py\", line 342, in _check_algorithm_metric\n",
      "    raise ValueError(\"Metric '%s' not valid. Use \"\n",
      "ValueError: Metric 'euclidian' not valid. Use sorted(sklearn.neighbors.VALID_METRICS['kd_tree']) to get valid options. Metric can also be a callable function.\n",
      "\n",
      "  warnings.warn(\"Estimator fit failed. The score on this train-test\"\n",
      "C:\\Users\\abhi2\\anaconda3\\lib\\site-packages\\sklearn\\model_selection\\_validation.py:610: FitFailedWarning: Estimator fit failed. The score on this train-test partition for these parameters will be set to nan. Details: \n",
      "Traceback (most recent call last):\n",
      "  File \"C:\\Users\\abhi2\\anaconda3\\lib\\site-packages\\sklearn\\model_selection\\_validation.py\", line 593, in _fit_and_score\n",
      "    estimator.fit(X_train, y_train, **fit_params)\n",
      "  File \"C:\\Users\\abhi2\\anaconda3\\lib\\site-packages\\sklearn\\neighbors\\_classification.py\", line 179, in fit\n",
      "    return self._fit(X, y)\n",
      "  File \"C:\\Users\\abhi2\\anaconda3\\lib\\site-packages\\sklearn\\neighbors\\_base.py\", line 399, in _fit\n",
      "    self._check_algorithm_metric()\n",
      "  File \"C:\\Users\\abhi2\\anaconda3\\lib\\site-packages\\sklearn\\neighbors\\_base.py\", line 342, in _check_algorithm_metric\n",
      "    raise ValueError(\"Metric '%s' not valid. Use \"\n",
      "ValueError: Metric 'euclidian' not valid. Use sorted(sklearn.neighbors.VALID_METRICS['kd_tree']) to get valid options. Metric can also be a callable function.\n",
      "\n",
      "  warnings.warn(\"Estimator fit failed. The score on this train-test\"\n",
      "C:\\Users\\abhi2\\anaconda3\\lib\\site-packages\\sklearn\\model_selection\\_validation.py:610: FitFailedWarning: Estimator fit failed. The score on this train-test partition for these parameters will be set to nan. Details: \n",
      "Traceback (most recent call last):\n",
      "  File \"C:\\Users\\abhi2\\anaconda3\\lib\\site-packages\\sklearn\\model_selection\\_validation.py\", line 593, in _fit_and_score\n",
      "    estimator.fit(X_train, y_train, **fit_params)\n",
      "  File \"C:\\Users\\abhi2\\anaconda3\\lib\\site-packages\\sklearn\\neighbors\\_classification.py\", line 179, in fit\n",
      "    return self._fit(X, y)\n",
      "  File \"C:\\Users\\abhi2\\anaconda3\\lib\\site-packages\\sklearn\\neighbors\\_base.py\", line 399, in _fit\n",
      "    self._check_algorithm_metric()\n",
      "  File \"C:\\Users\\abhi2\\anaconda3\\lib\\site-packages\\sklearn\\neighbors\\_base.py\", line 342, in _check_algorithm_metric\n",
      "    raise ValueError(\"Metric '%s' not valid. Use \"\n",
      "ValueError: Metric 'euclidian' not valid. Use sorted(sklearn.neighbors.VALID_METRICS['kd_tree']) to get valid options. Metric can also be a callable function.\n",
      "\n",
      "  warnings.warn(\"Estimator fit failed. The score on this train-test\"\n",
      "C:\\Users\\abhi2\\anaconda3\\lib\\site-packages\\sklearn\\model_selection\\_validation.py:610: FitFailedWarning: Estimator fit failed. The score on this train-test partition for these parameters will be set to nan. Details: \n",
      "Traceback (most recent call last):\n",
      "  File \"C:\\Users\\abhi2\\anaconda3\\lib\\site-packages\\sklearn\\model_selection\\_validation.py\", line 593, in _fit_and_score\n",
      "    estimator.fit(X_train, y_train, **fit_params)\n",
      "  File \"C:\\Users\\abhi2\\anaconda3\\lib\\site-packages\\sklearn\\neighbors\\_classification.py\", line 179, in fit\n",
      "    return self._fit(X, y)\n",
      "  File \"C:\\Users\\abhi2\\anaconda3\\lib\\site-packages\\sklearn\\neighbors\\_base.py\", line 399, in _fit\n",
      "    self._check_algorithm_metric()\n",
      "  File \"C:\\Users\\abhi2\\anaconda3\\lib\\site-packages\\sklearn\\neighbors\\_base.py\", line 342, in _check_algorithm_metric\n",
      "    raise ValueError(\"Metric '%s' not valid. Use \"\n",
      "ValueError: Metric 'euclidian' not valid. Use sorted(sklearn.neighbors.VALID_METRICS['kd_tree']) to get valid options. Metric can also be a callable function.\n",
      "\n",
      "  warnings.warn(\"Estimator fit failed. The score on this train-test\"\n",
      "C:\\Users\\abhi2\\anaconda3\\lib\\site-packages\\sklearn\\model_selection\\_validation.py:610: FitFailedWarning: Estimator fit failed. The score on this train-test partition for these parameters will be set to nan. Details: \n",
      "Traceback (most recent call last):\n",
      "  File \"C:\\Users\\abhi2\\anaconda3\\lib\\site-packages\\sklearn\\model_selection\\_validation.py\", line 593, in _fit_and_score\n",
      "    estimator.fit(X_train, y_train, **fit_params)\n",
      "  File \"C:\\Users\\abhi2\\anaconda3\\lib\\site-packages\\sklearn\\neighbors\\_classification.py\", line 179, in fit\n",
      "    return self._fit(X, y)\n",
      "  File \"C:\\Users\\abhi2\\anaconda3\\lib\\site-packages\\sklearn\\neighbors\\_base.py\", line 399, in _fit\n",
      "    self._check_algorithm_metric()\n",
      "  File \"C:\\Users\\abhi2\\anaconda3\\lib\\site-packages\\sklearn\\neighbors\\_base.py\", line 342, in _check_algorithm_metric\n",
      "    raise ValueError(\"Metric '%s' not valid. Use \"\n",
      "ValueError: Metric 'euclidian' not valid. Use sorted(sklearn.neighbors.VALID_METRICS['kd_tree']) to get valid options. Metric can also be a callable function.\n",
      "\n",
      "  warnings.warn(\"Estimator fit failed. The score on this train-test\"\n",
      "C:\\Users\\abhi2\\anaconda3\\lib\\site-packages\\sklearn\\model_selection\\_validation.py:610: FitFailedWarning: Estimator fit failed. The score on this train-test partition for these parameters will be set to nan. Details: \n",
      "Traceback (most recent call last):\n",
      "  File \"C:\\Users\\abhi2\\anaconda3\\lib\\site-packages\\sklearn\\model_selection\\_validation.py\", line 593, in _fit_and_score\n",
      "    estimator.fit(X_train, y_train, **fit_params)\n",
      "  File \"C:\\Users\\abhi2\\anaconda3\\lib\\site-packages\\sklearn\\neighbors\\_classification.py\", line 179, in fit\n",
      "    return self._fit(X, y)\n",
      "  File \"C:\\Users\\abhi2\\anaconda3\\lib\\site-packages\\sklearn\\neighbors\\_base.py\", line 399, in _fit\n",
      "    self._check_algorithm_metric()\n",
      "  File \"C:\\Users\\abhi2\\anaconda3\\lib\\site-packages\\sklearn\\neighbors\\_base.py\", line 342, in _check_algorithm_metric\n",
      "    raise ValueError(\"Metric '%s' not valid. Use \"\n",
      "ValueError: Metric 'wminkowski' not valid. Use sorted(sklearn.neighbors.VALID_METRICS['kd_tree']) to get valid options. Metric can also be a callable function.\n",
      "\n",
      "  warnings.warn(\"Estimator fit failed. The score on this train-test\"\n",
      "C:\\Users\\abhi2\\anaconda3\\lib\\site-packages\\sklearn\\model_selection\\_validation.py:610: FitFailedWarning: Estimator fit failed. The score on this train-test partition for these parameters will be set to nan. Details: \n",
      "Traceback (most recent call last):\n",
      "  File \"C:\\Users\\abhi2\\anaconda3\\lib\\site-packages\\sklearn\\model_selection\\_validation.py\", line 593, in _fit_and_score\n",
      "    estimator.fit(X_train, y_train, **fit_params)\n",
      "  File \"C:\\Users\\abhi2\\anaconda3\\lib\\site-packages\\sklearn\\neighbors\\_classification.py\", line 179, in fit\n",
      "    return self._fit(X, y)\n",
      "  File \"C:\\Users\\abhi2\\anaconda3\\lib\\site-packages\\sklearn\\neighbors\\_base.py\", line 399, in _fit\n",
      "    self._check_algorithm_metric()\n",
      "  File \"C:\\Users\\abhi2\\anaconda3\\lib\\site-packages\\sklearn\\neighbors\\_base.py\", line 342, in _check_algorithm_metric\n",
      "    raise ValueError(\"Metric '%s' not valid. Use \"\n",
      "ValueError: Metric 'wminkowski' not valid. Use sorted(sklearn.neighbors.VALID_METRICS['kd_tree']) to get valid options. Metric can also be a callable function.\n",
      "\n",
      "  warnings.warn(\"Estimator fit failed. The score on this train-test\"\n",
      "C:\\Users\\abhi2\\anaconda3\\lib\\site-packages\\sklearn\\model_selection\\_validation.py:610: FitFailedWarning: Estimator fit failed. The score on this train-test partition for these parameters will be set to nan. Details: \n",
      "Traceback (most recent call last):\n",
      "  File \"C:\\Users\\abhi2\\anaconda3\\lib\\site-packages\\sklearn\\model_selection\\_validation.py\", line 593, in _fit_and_score\n",
      "    estimator.fit(X_train, y_train, **fit_params)\n",
      "  File \"C:\\Users\\abhi2\\anaconda3\\lib\\site-packages\\sklearn\\neighbors\\_classification.py\", line 179, in fit\n",
      "    return self._fit(X, y)\n",
      "  File \"C:\\Users\\abhi2\\anaconda3\\lib\\site-packages\\sklearn\\neighbors\\_base.py\", line 399, in _fit\n",
      "    self._check_algorithm_metric()\n",
      "  File \"C:\\Users\\abhi2\\anaconda3\\lib\\site-packages\\sklearn\\neighbors\\_base.py\", line 342, in _check_algorithm_metric\n",
      "    raise ValueError(\"Metric '%s' not valid. Use \"\n",
      "ValueError: Metric 'wminkowski' not valid. Use sorted(sklearn.neighbors.VALID_METRICS['kd_tree']) to get valid options. Metric can also be a callable function.\n",
      "\n",
      "  warnings.warn(\"Estimator fit failed. The score on this train-test\"\n",
      "C:\\Users\\abhi2\\anaconda3\\lib\\site-packages\\sklearn\\model_selection\\_validation.py:610: FitFailedWarning: Estimator fit failed. The score on this train-test partition for these parameters will be set to nan. Details: \n",
      "Traceback (most recent call last):\n",
      "  File \"C:\\Users\\abhi2\\anaconda3\\lib\\site-packages\\sklearn\\model_selection\\_validation.py\", line 593, in _fit_and_score\n",
      "    estimator.fit(X_train, y_train, **fit_params)\n",
      "  File \"C:\\Users\\abhi2\\anaconda3\\lib\\site-packages\\sklearn\\neighbors\\_classification.py\", line 179, in fit\n",
      "    return self._fit(X, y)\n",
      "  File \"C:\\Users\\abhi2\\anaconda3\\lib\\site-packages\\sklearn\\neighbors\\_base.py\", line 399, in _fit\n",
      "    self._check_algorithm_metric()\n",
      "  File \"C:\\Users\\abhi2\\anaconda3\\lib\\site-packages\\sklearn\\neighbors\\_base.py\", line 342, in _check_algorithm_metric\n",
      "    raise ValueError(\"Metric '%s' not valid. Use \"\n",
      "ValueError: Metric 'wminkowski' not valid. Use sorted(sklearn.neighbors.VALID_METRICS['kd_tree']) to get valid options. Metric can also be a callable function.\n",
      "\n",
      "  warnings.warn(\"Estimator fit failed. The score on this train-test\"\n",
      "C:\\Users\\abhi2\\anaconda3\\lib\\site-packages\\sklearn\\model_selection\\_validation.py:610: FitFailedWarning: Estimator fit failed. The score on this train-test partition for these parameters will be set to nan. Details: \n",
      "Traceback (most recent call last):\n",
      "  File \"C:\\Users\\abhi2\\anaconda3\\lib\\site-packages\\sklearn\\model_selection\\_validation.py\", line 593, in _fit_and_score\n",
      "    estimator.fit(X_train, y_train, **fit_params)\n",
      "  File \"C:\\Users\\abhi2\\anaconda3\\lib\\site-packages\\sklearn\\neighbors\\_classification.py\", line 179, in fit\n",
      "    return self._fit(X, y)\n",
      "  File \"C:\\Users\\abhi2\\anaconda3\\lib\\site-packages\\sklearn\\neighbors\\_base.py\", line 399, in _fit\n",
      "    self._check_algorithm_metric()\n",
      "  File \"C:\\Users\\abhi2\\anaconda3\\lib\\site-packages\\sklearn\\neighbors\\_base.py\", line 342, in _check_algorithm_metric\n",
      "    raise ValueError(\"Metric '%s' not valid. Use \"\n",
      "ValueError: Metric 'wminkowski' not valid. Use sorted(sklearn.neighbors.VALID_METRICS['kd_tree']) to get valid options. Metric can also be a callable function.\n",
      "\n",
      "  warnings.warn(\"Estimator fit failed. The score on this train-test\"\n",
      "C:\\Users\\abhi2\\anaconda3\\lib\\site-packages\\sklearn\\model_selection\\_validation.py:610: FitFailedWarning: Estimator fit failed. The score on this train-test partition for these parameters will be set to nan. Details: \n",
      "Traceback (most recent call last):\n",
      "  File \"C:\\Users\\abhi2\\anaconda3\\lib\\site-packages\\sklearn\\model_selection\\_validation.py\", line 593, in _fit_and_score\n",
      "    estimator.fit(X_train, y_train, **fit_params)\n",
      "  File \"C:\\Users\\abhi2\\anaconda3\\lib\\site-packages\\sklearn\\neighbors\\_classification.py\", line 179, in fit\n",
      "    return self._fit(X, y)\n",
      "  File \"C:\\Users\\abhi2\\anaconda3\\lib\\site-packages\\sklearn\\neighbors\\_base.py\", line 499, in _fit\n",
      "    self._tree = BallTree(X, self.leaf_size,\n",
      "  File \"sklearn\\neighbors\\_binary_tree.pxi\", line 1063, in sklearn.neighbors._ball_tree.BinaryTree.__init__\n",
      "  File \"sklearn\\neighbors\\_dist_metrics.pyx\", line 289, in sklearn.neighbors._dist_metrics.DistanceMetric.get_metric\n",
      "  File \"sklearn\\neighbors\\_dist_metrics.pyx\", line 612, in sklearn.neighbors._dist_metrics.WMinkowskiDistance.__init__\n",
      "TypeError: __init__() takes exactly 2 positional arguments (1 given)\n",
      "\n",
      "  warnings.warn(\"Estimator fit failed. The score on this train-test\"\n",
      "C:\\Users\\abhi2\\anaconda3\\lib\\site-packages\\sklearn\\model_selection\\_validation.py:610: FitFailedWarning: Estimator fit failed. The score on this train-test partition for these parameters will be set to nan. Details: \n",
      "Traceback (most recent call last):\n",
      "  File \"C:\\Users\\abhi2\\anaconda3\\lib\\site-packages\\sklearn\\model_selection\\_validation.py\", line 593, in _fit_and_score\n",
      "    estimator.fit(X_train, y_train, **fit_params)\n",
      "  File \"C:\\Users\\abhi2\\anaconda3\\lib\\site-packages\\sklearn\\neighbors\\_classification.py\", line 179, in fit\n",
      "    return self._fit(X, y)\n",
      "  File \"C:\\Users\\abhi2\\anaconda3\\lib\\site-packages\\sklearn\\neighbors\\_base.py\", line 499, in _fit\n",
      "    self._tree = BallTree(X, self.leaf_size,\n",
      "  File \"sklearn\\neighbors\\_binary_tree.pxi\", line 1063, in sklearn.neighbors._ball_tree.BinaryTree.__init__\n",
      "  File \"sklearn\\neighbors\\_dist_metrics.pyx\", line 289, in sklearn.neighbors._dist_metrics.DistanceMetric.get_metric\n",
      "  File \"sklearn\\neighbors\\_dist_metrics.pyx\", line 612, in sklearn.neighbors._dist_metrics.WMinkowskiDistance.__init__\n",
      "TypeError: __init__() takes exactly 2 positional arguments (1 given)\n",
      "\n",
      "  warnings.warn(\"Estimator fit failed. The score on this train-test\"\n",
      "C:\\Users\\abhi2\\anaconda3\\lib\\site-packages\\sklearn\\model_selection\\_validation.py:610: FitFailedWarning: Estimator fit failed. The score on this train-test partition for these parameters will be set to nan. Details: \n",
      "Traceback (most recent call last):\n",
      "  File \"C:\\Users\\abhi2\\anaconda3\\lib\\site-packages\\sklearn\\model_selection\\_validation.py\", line 593, in _fit_and_score\n",
      "    estimator.fit(X_train, y_train, **fit_params)\n",
      "  File \"C:\\Users\\abhi2\\anaconda3\\lib\\site-packages\\sklearn\\neighbors\\_classification.py\", line 179, in fit\n",
      "    return self._fit(X, y)\n",
      "  File \"C:\\Users\\abhi2\\anaconda3\\lib\\site-packages\\sklearn\\neighbors\\_base.py\", line 499, in _fit\n",
      "    self._tree = BallTree(X, self.leaf_size,\n",
      "  File \"sklearn\\neighbors\\_binary_tree.pxi\", line 1063, in sklearn.neighbors._ball_tree.BinaryTree.__init__\n",
      "  File \"sklearn\\neighbors\\_dist_metrics.pyx\", line 289, in sklearn.neighbors._dist_metrics.DistanceMetric.get_metric\n",
      "  File \"sklearn\\neighbors\\_dist_metrics.pyx\", line 612, in sklearn.neighbors._dist_metrics.WMinkowskiDistance.__init__\n",
      "TypeError: __init__() takes exactly 2 positional arguments (1 given)\n",
      "\n",
      "  warnings.warn(\"Estimator fit failed. The score on this train-test\"\n",
      "C:\\Users\\abhi2\\anaconda3\\lib\\site-packages\\sklearn\\model_selection\\_validation.py:610: FitFailedWarning: Estimator fit failed. The score on this train-test partition for these parameters will be set to nan. Details: \n",
      "Traceback (most recent call last):\n",
      "  File \"C:\\Users\\abhi2\\anaconda3\\lib\\site-packages\\sklearn\\model_selection\\_validation.py\", line 593, in _fit_and_score\n",
      "    estimator.fit(X_train, y_train, **fit_params)\n",
      "  File \"C:\\Users\\abhi2\\anaconda3\\lib\\site-packages\\sklearn\\neighbors\\_classification.py\", line 179, in fit\n",
      "    return self._fit(X, y)\n",
      "  File \"C:\\Users\\abhi2\\anaconda3\\lib\\site-packages\\sklearn\\neighbors\\_base.py\", line 499, in _fit\n",
      "    self._tree = BallTree(X, self.leaf_size,\n",
      "  File \"sklearn\\neighbors\\_binary_tree.pxi\", line 1063, in sklearn.neighbors._ball_tree.BinaryTree.__init__\n",
      "  File \"sklearn\\neighbors\\_dist_metrics.pyx\", line 289, in sklearn.neighbors._dist_metrics.DistanceMetric.get_metric\n",
      "  File \"sklearn\\neighbors\\_dist_metrics.pyx\", line 612, in sklearn.neighbors._dist_metrics.WMinkowskiDistance.__init__\n",
      "TypeError: __init__() takes exactly 2 positional arguments (1 given)\n",
      "\n",
      "  warnings.warn(\"Estimator fit failed. The score on this train-test\"\n",
      "C:\\Users\\abhi2\\anaconda3\\lib\\site-packages\\sklearn\\model_selection\\_validation.py:610: FitFailedWarning: Estimator fit failed. The score on this train-test partition for these parameters will be set to nan. Details: \n",
      "Traceback (most recent call last):\n",
      "  File \"C:\\Users\\abhi2\\anaconda3\\lib\\site-packages\\sklearn\\model_selection\\_validation.py\", line 593, in _fit_and_score\n",
      "    estimator.fit(X_train, y_train, **fit_params)\n",
      "  File \"C:\\Users\\abhi2\\anaconda3\\lib\\site-packages\\sklearn\\neighbors\\_classification.py\", line 179, in fit\n",
      "    return self._fit(X, y)\n",
      "  File \"C:\\Users\\abhi2\\anaconda3\\lib\\site-packages\\sklearn\\neighbors\\_base.py\", line 499, in _fit\n",
      "    self._tree = BallTree(X, self.leaf_size,\n",
      "  File \"sklearn\\neighbors\\_binary_tree.pxi\", line 1063, in sklearn.neighbors._ball_tree.BinaryTree.__init__\n",
      "  File \"sklearn\\neighbors\\_dist_metrics.pyx\", line 289, in sklearn.neighbors._dist_metrics.DistanceMetric.get_metric\n",
      "  File \"sklearn\\neighbors\\_dist_metrics.pyx\", line 612, in sklearn.neighbors._dist_metrics.WMinkowskiDistance.__init__\n",
      "TypeError: __init__() takes exactly 2 positional arguments (1 given)\n",
      "\n",
      "  warnings.warn(\"Estimator fit failed. The score on this train-test\"\n",
      "C:\\Users\\abhi2\\anaconda3\\lib\\site-packages\\sklearn\\model_selection\\_validation.py:610: FitFailedWarning: Estimator fit failed. The score on this train-test partition for these parameters will be set to nan. Details: \n",
      "Traceback (most recent call last):\n",
      "  File \"C:\\Users\\abhi2\\anaconda3\\lib\\site-packages\\sklearn\\model_selection\\_validation.py\", line 593, in _fit_and_score\n",
      "    estimator.fit(X_train, y_train, **fit_params)\n",
      "  File \"C:\\Users\\abhi2\\anaconda3\\lib\\site-packages\\sklearn\\neighbors\\_classification.py\", line 179, in fit\n",
      "    return self._fit(X, y)\n",
      "  File \"C:\\Users\\abhi2\\anaconda3\\lib\\site-packages\\sklearn\\neighbors\\_base.py\", line 499, in _fit\n",
      "    self._tree = BallTree(X, self.leaf_size,\n",
      "  File \"sklearn\\neighbors\\_binary_tree.pxi\", line 1063, in sklearn.neighbors._ball_tree.BinaryTree.__init__\n",
      "  File \"sklearn\\neighbors\\_dist_metrics.pyx\", line 289, in sklearn.neighbors._dist_metrics.DistanceMetric.get_metric\n",
      "  File \"sklearn\\neighbors\\_dist_metrics.pyx\", line 612, in sklearn.neighbors._dist_metrics.WMinkowskiDistance.__init__\n",
      "TypeError: __init__() takes exactly 2 positional arguments (1 given)\n",
      "\n",
      "  warnings.warn(\"Estimator fit failed. The score on this train-test\"\n",
      "C:\\Users\\abhi2\\anaconda3\\lib\\site-packages\\sklearn\\model_selection\\_validation.py:610: FitFailedWarning: Estimator fit failed. The score on this train-test partition for these parameters will be set to nan. Details: \n",
      "Traceback (most recent call last):\n",
      "  File \"C:\\Users\\abhi2\\anaconda3\\lib\\site-packages\\sklearn\\model_selection\\_validation.py\", line 593, in _fit_and_score\n",
      "    estimator.fit(X_train, y_train, **fit_params)\n",
      "  File \"C:\\Users\\abhi2\\anaconda3\\lib\\site-packages\\sklearn\\neighbors\\_classification.py\", line 179, in fit\n",
      "    return self._fit(X, y)\n",
      "  File \"C:\\Users\\abhi2\\anaconda3\\lib\\site-packages\\sklearn\\neighbors\\_base.py\", line 499, in _fit\n",
      "    self._tree = BallTree(X, self.leaf_size,\n",
      "  File \"sklearn\\neighbors\\_binary_tree.pxi\", line 1063, in sklearn.neighbors._ball_tree.BinaryTree.__init__\n",
      "  File \"sklearn\\neighbors\\_dist_metrics.pyx\", line 289, in sklearn.neighbors._dist_metrics.DistanceMetric.get_metric\n",
      "  File \"sklearn\\neighbors\\_dist_metrics.pyx\", line 612, in sklearn.neighbors._dist_metrics.WMinkowskiDistance.__init__\n",
      "TypeError: __init__() takes exactly 2 positional arguments (1 given)\n",
      "\n",
      "  warnings.warn(\"Estimator fit failed. The score on this train-test\"\n",
      "C:\\Users\\abhi2\\anaconda3\\lib\\site-packages\\sklearn\\model_selection\\_validation.py:610: FitFailedWarning: Estimator fit failed. The score on this train-test partition for these parameters will be set to nan. Details: \n",
      "Traceback (most recent call last):\n",
      "  File \"C:\\Users\\abhi2\\anaconda3\\lib\\site-packages\\sklearn\\model_selection\\_validation.py\", line 593, in _fit_and_score\n",
      "    estimator.fit(X_train, y_train, **fit_params)\n",
      "  File \"C:\\Users\\abhi2\\anaconda3\\lib\\site-packages\\sklearn\\neighbors\\_classification.py\", line 179, in fit\n",
      "    return self._fit(X, y)\n",
      "  File \"C:\\Users\\abhi2\\anaconda3\\lib\\site-packages\\sklearn\\neighbors\\_base.py\", line 499, in _fit\n",
      "    self._tree = BallTree(X, self.leaf_size,\n",
      "  File \"sklearn\\neighbors\\_binary_tree.pxi\", line 1063, in sklearn.neighbors._ball_tree.BinaryTree.__init__\n",
      "  File \"sklearn\\neighbors\\_dist_metrics.pyx\", line 289, in sklearn.neighbors._dist_metrics.DistanceMetric.get_metric\n",
      "  File \"sklearn\\neighbors\\_dist_metrics.pyx\", line 612, in sklearn.neighbors._dist_metrics.WMinkowskiDistance.__init__\n",
      "TypeError: __init__() takes exactly 2 positional arguments (1 given)\n",
      "\n",
      "  warnings.warn(\"Estimator fit failed. The score on this train-test\"\n",
      "C:\\Users\\abhi2\\anaconda3\\lib\\site-packages\\sklearn\\model_selection\\_validation.py:610: FitFailedWarning: Estimator fit failed. The score on this train-test partition for these parameters will be set to nan. Details: \n",
      "Traceback (most recent call last):\n",
      "  File \"C:\\Users\\abhi2\\anaconda3\\lib\\site-packages\\sklearn\\model_selection\\_validation.py\", line 593, in _fit_and_score\n",
      "    estimator.fit(X_train, y_train, **fit_params)\n",
      "  File \"C:\\Users\\abhi2\\anaconda3\\lib\\site-packages\\sklearn\\neighbors\\_classification.py\", line 179, in fit\n",
      "    return self._fit(X, y)\n",
      "  File \"C:\\Users\\abhi2\\anaconda3\\lib\\site-packages\\sklearn\\neighbors\\_base.py\", line 499, in _fit\n",
      "    self._tree = BallTree(X, self.leaf_size,\n",
      "  File \"sklearn\\neighbors\\_binary_tree.pxi\", line 1063, in sklearn.neighbors._ball_tree.BinaryTree.__init__\n",
      "  File \"sklearn\\neighbors\\_dist_metrics.pyx\", line 289, in sklearn.neighbors._dist_metrics.DistanceMetric.get_metric\n",
      "  File \"sklearn\\neighbors\\_dist_metrics.pyx\", line 612, in sklearn.neighbors._dist_metrics.WMinkowskiDistance.__init__\n",
      "TypeError: __init__() takes exactly 2 positional arguments (1 given)\n",
      "\n",
      "  warnings.warn(\"Estimator fit failed. The score on this train-test\"\n",
      "C:\\Users\\abhi2\\anaconda3\\lib\\site-packages\\sklearn\\model_selection\\_validation.py:610: FitFailedWarning: Estimator fit failed. The score on this train-test partition for these parameters will be set to nan. Details: \n",
      "Traceback (most recent call last):\n",
      "  File \"C:\\Users\\abhi2\\anaconda3\\lib\\site-packages\\sklearn\\model_selection\\_validation.py\", line 593, in _fit_and_score\n",
      "    estimator.fit(X_train, y_train, **fit_params)\n",
      "  File \"C:\\Users\\abhi2\\anaconda3\\lib\\site-packages\\sklearn\\neighbors\\_classification.py\", line 179, in fit\n",
      "    return self._fit(X, y)\n",
      "  File \"C:\\Users\\abhi2\\anaconda3\\lib\\site-packages\\sklearn\\neighbors\\_base.py\", line 499, in _fit\n",
      "    self._tree = BallTree(X, self.leaf_size,\n",
      "  File \"sklearn\\neighbors\\_binary_tree.pxi\", line 1063, in sklearn.neighbors._ball_tree.BinaryTree.__init__\n",
      "  File \"sklearn\\neighbors\\_dist_metrics.pyx\", line 289, in sklearn.neighbors._dist_metrics.DistanceMetric.get_metric\n",
      "  File \"sklearn\\neighbors\\_dist_metrics.pyx\", line 612, in sklearn.neighbors._dist_metrics.WMinkowskiDistance.__init__\n",
      "TypeError: __init__() takes exactly 2 positional arguments (1 given)\n",
      "\n",
      "  warnings.warn(\"Estimator fit failed. The score on this train-test\"\n",
      "C:\\Users\\abhi2\\anaconda3\\lib\\site-packages\\sklearn\\model_selection\\_search.py:918: UserWarning: One or more of the test scores are non-finite: [0.67312925        nan        nan        nan        nan 0.63596939\n",
      "        nan        nan        nan        nan]\n",
      "  warnings.warn(\n"
     ]
    },
    {
     "data": {
      "text/plain": [
       "RandomizedSearchCV(cv=5, estimator=KNeighborsClassifier(n_neighbors=20),\n",
       "                   param_distributions={'algorithm': ['auto', 'ball_tree',\n",
       "                                                      'kd_tree'],\n",
       "                                        'metric': ['minkowski', 'euclidian',\n",
       "                                                   'wminkowski'],\n",
       "                                        'n_neighbors': [14], 'p': [1, 2],\n",
       "                                        'weights': ['uniform', 'distance']},\n",
       "                   verbose=2)"
      ]
     },
     "execution_count": 89,
     "metadata": {},
     "output_type": "execute_result"
    }
   ],
   "source": [
    "grid = {'algorithm': ['auto','ball_tree', 'kd_tree'],\n",
    " 'metric': ['minkowski', 'euclidian','wminkowski'],\n",
    " 'n_neighbors': [14],\n",
    " 'p': [1,2],\n",
    " 'weights': ['uniform','distance']} \n",
    "\n",
    "knn = models['KNN']\n",
    "rs_knn = RandomizedSearchCV(estimator = knn,\n",
    "                           param_distributions = grid,\n",
    "                           n_iter = 10,\n",
    "                           verbose = 2,\n",
    "                           cv = 5)\n",
    "rs_knn.fit(X_train, y_train)"
   ]
  },
  {
   "cell_type": "code",
   "execution_count": 92,
   "id": "3aed03cb",
   "metadata": {},
   "outputs": [
    {
     "data": {
      "text/plain": [
       "{'weights': 'distance',\n",
       " 'p': 1,\n",
       " 'n_neighbors': 14,\n",
       " 'metric': 'minkowski',\n",
       " 'algorithm': 'auto'}"
      ]
     },
     "execution_count": 92,
     "metadata": {},
     "output_type": "execute_result"
    }
   ],
   "source": [
    "rs_knn.best_params_"
   ]
  },
  {
   "cell_type": "code",
   "execution_count": 97,
   "id": "2c92fbb1",
   "metadata": {},
   "outputs": [
    {
     "name": "stdout",
     "output_type": "stream",
     "text": [
      "Fitting 5 folds for each of 6 candidates, totalling 30 fits\n",
      "[CV] END algorithm=auto, metric=minkowski, n_neighbors=14, p=1, weights=distance; total time=   0.0s\n",
      "[CV] END algorithm=auto, metric=minkowski, n_neighbors=14, p=1, weights=distance; total time=   0.0s\n",
      "[CV] END algorithm=auto, metric=minkowski, n_neighbors=14, p=1, weights=distance; total time=   0.0s\n",
      "[CV] END algorithm=auto, metric=minkowski, n_neighbors=14, p=1, weights=distance; total time=   0.0s\n",
      "[CV] END algorithm=auto, metric=minkowski, n_neighbors=14, p=1, weights=distance; total time=   0.0s\n",
      "[CV] END algorithm=auto, metric=minkowski, n_neighbors=20, p=1, weights=distance; total time=   0.0s\n",
      "[CV] END algorithm=auto, metric=minkowski, n_neighbors=20, p=1, weights=distance; total time=   0.0s\n",
      "[CV] END algorithm=auto, metric=minkowski, n_neighbors=20, p=1, weights=distance; total time=   0.0s\n",
      "[CV] END algorithm=auto, metric=minkowski, n_neighbors=20, p=1, weights=distance; total time=   0.0s\n",
      "[CV] END algorithm=auto, metric=minkowski, n_neighbors=20, p=1, weights=distance; total time=   0.0s\n",
      "[CV] END algorithm=auto, metric=minkowski, n_neighbors=30, p=1, weights=distance; total time=   0.0s\n",
      "[CV] END algorithm=auto, metric=minkowski, n_neighbors=30, p=1, weights=distance; total time=   0.0s\n",
      "[CV] END algorithm=auto, metric=minkowski, n_neighbors=30, p=1, weights=distance; total time=   0.0s\n",
      "[CV] END algorithm=auto, metric=minkowski, n_neighbors=30, p=1, weights=distance; total time=   0.0s\n",
      "[CV] END algorithm=auto, metric=minkowski, n_neighbors=30, p=1, weights=distance; total time=   0.0s\n",
      "[CV] END algorithm=auto, metric=euclidian, n_neighbors=14, p=1, weights=distance; total time=   0.0s\n",
      "[CV] END algorithm=auto, metric=euclidian, n_neighbors=14, p=1, weights=distance; total time=   0.0s\n",
      "[CV] END algorithm=auto, metric=euclidian, n_neighbors=14, p=1, weights=distance; total time=   0.0s\n",
      "[CV] END algorithm=auto, metric=euclidian, n_neighbors=14, p=1, weights=distance; total time=   0.0s\n",
      "[CV] END algorithm=auto, metric=euclidian, n_neighbors=14, p=1, weights=distance; total time=   0.0s\n",
      "[CV] END algorithm=auto, metric=euclidian, n_neighbors=20, p=1, weights=distance; total time=   0.0s\n",
      "[CV] END algorithm=auto, metric=euclidian, n_neighbors=20, p=1, weights=distance; total time=   0.0s\n",
      "[CV] END algorithm=auto, metric=euclidian, n_neighbors=20, p=1, weights=distance; total time=   0.0s\n",
      "[CV] END algorithm=auto, metric=euclidian, n_neighbors=20, p=1, weights=distance; total time=   0.0s\n",
      "[CV] END algorithm=auto, metric=euclidian, n_neighbors=20, p=1, weights=distance; total time=   0.0s\n",
      "[CV] END algorithm=auto, metric=euclidian, n_neighbors=30, p=1, weights=distance; total time=   0.0s\n",
      "[CV] END algorithm=auto, metric=euclidian, n_neighbors=30, p=1, weights=distance; total time=   0.0s\n",
      "[CV] END algorithm=auto, metric=euclidian, n_neighbors=30, p=1, weights=distance; total time=   0.0s\n",
      "[CV] END algorithm=auto, metric=euclidian, n_neighbors=30, p=1, weights=distance; total time=   0.0s\n",
      "[CV] END algorithm=auto, metric=euclidian, n_neighbors=30, p=1, weights=distance; total time=   0.0s\n"
     ]
    },
    {
     "name": "stderr",
     "output_type": "stream",
     "text": [
      "C:\\Users\\abhi2\\anaconda3\\lib\\site-packages\\sklearn\\model_selection\\_validation.py:610: FitFailedWarning: Estimator fit failed. The score on this train-test partition for these parameters will be set to nan. Details: \n",
      "Traceback (most recent call last):\n",
      "  File \"C:\\Users\\abhi2\\anaconda3\\lib\\site-packages\\sklearn\\model_selection\\_validation.py\", line 593, in _fit_and_score\n",
      "    estimator.fit(X_train, y_train, **fit_params)\n",
      "  File \"C:\\Users\\abhi2\\anaconda3\\lib\\site-packages\\sklearn\\neighbors\\_classification.py\", line 179, in fit\n",
      "    return self._fit(X, y)\n",
      "  File \"C:\\Users\\abhi2\\anaconda3\\lib\\site-packages\\sklearn\\neighbors\\_base.py\", line 399, in _fit\n",
      "    self._check_algorithm_metric()\n",
      "  File \"C:\\Users\\abhi2\\anaconda3\\lib\\site-packages\\sklearn\\neighbors\\_base.py\", line 342, in _check_algorithm_metric\n",
      "    raise ValueError(\"Metric '%s' not valid. Use \"\n",
      "ValueError: Metric 'euclidian' not valid. Use sorted(sklearn.neighbors.VALID_METRICS['brute']) to get valid options. Metric can also be a callable function.\n",
      "\n",
      "  warnings.warn(\"Estimator fit failed. The score on this train-test\"\n",
      "C:\\Users\\abhi2\\anaconda3\\lib\\site-packages\\sklearn\\model_selection\\_validation.py:610: FitFailedWarning: Estimator fit failed. The score on this train-test partition for these parameters will be set to nan. Details: \n",
      "Traceback (most recent call last):\n",
      "  File \"C:\\Users\\abhi2\\anaconda3\\lib\\site-packages\\sklearn\\model_selection\\_validation.py\", line 593, in _fit_and_score\n",
      "    estimator.fit(X_train, y_train, **fit_params)\n",
      "  File \"C:\\Users\\abhi2\\anaconda3\\lib\\site-packages\\sklearn\\neighbors\\_classification.py\", line 179, in fit\n",
      "    return self._fit(X, y)\n",
      "  File \"C:\\Users\\abhi2\\anaconda3\\lib\\site-packages\\sklearn\\neighbors\\_base.py\", line 399, in _fit\n",
      "    self._check_algorithm_metric()\n",
      "  File \"C:\\Users\\abhi2\\anaconda3\\lib\\site-packages\\sklearn\\neighbors\\_base.py\", line 342, in _check_algorithm_metric\n",
      "    raise ValueError(\"Metric '%s' not valid. Use \"\n",
      "ValueError: Metric 'euclidian' not valid. Use sorted(sklearn.neighbors.VALID_METRICS['brute']) to get valid options. Metric can also be a callable function.\n",
      "\n",
      "  warnings.warn(\"Estimator fit failed. The score on this train-test\"\n",
      "C:\\Users\\abhi2\\anaconda3\\lib\\site-packages\\sklearn\\model_selection\\_validation.py:610: FitFailedWarning: Estimator fit failed. The score on this train-test partition for these parameters will be set to nan. Details: \n",
      "Traceback (most recent call last):\n",
      "  File \"C:\\Users\\abhi2\\anaconda3\\lib\\site-packages\\sklearn\\model_selection\\_validation.py\", line 593, in _fit_and_score\n",
      "    estimator.fit(X_train, y_train, **fit_params)\n",
      "  File \"C:\\Users\\abhi2\\anaconda3\\lib\\site-packages\\sklearn\\neighbors\\_classification.py\", line 179, in fit\n",
      "    return self._fit(X, y)\n",
      "  File \"C:\\Users\\abhi2\\anaconda3\\lib\\site-packages\\sklearn\\neighbors\\_base.py\", line 399, in _fit\n",
      "    self._check_algorithm_metric()\n",
      "  File \"C:\\Users\\abhi2\\anaconda3\\lib\\site-packages\\sklearn\\neighbors\\_base.py\", line 342, in _check_algorithm_metric\n",
      "    raise ValueError(\"Metric '%s' not valid. Use \"\n",
      "ValueError: Metric 'euclidian' not valid. Use sorted(sklearn.neighbors.VALID_METRICS['brute']) to get valid options. Metric can also be a callable function.\n",
      "\n",
      "  warnings.warn(\"Estimator fit failed. The score on this train-test\"\n",
      "C:\\Users\\abhi2\\anaconda3\\lib\\site-packages\\sklearn\\model_selection\\_validation.py:610: FitFailedWarning: Estimator fit failed. The score on this train-test partition for these parameters will be set to nan. Details: \n",
      "Traceback (most recent call last):\n",
      "  File \"C:\\Users\\abhi2\\anaconda3\\lib\\site-packages\\sklearn\\model_selection\\_validation.py\", line 593, in _fit_and_score\n",
      "    estimator.fit(X_train, y_train, **fit_params)\n",
      "  File \"C:\\Users\\abhi2\\anaconda3\\lib\\site-packages\\sklearn\\neighbors\\_classification.py\", line 179, in fit\n",
      "    return self._fit(X, y)\n",
      "  File \"C:\\Users\\abhi2\\anaconda3\\lib\\site-packages\\sklearn\\neighbors\\_base.py\", line 399, in _fit\n",
      "    self._check_algorithm_metric()\n",
      "  File \"C:\\Users\\abhi2\\anaconda3\\lib\\site-packages\\sklearn\\neighbors\\_base.py\", line 342, in _check_algorithm_metric\n",
      "    raise ValueError(\"Metric '%s' not valid. Use \"\n",
      "ValueError: Metric 'euclidian' not valid. Use sorted(sklearn.neighbors.VALID_METRICS['brute']) to get valid options. Metric can also be a callable function.\n",
      "\n",
      "  warnings.warn(\"Estimator fit failed. The score on this train-test\"\n",
      "C:\\Users\\abhi2\\anaconda3\\lib\\site-packages\\sklearn\\model_selection\\_validation.py:610: FitFailedWarning: Estimator fit failed. The score on this train-test partition for these parameters will be set to nan. Details: \n",
      "Traceback (most recent call last):\n",
      "  File \"C:\\Users\\abhi2\\anaconda3\\lib\\site-packages\\sklearn\\model_selection\\_validation.py\", line 593, in _fit_and_score\n",
      "    estimator.fit(X_train, y_train, **fit_params)\n",
      "  File \"C:\\Users\\abhi2\\anaconda3\\lib\\site-packages\\sklearn\\neighbors\\_classification.py\", line 179, in fit\n",
      "    return self._fit(X, y)\n",
      "  File \"C:\\Users\\abhi2\\anaconda3\\lib\\site-packages\\sklearn\\neighbors\\_base.py\", line 399, in _fit\n",
      "    self._check_algorithm_metric()\n",
      "  File \"C:\\Users\\abhi2\\anaconda3\\lib\\site-packages\\sklearn\\neighbors\\_base.py\", line 342, in _check_algorithm_metric\n",
      "    raise ValueError(\"Metric '%s' not valid. Use \"\n",
      "ValueError: Metric 'euclidian' not valid. Use sorted(sklearn.neighbors.VALID_METRICS['brute']) to get valid options. Metric can also be a callable function.\n",
      "\n",
      "  warnings.warn(\"Estimator fit failed. The score on this train-test\"\n",
      "C:\\Users\\abhi2\\anaconda3\\lib\\site-packages\\sklearn\\model_selection\\_validation.py:610: FitFailedWarning: Estimator fit failed. The score on this train-test partition for these parameters will be set to nan. Details: \n",
      "Traceback (most recent call last):\n",
      "  File \"C:\\Users\\abhi2\\anaconda3\\lib\\site-packages\\sklearn\\model_selection\\_validation.py\", line 593, in _fit_and_score\n",
      "    estimator.fit(X_train, y_train, **fit_params)\n",
      "  File \"C:\\Users\\abhi2\\anaconda3\\lib\\site-packages\\sklearn\\neighbors\\_classification.py\", line 179, in fit\n",
      "    return self._fit(X, y)\n",
      "  File \"C:\\Users\\abhi2\\anaconda3\\lib\\site-packages\\sklearn\\neighbors\\_base.py\", line 399, in _fit\n",
      "    self._check_algorithm_metric()\n",
      "  File \"C:\\Users\\abhi2\\anaconda3\\lib\\site-packages\\sklearn\\neighbors\\_base.py\", line 342, in _check_algorithm_metric\n",
      "    raise ValueError(\"Metric '%s' not valid. Use \"\n",
      "ValueError: Metric 'euclidian' not valid. Use sorted(sklearn.neighbors.VALID_METRICS['brute']) to get valid options. Metric can also be a callable function.\n",
      "\n",
      "  warnings.warn(\"Estimator fit failed. The score on this train-test\"\n",
      "C:\\Users\\abhi2\\anaconda3\\lib\\site-packages\\sklearn\\model_selection\\_validation.py:610: FitFailedWarning: Estimator fit failed. The score on this train-test partition for these parameters will be set to nan. Details: \n",
      "Traceback (most recent call last):\n",
      "  File \"C:\\Users\\abhi2\\anaconda3\\lib\\site-packages\\sklearn\\model_selection\\_validation.py\", line 593, in _fit_and_score\n",
      "    estimator.fit(X_train, y_train, **fit_params)\n",
      "  File \"C:\\Users\\abhi2\\anaconda3\\lib\\site-packages\\sklearn\\neighbors\\_classification.py\", line 179, in fit\n",
      "    return self._fit(X, y)\n",
      "  File \"C:\\Users\\abhi2\\anaconda3\\lib\\site-packages\\sklearn\\neighbors\\_base.py\", line 399, in _fit\n",
      "    self._check_algorithm_metric()\n",
      "  File \"C:\\Users\\abhi2\\anaconda3\\lib\\site-packages\\sklearn\\neighbors\\_base.py\", line 342, in _check_algorithm_metric\n",
      "    raise ValueError(\"Metric '%s' not valid. Use \"\n",
      "ValueError: Metric 'euclidian' not valid. Use sorted(sklearn.neighbors.VALID_METRICS['brute']) to get valid options. Metric can also be a callable function.\n",
      "\n",
      "  warnings.warn(\"Estimator fit failed. The score on this train-test\"\n",
      "C:\\Users\\abhi2\\anaconda3\\lib\\site-packages\\sklearn\\model_selection\\_validation.py:610: FitFailedWarning: Estimator fit failed. The score on this train-test partition for these parameters will be set to nan. Details: \n",
      "Traceback (most recent call last):\n",
      "  File \"C:\\Users\\abhi2\\anaconda3\\lib\\site-packages\\sklearn\\model_selection\\_validation.py\", line 593, in _fit_and_score\n",
      "    estimator.fit(X_train, y_train, **fit_params)\n",
      "  File \"C:\\Users\\abhi2\\anaconda3\\lib\\site-packages\\sklearn\\neighbors\\_classification.py\", line 179, in fit\n",
      "    return self._fit(X, y)\n",
      "  File \"C:\\Users\\abhi2\\anaconda3\\lib\\site-packages\\sklearn\\neighbors\\_base.py\", line 399, in _fit\n",
      "    self._check_algorithm_metric()\n",
      "  File \"C:\\Users\\abhi2\\anaconda3\\lib\\site-packages\\sklearn\\neighbors\\_base.py\", line 342, in _check_algorithm_metric\n",
      "    raise ValueError(\"Metric '%s' not valid. Use \"\n",
      "ValueError: Metric 'euclidian' not valid. Use sorted(sklearn.neighbors.VALID_METRICS['brute']) to get valid options. Metric can also be a callable function.\n",
      "\n",
      "  warnings.warn(\"Estimator fit failed. The score on this train-test\"\n",
      "C:\\Users\\abhi2\\anaconda3\\lib\\site-packages\\sklearn\\model_selection\\_validation.py:610: FitFailedWarning: Estimator fit failed. The score on this train-test partition for these parameters will be set to nan. Details: \n",
      "Traceback (most recent call last):\n",
      "  File \"C:\\Users\\abhi2\\anaconda3\\lib\\site-packages\\sklearn\\model_selection\\_validation.py\", line 593, in _fit_and_score\n",
      "    estimator.fit(X_train, y_train, **fit_params)\n",
      "  File \"C:\\Users\\abhi2\\anaconda3\\lib\\site-packages\\sklearn\\neighbors\\_classification.py\", line 179, in fit\n",
      "    return self._fit(X, y)\n",
      "  File \"C:\\Users\\abhi2\\anaconda3\\lib\\site-packages\\sklearn\\neighbors\\_base.py\", line 399, in _fit\n",
      "    self._check_algorithm_metric()\n",
      "  File \"C:\\Users\\abhi2\\anaconda3\\lib\\site-packages\\sklearn\\neighbors\\_base.py\", line 342, in _check_algorithm_metric\n",
      "    raise ValueError(\"Metric '%s' not valid. Use \"\n",
      "ValueError: Metric 'euclidian' not valid. Use sorted(sklearn.neighbors.VALID_METRICS['brute']) to get valid options. Metric can also be a callable function.\n",
      "\n",
      "  warnings.warn(\"Estimator fit failed. The score on this train-test\"\n",
      "C:\\Users\\abhi2\\anaconda3\\lib\\site-packages\\sklearn\\model_selection\\_validation.py:610: FitFailedWarning: Estimator fit failed. The score on this train-test partition for these parameters will be set to nan. Details: \n",
      "Traceback (most recent call last):\n",
      "  File \"C:\\Users\\abhi2\\anaconda3\\lib\\site-packages\\sklearn\\model_selection\\_validation.py\", line 593, in _fit_and_score\n",
      "    estimator.fit(X_train, y_train, **fit_params)\n",
      "  File \"C:\\Users\\abhi2\\anaconda3\\lib\\site-packages\\sklearn\\neighbors\\_classification.py\", line 179, in fit\n",
      "    return self._fit(X, y)\n",
      "  File \"C:\\Users\\abhi2\\anaconda3\\lib\\site-packages\\sklearn\\neighbors\\_base.py\", line 399, in _fit\n",
      "    self._check_algorithm_metric()\n",
      "  File \"C:\\Users\\abhi2\\anaconda3\\lib\\site-packages\\sklearn\\neighbors\\_base.py\", line 342, in _check_algorithm_metric\n",
      "    raise ValueError(\"Metric '%s' not valid. Use \"\n",
      "ValueError: Metric 'euclidian' not valid. Use sorted(sklearn.neighbors.VALID_METRICS['brute']) to get valid options. Metric can also be a callable function.\n",
      "\n",
      "  warnings.warn(\"Estimator fit failed. The score on this train-test\"\n",
      "C:\\Users\\abhi2\\anaconda3\\lib\\site-packages\\sklearn\\model_selection\\_validation.py:610: FitFailedWarning: Estimator fit failed. The score on this train-test partition for these parameters will be set to nan. Details: \n",
      "Traceback (most recent call last):\n",
      "  File \"C:\\Users\\abhi2\\anaconda3\\lib\\site-packages\\sklearn\\model_selection\\_validation.py\", line 593, in _fit_and_score\n",
      "    estimator.fit(X_train, y_train, **fit_params)\n",
      "  File \"C:\\Users\\abhi2\\anaconda3\\lib\\site-packages\\sklearn\\neighbors\\_classification.py\", line 179, in fit\n",
      "    return self._fit(X, y)\n",
      "  File \"C:\\Users\\abhi2\\anaconda3\\lib\\site-packages\\sklearn\\neighbors\\_base.py\", line 399, in _fit\n",
      "    self._check_algorithm_metric()\n",
      "  File \"C:\\Users\\abhi2\\anaconda3\\lib\\site-packages\\sklearn\\neighbors\\_base.py\", line 342, in _check_algorithm_metric\n",
      "    raise ValueError(\"Metric '%s' not valid. Use \"\n",
      "ValueError: Metric 'euclidian' not valid. Use sorted(sklearn.neighbors.VALID_METRICS['brute']) to get valid options. Metric can also be a callable function.\n",
      "\n",
      "  warnings.warn(\"Estimator fit failed. The score on this train-test\"\n",
      "C:\\Users\\abhi2\\anaconda3\\lib\\site-packages\\sklearn\\model_selection\\_validation.py:610: FitFailedWarning: Estimator fit failed. The score on this train-test partition for these parameters will be set to nan. Details: \n",
      "Traceback (most recent call last):\n",
      "  File \"C:\\Users\\abhi2\\anaconda3\\lib\\site-packages\\sklearn\\model_selection\\_validation.py\", line 593, in _fit_and_score\n",
      "    estimator.fit(X_train, y_train, **fit_params)\n",
      "  File \"C:\\Users\\abhi2\\anaconda3\\lib\\site-packages\\sklearn\\neighbors\\_classification.py\", line 179, in fit\n",
      "    return self._fit(X, y)\n",
      "  File \"C:\\Users\\abhi2\\anaconda3\\lib\\site-packages\\sklearn\\neighbors\\_base.py\", line 399, in _fit\n",
      "    self._check_algorithm_metric()\n",
      "  File \"C:\\Users\\abhi2\\anaconda3\\lib\\site-packages\\sklearn\\neighbors\\_base.py\", line 342, in _check_algorithm_metric\n",
      "    raise ValueError(\"Metric '%s' not valid. Use \"\n",
      "ValueError: Metric 'euclidian' not valid. Use sorted(sklearn.neighbors.VALID_METRICS['brute']) to get valid options. Metric can also be a callable function.\n",
      "\n",
      "  warnings.warn(\"Estimator fit failed. The score on this train-test\"\n",
      "C:\\Users\\abhi2\\anaconda3\\lib\\site-packages\\sklearn\\model_selection\\_validation.py:610: FitFailedWarning: Estimator fit failed. The score on this train-test partition for these parameters will be set to nan. Details: \n",
      "Traceback (most recent call last):\n",
      "  File \"C:\\Users\\abhi2\\anaconda3\\lib\\site-packages\\sklearn\\model_selection\\_validation.py\", line 593, in _fit_and_score\n",
      "    estimator.fit(X_train, y_train, **fit_params)\n",
      "  File \"C:\\Users\\abhi2\\anaconda3\\lib\\site-packages\\sklearn\\neighbors\\_classification.py\", line 179, in fit\n",
      "    return self._fit(X, y)\n",
      "  File \"C:\\Users\\abhi2\\anaconda3\\lib\\site-packages\\sklearn\\neighbors\\_base.py\", line 399, in _fit\n",
      "    self._check_algorithm_metric()\n",
      "  File \"C:\\Users\\abhi2\\anaconda3\\lib\\site-packages\\sklearn\\neighbors\\_base.py\", line 342, in _check_algorithm_metric\n",
      "    raise ValueError(\"Metric '%s' not valid. Use \"\n",
      "ValueError: Metric 'euclidian' not valid. Use sorted(sklearn.neighbors.VALID_METRICS['brute']) to get valid options. Metric can also be a callable function.\n",
      "\n",
      "  warnings.warn(\"Estimator fit failed. The score on this train-test\"\n",
      "C:\\Users\\abhi2\\anaconda3\\lib\\site-packages\\sklearn\\model_selection\\_validation.py:610: FitFailedWarning: Estimator fit failed. The score on this train-test partition for these parameters will be set to nan. Details: \n",
      "Traceback (most recent call last):\n",
      "  File \"C:\\Users\\abhi2\\anaconda3\\lib\\site-packages\\sklearn\\model_selection\\_validation.py\", line 593, in _fit_and_score\n",
      "    estimator.fit(X_train, y_train, **fit_params)\n",
      "  File \"C:\\Users\\abhi2\\anaconda3\\lib\\site-packages\\sklearn\\neighbors\\_classification.py\", line 179, in fit\n",
      "    return self._fit(X, y)\n",
      "  File \"C:\\Users\\abhi2\\anaconda3\\lib\\site-packages\\sklearn\\neighbors\\_base.py\", line 399, in _fit\n",
      "    self._check_algorithm_metric()\n",
      "  File \"C:\\Users\\abhi2\\anaconda3\\lib\\site-packages\\sklearn\\neighbors\\_base.py\", line 342, in _check_algorithm_metric\n",
      "    raise ValueError(\"Metric '%s' not valid. Use \"\n",
      "ValueError: Metric 'euclidian' not valid. Use sorted(sklearn.neighbors.VALID_METRICS['brute']) to get valid options. Metric can also be a callable function.\n",
      "\n",
      "  warnings.warn(\"Estimator fit failed. The score on this train-test\"\n",
      "C:\\Users\\abhi2\\anaconda3\\lib\\site-packages\\sklearn\\model_selection\\_validation.py:610: FitFailedWarning: Estimator fit failed. The score on this train-test partition for these parameters will be set to nan. Details: \n",
      "Traceback (most recent call last):\n",
      "  File \"C:\\Users\\abhi2\\anaconda3\\lib\\site-packages\\sklearn\\model_selection\\_validation.py\", line 593, in _fit_and_score\n",
      "    estimator.fit(X_train, y_train, **fit_params)\n",
      "  File \"C:\\Users\\abhi2\\anaconda3\\lib\\site-packages\\sklearn\\neighbors\\_classification.py\", line 179, in fit\n",
      "    return self._fit(X, y)\n",
      "  File \"C:\\Users\\abhi2\\anaconda3\\lib\\site-packages\\sklearn\\neighbors\\_base.py\", line 399, in _fit\n",
      "    self._check_algorithm_metric()\n",
      "  File \"C:\\Users\\abhi2\\anaconda3\\lib\\site-packages\\sklearn\\neighbors\\_base.py\", line 342, in _check_algorithm_metric\n",
      "    raise ValueError(\"Metric '%s' not valid. Use \"\n",
      "ValueError: Metric 'euclidian' not valid. Use sorted(sklearn.neighbors.VALID_METRICS['brute']) to get valid options. Metric can also be a callable function.\n",
      "\n",
      "  warnings.warn(\"Estimator fit failed. The score on this train-test\"\n",
      "C:\\Users\\abhi2\\anaconda3\\lib\\site-packages\\sklearn\\model_selection\\_search.py:918: UserWarning: One or more of the test scores are non-finite: [0.67312925 0.67338435 0.67746599        nan        nan        nan]\n",
      "  warnings.warn(\n"
     ]
    },
    {
     "data": {
      "text/plain": [
       "GridSearchCV(cv=5, estimator=KNeighborsClassifier(n_neighbors=20),\n",
       "             param_grid={'algorithm': ['auto'],\n",
       "                         'metric': ['minkowski', 'euclidian'],\n",
       "                         'n_neighbors': [14, 20, 30], 'p': [1],\n",
       "                         'weights': ['distance']},\n",
       "             verbose=2)"
      ]
     },
     "execution_count": 97,
     "metadata": {},
     "output_type": "execute_result"
    }
   ],
   "source": [
    "grid2 = {'weights': ['distance'],\n",
    " 'p': [1],\n",
    " 'n_neighbors': [14,20,30],\n",
    " 'metric': ['minkowski','euclidian'],\n",
    " 'algorithm': ['auto']}\n",
    "\n",
    "knn_2 = models['KNN']\n",
    "\n",
    "gs_knn = GridSearchCV(estimator = knn_2,\n",
    "                     param_grid = grid2,\n",
    "                     verbose = 2,\n",
    "                     cv = 5)\n",
    "\n",
    "gs_knn.fit(X_train, y_train)"
   ]
  },
  {
   "cell_type": "markdown",
   "id": "9108c28f",
   "metadata": {},
   "source": [
    "### Lets Check the Score"
   ]
  },
  {
   "cell_type": "code",
   "execution_count": 100,
   "id": "827c4793",
   "metadata": {},
   "outputs": [
    {
     "data": {
      "text/plain": [
       "(0.6721311475409836, 0.6885245901639344)"
      ]
     },
     "execution_count": 100,
     "metadata": {},
     "output_type": "execute_result"
    }
   ],
   "source": [
    "gs_knn.score(X_test, y_test), rs_knn.score(X_test, y_test)"
   ]
  },
  {
   "cell_type": "markdown",
   "id": "c107d370",
   "metadata": {},
   "source": [
    "### Thats too low we are discarding KNN\n",
    "### KNN - Bhag Teri Ma ki ****"
   ]
  },
  {
   "cell_type": "markdown",
   "id": "aa586b89",
   "metadata": {},
   "source": [
    "### Hyperparameter tuning for Logistic Regression and Random Forest Classifier using RandomizedSearchCV and GridSearchCV"
   ]
  },
  {
   "cell_type": "code",
   "execution_count": 22,
   "id": "ef13291b",
   "metadata": {},
   "outputs": [
    {
     "name": "stdout",
     "output_type": "stream",
     "text": [
      "Fitting 10 folds for each of 10 candidates, totalling 100 fits\n"
     ]
    },
    {
     "data": {
      "text/plain": [
       "RandomizedSearchCV(cv=10, estimator=LogisticRegression(),\n",
       "                   param_distributions={'C': array([0.0001, 0.0001, 0.0001, 0.0001, 0.0001, 0.0001, 0.0001, 0.0001,\n",
       "       0.0001, 0.0001, 0.0001, 0.0001, 0.0001, 0.0001, 0.0001, 0.0001,\n",
       "       0.0001, 0.0001, 0.0001, 0.0001]),\n",
       "                                        'solver': ['liblinear']},\n",
       "                   verbose=True)"
      ]
     },
     "execution_count": 22,
     "metadata": {},
     "output_type": "execute_result"
    }
   ],
   "source": [
    "log_grid_1 = {'C' : np.logspace(-4,-4,20),\n",
    "              'solver' : ['liblinear']}\n",
    "\n",
    "rfc_grid_1 = {'n_estimators' : np.arange(10,1000,50),\n",
    "              'max_depth' : [None, 3, 5, 10],\n",
    "              'min_samples_split' : np.arange(2,20,2),\n",
    "              'min_samples_leaf' : np.arange(1,20,2)}\n",
    "\n",
    "log_reg = LogisticRegression()\n",
    "rfc = RandomForestClassifier()\n",
    "\n",
    "np.random.seed(231)\n",
    "rs_log_reg = RandomizedSearchCV(estimator = log_reg,\n",
    "                               param_distributions = log_grid_1,\n",
    "                               cv = 10, verbose = True,\n",
    "                               n_iter = 10)\n",
    "\n",
    "rs_log_reg.fit(X_train, y_train)"
   ]
  },
  {
   "cell_type": "code",
   "execution_count": 23,
   "id": "369958c6",
   "metadata": {},
   "outputs": [
    {
     "data": {
      "text/plain": [
       "{'solver': 'liblinear', 'C': 0.0001}"
      ]
     },
     "execution_count": 23,
     "metadata": {},
     "output_type": "execute_result"
    }
   ],
   "source": [
    "rs_log_reg.best_params_"
   ]
  },
  {
   "cell_type": "code",
   "execution_count": 24,
   "id": "2f3433ce",
   "metadata": {},
   "outputs": [
    {
     "data": {
      "text/plain": [
       "0.7213114754098361"
      ]
     },
     "execution_count": 24,
     "metadata": {},
     "output_type": "execute_result"
    }
   ],
   "source": [
    "rs_log_reg.score(X_test, y_test)"
   ]
  },
  {
   "cell_type": "markdown",
   "id": "15dca61a",
   "metadata": {},
   "source": [
    "### Lets check for Random Forest Classifier"
   ]
  },
  {
   "cell_type": "code",
   "execution_count": 31,
   "id": "072aac49",
   "metadata": {},
   "outputs": [
    {
     "name": "stdout",
     "output_type": "stream",
     "text": [
      "Fitting 10 folds for each of 20 candidates, totalling 200 fits\n"
     ]
    },
    {
     "data": {
      "text/plain": [
       "RandomizedSearchCV(cv=10, estimator=RandomForestClassifier(), n_iter=20,\n",
       "                   param_distributions={'max_depth': [None, 3, 5, 10],\n",
       "                                        'min_samples_leaf': array([ 1,  3,  5,  7,  9, 11, 13, 15, 17, 19]),\n",
       "                                        'min_samples_split': array([ 2,  4,  6,  8, 10, 12, 14, 16, 18]),\n",
       "                                        'n_estimators': array([ 10,  60, 110, 160, 210, 260, 310, 360, 410, 460, 510, 560, 610,\n",
       "       660, 710, 760, 810, 860, 910, 960])},\n",
       "                   verbose=True)"
      ]
     },
     "execution_count": 31,
     "metadata": {},
     "output_type": "execute_result"
    }
   ],
   "source": [
    "np.random.seed(43)\n",
    "rs_rfc = RandomizedSearchCV(estimator = rfc,\n",
    "                               param_distributions = rfc_grid_1,\n",
    "                               cv = 10, verbose = True,\n",
    "                               n_iter = 20)\n",
    "\n",
    "rs_rfc.fit(X_train, y_train)"
   ]
  },
  {
   "cell_type": "code",
   "execution_count": 32,
   "id": "281e6d78",
   "metadata": {},
   "outputs": [
    {
     "data": {
      "text/plain": [
       "0.819672131147541"
      ]
     },
     "execution_count": 32,
     "metadata": {},
     "output_type": "execute_result"
    }
   ],
   "source": [
    "rs_rfc.score(X_test,y_test)"
   ]
  },
  {
   "cell_type": "code",
   "execution_count": 43,
   "id": "57e8c7bc",
   "metadata": {},
   "outputs": [
    {
     "name": "stdout",
     "output_type": "stream",
     "text": [
      "Fitting 10 folds for each of 30 candidates, totalling 300 fits\n"
     ]
    },
    {
     "data": {
      "text/plain": [
       "GridSearchCV(cv=10, estimator=LogisticRegression(),\n",
       "             param_grid={'C': array([0.0001, 0.0001, 0.0001, 0.0001, 0.0001, 0.0001, 0.0001, 0.0001,\n",
       "       0.0001, 0.0001, 0.0001, 0.0001, 0.0001, 0.0001, 0.0001, 0.0001,\n",
       "       0.0001, 0.0001, 0.0001, 0.0001, 0.0001, 0.0001, 0.0001, 0.0001,\n",
       "       0.0001, 0.0001, 0.0001, 0.0001, 0.0001, 0.0001]),\n",
       "                         'solver': ['liblinear']},\n",
       "             verbose=True)"
      ]
     },
     "execution_count": 43,
     "metadata": {},
     "output_type": "execute_result"
    }
   ],
   "source": [
    "np.random.seed(42)\n",
    "log_grid_2 = {'C' : np.logspace(-4,-4,30),\n",
    "              'solver' : ['liblinear']}\n",
    "\n",
    "rfc_grid_2 = {'n_estimators' : np.arange(10,500,50),\n",
    "              'max_depth' : [None, 3],\n",
    "              'min_samples_split' : np.arange(2,6,2),\n",
    "              'min_samples_leaf' : np.arange(1,6,2)}\n",
    "\n",
    "gs_log_reg = GridSearchCV(estimator = log_reg,\n",
    "                        param_grid = log_grid_2,\n",
    "                        cv = 10, verbose = True,)\n",
    "\n",
    "gs_log_reg.fit(X_train, y_train)"
   ]
  },
  {
   "cell_type": "code",
   "execution_count": 41,
   "id": "6d88e179",
   "metadata": {},
   "outputs": [
    {
     "data": {
      "text/plain": [
       "0.7213114754098361"
      ]
     },
     "execution_count": 41,
     "metadata": {},
     "output_type": "execute_result"
    }
   ],
   "source": [
    "gs_log_reg.score(X_test, y_test)"
   ]
  },
  {
   "cell_type": "code",
   "execution_count": 44,
   "id": "51775930",
   "metadata": {},
   "outputs": [
    {
     "name": "stdout",
     "output_type": "stream",
     "text": [
      "Fitting 10 folds for each of 120 candidates, totalling 1200 fits\n"
     ]
    },
    {
     "data": {
      "text/plain": [
       "GridSearchCV(cv=10, estimator=RandomForestClassifier(),\n",
       "             param_grid={'max_depth': [None, 3],\n",
       "                         'min_samples_leaf': array([1, 3, 5]),\n",
       "                         'min_samples_split': array([2, 4]),\n",
       "                         'n_estimators': array([ 10,  60, 110, 160, 210, 260, 310, 360, 410, 460])},\n",
       "             verbose=True)"
      ]
     },
     "execution_count": 44,
     "metadata": {},
     "output_type": "execute_result"
    }
   ],
   "source": [
    "gs_rfc = GridSearchCV(estimator = rfc,\n",
    "                        param_grid = rfc_grid_2,\n",
    "                        cv = 10, verbose = True,)\n",
    "\n",
    "gs_rfc.fit(X_train, y_train)"
   ]
  },
  {
   "cell_type": "code",
   "execution_count": 45,
   "id": "07037bed",
   "metadata": {},
   "outputs": [
    {
     "data": {
      "text/plain": [
       "0.819672131147541"
      ]
     },
     "execution_count": 45,
     "metadata": {},
     "output_type": "execute_result"
    }
   ],
   "source": [
    "gs_rfc.score(X_test, y_test)"
   ]
  },
  {
   "cell_type": "markdown",
   "id": "49d4d3af",
   "metadata": {},
   "source": [
    "I think we cannot experiment for more hyperparameters because of time constraints\n",
    "so we will go with our logistic regression model"
   ]
  },
  {
   "cell_type": "markdown",
   "id": "ac6414e6",
   "metadata": {},
   "source": [
    "## Evaluating our tuned Model beyond Accuracy\n",
    "\n",
    "1. ROC Curve and AUC score\n",
    "2. Confusion Matrix\n",
    "3. Classification Report\n",
    "4. Precision\n",
    "5. Recall\n",
    "6. F1 Score"
   ]
  },
  {
   "cell_type": "markdown",
   "id": "2f9e00ce",
   "metadata": {},
   "source": [
    "### A1. ROC CURVE"
   ]
  },
  {
   "cell_type": "code",
   "execution_count": 65,
   "id": "75fd39a7",
   "metadata": {},
   "outputs": [
    {
     "data": {
      "image/png": "[encoded data removed]",
      "text/plain": [
       "<Figure size 432x288 with 1 Axes>"
      ]
     },
     "metadata": {
      "needs_background": "light"
     },
     "output_type": "display_data"
    }
   ],
   "source": [
    "plot_roc_curve(gs_log_reg, X, y);"
   ]
  },
  {
   "cell_type": "markdown",
   "id": "3fc991c1",
   "metadata": {},
   "source": [
    "### A2. Confusion Matrix"
   ]
  },
  {
   "cell_type": "code",
   "execution_count": 51,
   "id": "9ef277a3",
   "metadata": {},
   "outputs": [
    {
     "data": {
      "text/plain": [
       "array([[14, 13],\n",
       "       [ 4, 30]], dtype=int64)"
      ]
     },
     "execution_count": 51,
     "metadata": {},
     "output_type": "execute_result"
    }
   ],
   "source": [
    "y_preds = gs_log_reg.predict(X_test)\n",
    "conf_mat = confusion_matrix(y_test, y_preds)\n",
    "conf_mat"
   ]
  },
  {
   "cell_type": "code",
   "execution_count": 64,
   "id": "702c4527",
   "metadata": {},
   "outputs": [
    {
     "data": {
      "image/png": "[encoded data removed]",
      "text/plain": [
       "<Figure size 432x288 with 2 Axes>"
      ]
     },
     "metadata": {
      "needs_background": "light"
     },
     "output_type": "display_data"
    }
   ],
   "source": [
    "fig, ax = plt.subplots(figsize = (6,4))\n",
    "sns.heatmap(conf_mat, annot = True)\n",
    "ax.set(title = 'Confusion Matrix', xlabel = 'Predicted Values', ylabel = 'True Values');"
   ]
  },
  {
   "cell_type": "code",
   "execution_count": 57,
   "id": "b1e9c766",
   "metadata": {},
   "outputs": [
    {
     "data": {
      "text/plain": [
       "(array([1, 0, 0, 1, 0, 1, 0, 1, 1, 1, 1, 0, 1, 1, 1, 1, 1, 0, 1, 1, 0, 0,\n",
       "        1, 1, 1, 1, 0, 1, 1, 0, 1, 1, 0, 1, 0, 1, 1, 1, 1, 1, 1, 0, 1, 0,\n",
       "        0, 1, 1, 1, 1, 0, 1, 1, 1, 1, 1, 1, 1, 1, 1, 0, 0], dtype=int64),\n",
       " array([1, 0, 0, 1, 0, 1, 1, 1, 0, 0, 1, 0, 1, 0, 0, 0, 1, 0, 1, 1, 0, 1,\n",
       "        1, 0, 1, 0, 0, 1, 1, 1, 1, 1, 0, 1, 0, 1, 1, 1, 1, 0, 0, 0, 0, 0,\n",
       "        0, 1, 0, 1, 1, 1, 1, 0, 1, 0, 1, 1, 1, 1, 1, 0, 0], dtype=int64))"
      ]
     },
     "execution_count": 57,
     "metadata": {},
     "output_type": "execute_result"
    }
   ],
   "source": [
    "y_preds, np.array(y_test)"
   ]
  },
  {
   "cell_type": "markdown",
   "id": "8b8c3c7e",
   "metadata": {},
   "source": [
    "### A3. Classification Report"
   ]
  },
  {
   "cell_type": "code",
   "execution_count": 61,
   "id": "0b02b317",
   "metadata": {},
   "outputs": [
    {
     "name": "stdout",
     "output_type": "stream",
     "text": [
      "              precision    recall  f1-score   support\n",
      "\n",
      "           0       0.78      0.52      0.62        27\n",
      "           1       0.70      0.88      0.78        34\n",
      "\n",
      "    accuracy                           0.72        61\n",
      "   macro avg       0.74      0.70      0.70        61\n",
      "weighted avg       0.73      0.72      0.71        61\n",
      "\n"
     ]
    }
   ],
   "source": [
    "print(classification_report(y_test, y_preds))"
   ]
  },
  {
   "cell_type": "markdown",
   "id": "4a3b7e44",
   "metadata": {},
   "source": [
    "* Precision - Indicates the proportion of positive identifications (model predicted class 1) which were actually correct. A model which produces no false positives has a precision of 1.0.\n",
    "* Recall - Indicates the proportion of actual positives which were correctly classified. A model which produces no false negatives has a recall of 1.0.\n",
    "* F1 score - A combination of precision and recall. A perfect model achieves an F1 score of 1.0.\n",
    "* Support - The number of samples each metric was calculated on.\n",
    "* Accuracy - The accuracy of the model in decimal form. Perfect accuracy is equal to 1.0, in other words, getting the prediction right 100% of the time.\n",
    "* Macro avg - Short for macro average, the average precision, recall and F1 score between classes. Macro avg doesn't take class imbalance into effect. So if you do have class imbalances (more examples of one class than another), you should pay attention to this.\n",
    "* Weighted avg - Short for weighted average, the weighted average precision, recall and F1 score between classes. Weighted means each metric is calculated with respect to how many samples there are in each class. This metric will favour the majority class (e.g. it will give a high value when one class out performs another due to having more samples)."
   ]
  },
  {
   "cell_type": "code",
   "execution_count": 63,
   "id": "51ab97ce",
   "metadata": {},
   "outputs": [
    {
     "data": {
      "text/html": [
       "<div>\n",
       "<style scoped>\n",
       "    .dataframe tbody tr th:only-of-type {\n",
       "        vertical-align: middle;\n",
       "    }\n",
       "\n",
       "    .dataframe tbody tr th {\n",
       "        vertical-align: top;\n",
       "    }\n",
       "\n",
       "    .dataframe thead th {\n",
       "        text-align: right;\n",
       "    }\n",
       "</style>\n",
       "<table border=\"1\" class=\"dataframe\">\n",
       "  <thead>\n",
       "    <tr style=\"text-align: right;\">\n",
       "      <th></th>\n",
       "      <th>0</th>\n",
       "      <th>1</th>\n",
       "      <th>accuracy</th>\n",
       "      <th>macro avg</th>\n",
       "      <th>weighted avg</th>\n",
       "    </tr>\n",
       "  </thead>\n",
       "  <tbody>\n",
       "    <tr>\n",
       "      <th>precision</th>\n",
       "      <td>0.777778</td>\n",
       "      <td>0.697674</td>\n",
       "      <td>0.721311</td>\n",
       "      <td>0.737726</td>\n",
       "      <td>0.733130</td>\n",
       "    </tr>\n",
       "    <tr>\n",
       "      <th>recall</th>\n",
       "      <td>0.518519</td>\n",
       "      <td>0.882353</td>\n",
       "      <td>0.721311</td>\n",
       "      <td>0.700436</td>\n",
       "      <td>0.721311</td>\n",
       "    </tr>\n",
       "    <tr>\n",
       "      <th>f1-score</th>\n",
       "      <td>0.622222</td>\n",
       "      <td>0.779221</td>\n",
       "      <td>0.721311</td>\n",
       "      <td>0.700722</td>\n",
       "      <td>0.709730</td>\n",
       "    </tr>\n",
       "    <tr>\n",
       "      <th>support</th>\n",
       "      <td>27.000000</td>\n",
       "      <td>34.000000</td>\n",
       "      <td>0.721311</td>\n",
       "      <td>61.000000</td>\n",
       "      <td>61.000000</td>\n",
       "    </tr>\n",
       "  </tbody>\n",
       "</table>\n",
       "</div>"
      ],
      "text/plain": [
       "                   0          1  accuracy  macro avg  weighted avg\n",
       "precision   0.777778   0.697674  0.721311   0.737726      0.733130\n",
       "recall      0.518519   0.882353  0.721311   0.700436      0.721311\n",
       "f1-score    0.622222   0.779221  0.721311   0.700722      0.709730\n",
       "support    27.000000  34.000000  0.721311  61.000000     61.000000"
      ]
     },
     "execution_count": 63,
     "metadata": {},
     "output_type": "execute_result"
    }
   ],
   "source": [
    "pd.DataFrame(classification_report(y_test,y_preds, output_dict = True))"
   ]
  },
  {
   "cell_type": "markdown",
   "id": "13b6ae28",
   "metadata": {},
   "source": [
    "### From Classification report we get the precision recall and f1 score but we have to use cross validation wherever possible as we could have got an unlucky split :/ so lets verify by Cross Validation"
   ]
  },
  {
   "cell_type": "markdown",
   "id": "c21042c3",
   "metadata": {},
   "source": [
    "#### Lets choose model with best params"
   ]
  },
  {
   "cell_type": "code",
   "execution_count": 66,
   "id": "1eac7a12",
   "metadata": {},
   "outputs": [
    {
     "data": {
      "text/plain": [
       "{'solver': 'liblinear', 'C': 0.0001}"
      ]
     },
     "execution_count": 66,
     "metadata": {},
     "output_type": "execute_result"
    }
   ],
   "source": [
    "rs_log_reg.best_params_"
   ]
  },
  {
   "cell_type": "markdown",
   "id": "c256fb3b",
   "metadata": {},
   "source": [
    "### A4. Cross Validated Accuracy Score"
   ]
  },
  {
   "cell_type": "code",
   "execution_count": 74,
   "id": "53828f56",
   "metadata": {},
   "outputs": [
    {
     "name": "stdout",
     "output_type": "stream",
     "text": [
      "[0.61290323 0.67741935 0.61290323 0.7        0.9        0.66666667\n",
      " 0.73333333 0.7        0.66666667 0.66666667]\n"
     ]
    },
    {
     "data": {
      "text/plain": [
       "0.6936559139784947"
      ]
     },
     "execution_count": 74,
     "metadata": {},
     "output_type": "execute_result"
    }
   ],
   "source": [
    "log_reg_cv = LogisticRegression(solver = 'liblinear', C = 0.0001)\n",
    "acc_score = cross_val_score(log_reg_cv, X, y, cv = 10, scoring = None)\n",
    "print(acc_score)\n",
    "acc_score.mean()"
   ]
  },
  {
   "cell_type": "markdown",
   "id": "3263e061",
   "metadata": {},
   "source": [
    "### A5. Precision Score"
   ]
  },
  {
   "cell_type": "code",
   "execution_count": 77,
   "id": "82f3c36d",
   "metadata": {},
   "outputs": [
    {
     "name": "stdout",
     "output_type": "stream",
     "text": [
      "[0.6        0.70588235 0.64705882 0.66666667 0.85       0.66666667\n",
      " 0.78571429 0.66666667 0.66666667 0.66666667]\n"
     ]
    },
    {
     "data": {
      "text/plain": [
       "0.6921988795518208"
      ]
     },
     "execution_count": 77,
     "metadata": {},
     "output_type": "execute_result"
    }
   ],
   "source": [
    "prec_score = cross_val_score(log_reg_cv, X, y, cv = 10, scoring = 'precision')\n",
    "print(prec_score)\n",
    "prec_score.mean()"
   ]
  },
  {
   "cell_type": "markdown",
   "id": "e5e87737",
   "metadata": {},
   "source": [
    "### A6. Recall Score"
   ]
  },
  {
   "cell_type": "code",
   "execution_count": 78,
   "id": "86ae6251",
   "metadata": {},
   "outputs": [
    {
     "name": "stdout",
     "output_type": "stream",
     "text": [
      "[0.88235294 0.70588235 0.64705882 0.94117647 1.         0.75\n",
      " 0.6875     0.875      0.75       0.75      ]\n"
     ]
    },
    {
     "data": {
      "text/plain": [
       "0.7988970588235295"
      ]
     },
     "execution_count": 78,
     "metadata": {},
     "output_type": "execute_result"
    }
   ],
   "source": [
    "rec_score = cross_val_score(log_reg_cv, X, y, cv = 10, scoring = 'recall')\n",
    "print(rec_score)\n",
    "rec_score.mean()"
   ]
  },
  {
   "cell_type": "markdown",
   "id": "c90b9ff8",
   "metadata": {},
   "source": [
    "### A7. F1 Score"
   ]
  },
  {
   "cell_type": "code",
   "execution_count": 79,
   "id": "07503777",
   "metadata": {},
   "outputs": [
    {
     "name": "stdout",
     "output_type": "stream",
     "text": [
      "[0.71428571 0.70588235 0.64705882 0.7804878  0.91891892 0.70588235\n",
      " 0.73333333 0.75675676 0.70588235 0.70588235]\n"
     ]
    },
    {
     "data": {
      "text/plain": [
       "0.7374370763466891"
      ]
     },
     "execution_count": 79,
     "metadata": {},
     "output_type": "execute_result"
    }
   ],
   "source": [
    "f1_score = cross_val_score(log_reg_cv, X, y, cv = 10, scoring = 'f1')\n",
    "print(f1_score)\n",
    "f1_score.mean()"
   ]
  },
  {
   "cell_type": "markdown",
   "id": "fcdcbbe9",
   "metadata": {},
   "source": [
    "### Lets Visualize our cross validated score "
   ]
  },
  {
   "cell_type": "code",
   "execution_count": 96,
   "id": "6ff78213",
   "metadata": {},
   "outputs": [
    {
     "data": {
      "image/png": "[encoded data removed]",
      "text/plain": [
       "<Figure size 864x432 with 1 Axes>"
      ]
     },
     "metadata": {
      "needs_background": "light"
     },
     "output_type": "display_data"
    }
   ],
   "source": [
    "cv_scores = {'Accuracy' : acc_score*100,\n",
    "             'Precision' : prec_score*100,\n",
    "             'Recall' : rec_score*100,\n",
    "             'F1' : f1_score*100}\n",
    "\n",
    "cross_validates_scores = pd.DataFrame(cv_scores)\n",
    "cross_validates_scores.T.plot.bar(figsize = (12,6))\n",
    "plt.xticks(rotation = 0, fontsize = 14)\n",
    "plt.yticks(fontsize = 14)\n",
    "plt.xlabel('Evaluation Metric', fontsize = 18)\n",
    "plt.ylabel('Score (%)', fontsize = 18)\n",
    "plt.title('Cross Validated Scores for different Evaluation Metrics', fontsize = 18);"
   ]
  },
  {
   "cell_type": "code",
   "execution_count": 85,
   "id": "6c016db5",
   "metadata": {},
   "outputs": [
    {
     "data": {
      "text/html": [
       "<div>\n",
       "<style scoped>\n",
       "    .dataframe tbody tr th:only-of-type {\n",
       "        vertical-align: middle;\n",
       "    }\n",
       "\n",
       "    .dataframe tbody tr th {\n",
       "        vertical-align: top;\n",
       "    }\n",
       "\n",
       "    .dataframe thead th {\n",
       "        text-align: right;\n",
       "    }\n",
       "</style>\n",
       "<table border=\"1\" class=\"dataframe\">\n",
       "  <thead>\n",
       "    <tr style=\"text-align: right;\">\n",
       "      <th></th>\n",
       "      <th>Accuracy</th>\n",
       "      <th>Precision</th>\n",
       "      <th>Recall</th>\n",
       "      <th>F1</th>\n",
       "    </tr>\n",
       "  </thead>\n",
       "  <tbody>\n",
       "    <tr>\n",
       "      <th>0</th>\n",
       "      <td>0.612903</td>\n",
       "      <td>0.600000</td>\n",
       "      <td>0.882353</td>\n",
       "      <td>0.714286</td>\n",
       "    </tr>\n",
       "    <tr>\n",
       "      <th>1</th>\n",
       "      <td>0.677419</td>\n",
       "      <td>0.705882</td>\n",
       "      <td>0.705882</td>\n",
       "      <td>0.705882</td>\n",
       "    </tr>\n",
       "    <tr>\n",
       "      <th>2</th>\n",
       "      <td>0.612903</td>\n",
       "      <td>0.647059</td>\n",
       "      <td>0.647059</td>\n",
       "      <td>0.647059</td>\n",
       "    </tr>\n",
       "    <tr>\n",
       "      <th>3</th>\n",
       "      <td>0.700000</td>\n",
       "      <td>0.666667</td>\n",
       "      <td>0.941176</td>\n",
       "      <td>0.780488</td>\n",
       "    </tr>\n",
       "    <tr>\n",
       "      <th>4</th>\n",
       "      <td>0.900000</td>\n",
       "      <td>0.850000</td>\n",
       "      <td>1.000000</td>\n",
       "      <td>0.918919</td>\n",
       "    </tr>\n",
       "    <tr>\n",
       "      <th>5</th>\n",
       "      <td>0.666667</td>\n",
       "      <td>0.666667</td>\n",
       "      <td>0.750000</td>\n",
       "      <td>0.705882</td>\n",
       "    </tr>\n",
       "    <tr>\n",
       "      <th>6</th>\n",
       "      <td>0.733333</td>\n",
       "      <td>0.785714</td>\n",
       "      <td>0.687500</td>\n",
       "      <td>0.733333</td>\n",
       "    </tr>\n",
       "    <tr>\n",
       "      <th>7</th>\n",
       "      <td>0.700000</td>\n",
       "      <td>0.666667</td>\n",
       "      <td>0.875000</td>\n",
       "      <td>0.756757</td>\n",
       "    </tr>\n",
       "    <tr>\n",
       "      <th>8</th>\n",
       "      <td>0.666667</td>\n",
       "      <td>0.666667</td>\n",
       "      <td>0.750000</td>\n",
       "      <td>0.705882</td>\n",
       "    </tr>\n",
       "    <tr>\n",
       "      <th>9</th>\n",
       "      <td>0.666667</td>\n",
       "      <td>0.666667</td>\n",
       "      <td>0.750000</td>\n",
       "      <td>0.705882</td>\n",
       "    </tr>\n",
       "  </tbody>\n",
       "</table>\n",
       "</div>"
      ],
      "text/plain": [
       "   Accuracy  Precision    Recall        F1\n",
       "0  0.612903   0.600000  0.882353  0.714286\n",
       "1  0.677419   0.705882  0.705882  0.705882\n",
       "2  0.612903   0.647059  0.647059  0.647059\n",
       "3  0.700000   0.666667  0.941176  0.780488\n",
       "4  0.900000   0.850000  1.000000  0.918919\n",
       "5  0.666667   0.666667  0.750000  0.705882\n",
       "6  0.733333   0.785714  0.687500  0.733333\n",
       "7  0.700000   0.666667  0.875000  0.756757\n",
       "8  0.666667   0.666667  0.750000  0.705882\n",
       "9  0.666667   0.666667  0.750000  0.705882"
      ]
     },
     "execution_count": 85,
     "metadata": {},
     "output_type": "execute_result"
    }
   ],
   "source": [
    "cross_validates_scores"
   ]
  },
  {
   "cell_type": "markdown",
   "id": "151f72ea",
   "metadata": {},
   "source": [
    "## Feature Importance\n",
    "\n",
    "* Feature importance gives us the value of how the ML model is modelling each feature variable with target variable that is, which feature is given more weight and which is given less or which feature is more important and helpful in determining the target variable by the model\n",
    "* Of course the feature importance varies from model to model \n",
    "* We can use coef_ to find this measure of feature importance given by the ML model more or less it is similar to correlation but ML driven Correlation"
   ]
  },
  {
   "cell_type": "code",
   "execution_count": 101,
   "id": "a3ea78a2",
   "metadata": {},
   "outputs": [
    {
     "data": {
      "text/plain": [
       "{'solver': 'liblinear', 'C': 0.0001}"
      ]
     },
     "execution_count": 101,
     "metadata": {},
     "output_type": "execute_result"
    }
   ],
   "source": [
    "rs_log_reg.best_params_"
   ]
  },
  {
   "cell_type": "code",
   "execution_count": 106,
   "id": "11e8fb72",
   "metadata": {},
   "outputs": [
    {
     "data": {
      "text/plain": [
       "LogisticRegression(C=0.0001, solver='liblinear')"
      ]
     },
     "execution_count": 106,
     "metadata": {},
     "output_type": "execute_result"
    }
   ],
   "source": [
    "log_reg_feat = LogisticRegression(solver = 'liblinear', C = 0.0001)\n",
    "log_reg_feat.fit(X_train, y_train)"
   ]
  },
  {
   "cell_type": "markdown",
   "id": "c825040c",
   "metadata": {},
   "source": [
    "### Coefficient array,  `model.coef_`"
   ]
  },
  {
   "cell_type": "code",
   "execution_count": 107,
   "id": "c042cf45",
   "metadata": {},
   "outputs": [
    {
     "data": {
      "text/plain": [
       "array([[-0.00678295, -0.0016318 ,  0.00446583, -0.01695038, -0.00329176,\n",
       "         0.00013974,  0.00040773,  0.02432685, -0.0020888 , -0.00456645,\n",
       "         0.00170165, -0.00352173, -0.00279845]])"
      ]
     },
     "execution_count": 107,
     "metadata": {},
     "output_type": "execute_result"
    }
   ],
   "source": [
    "log_reg_feat.coef_"
   ]
  },
  {
   "cell_type": "code",
   "execution_count": 108,
   "id": "7e34a408",
   "metadata": {},
   "outputs": [
    {
     "data": {
      "text/html": [
       "<div>\n",
       "<style scoped>\n",
       "    .dataframe tbody tr th:only-of-type {\n",
       "        vertical-align: middle;\n",
       "    }\n",
       "\n",
       "    .dataframe tbody tr th {\n",
       "        vertical-align: top;\n",
       "    }\n",
       "\n",
       "    .dataframe thead th {\n",
       "        text-align: right;\n",
       "    }\n",
       "</style>\n",
       "<table border=\"1\" class=\"dataframe\">\n",
       "  <thead>\n",
       "    <tr style=\"text-align: right;\">\n",
       "      <th></th>\n",
       "      <th>age</th>\n",
       "      <th>sex</th>\n",
       "      <th>cp</th>\n",
       "      <th>trestbps</th>\n",
       "      <th>chol</th>\n",
       "      <th>fbs</th>\n",
       "      <th>restecg</th>\n",
       "      <th>thalach</th>\n",
       "      <th>exang</th>\n",
       "      <th>oldpeak</th>\n",
       "      <th>slope</th>\n",
       "      <th>ca</th>\n",
       "      <th>thal</th>\n",
       "      <th>target</th>\n",
       "    </tr>\n",
       "  </thead>\n",
       "  <tbody>\n",
       "    <tr>\n",
       "      <th>0</th>\n",
       "      <td>63</td>\n",
       "      <td>1</td>\n",
       "      <td>3</td>\n",
       "      <td>145</td>\n",
       "      <td>233</td>\n",
       "      <td>1</td>\n",
       "      <td>0</td>\n",
       "      <td>150</td>\n",
       "      <td>0</td>\n",
       "      <td>2.3</td>\n",
       "      <td>0</td>\n",
       "      <td>0</td>\n",
       "      <td>1</td>\n",
       "      <td>1</td>\n",
       "    </tr>\n",
       "    <tr>\n",
       "      <th>1</th>\n",
       "      <td>37</td>\n",
       "      <td>1</td>\n",
       "      <td>2</td>\n",
       "      <td>130</td>\n",
       "      <td>250</td>\n",
       "      <td>0</td>\n",
       "      <td>1</td>\n",
       "      <td>187</td>\n",
       "      <td>0</td>\n",
       "      <td>3.5</td>\n",
       "      <td>0</td>\n",
       "      <td>0</td>\n",
       "      <td>2</td>\n",
       "      <td>1</td>\n",
       "    </tr>\n",
       "    <tr>\n",
       "      <th>2</th>\n",
       "      <td>41</td>\n",
       "      <td>0</td>\n",
       "      <td>1</td>\n",
       "      <td>130</td>\n",
       "      <td>204</td>\n",
       "      <td>0</td>\n",
       "      <td>0</td>\n",
       "      <td>172</td>\n",
       "      <td>0</td>\n",
       "      <td>1.4</td>\n",
       "      <td>2</td>\n",
       "      <td>0</td>\n",
       "      <td>2</td>\n",
       "      <td>1</td>\n",
       "    </tr>\n",
       "    <tr>\n",
       "      <th>3</th>\n",
       "      <td>56</td>\n",
       "      <td>1</td>\n",
       "      <td>1</td>\n",
       "      <td>120</td>\n",
       "      <td>236</td>\n",
       "      <td>0</td>\n",
       "      <td>1</td>\n",
       "      <td>178</td>\n",
       "      <td>0</td>\n",
       "      <td>0.8</td>\n",
       "      <td>2</td>\n",
       "      <td>0</td>\n",
       "      <td>2</td>\n",
       "      <td>1</td>\n",
       "    </tr>\n",
       "    <tr>\n",
       "      <th>4</th>\n",
       "      <td>57</td>\n",
       "      <td>0</td>\n",
       "      <td>0</td>\n",
       "      <td>120</td>\n",
       "      <td>354</td>\n",
       "      <td>0</td>\n",
       "      <td>1</td>\n",
       "      <td>163</td>\n",
       "      <td>1</td>\n",
       "      <td>0.6</td>\n",
       "      <td>2</td>\n",
       "      <td>0</td>\n",
       "      <td>2</td>\n",
       "      <td>1</td>\n",
       "    </tr>\n",
       "  </tbody>\n",
       "</table>\n",
       "</div>"
      ],
      "text/plain": [
       "   age  sex  cp  trestbps  chol  fbs  restecg  thalach  exang  oldpeak  slope  \\\n",
       "0   63    1   3       145   233    1        0      150      0      2.3      0   \n",
       "1   37    1   2       130   250    0        1      187      0      3.5      0   \n",
       "2   41    0   1       130   204    0        0      172      0      1.4      2   \n",
       "3   56    1   1       120   236    0        1      178      0      0.8      2   \n",
       "4   57    0   0       120   354    0        1      163      1      0.6      2   \n",
       "\n",
       "   ca  thal  target  \n",
       "0   0     1       1  \n",
       "1   0     2       1  \n",
       "2   0     2       1  \n",
       "3   0     2       1  \n",
       "4   0     2       1  "
      ]
     },
     "execution_count": 108,
     "metadata": {},
     "output_type": "execute_result"
    }
   ],
   "source": [
    "df.head()"
   ]
  },
  {
   "cell_type": "code",
   "execution_count": 112,
   "id": "e5a547e5",
   "metadata": {},
   "outputs": [
    {
     "data": {
      "text/plain": [
       "{'age': -0.006782947052350463,\n",
       " 'sex': -0.0016317974237950719,\n",
       " 'cp': 0.0044658308567277405,\n",
       " 'trestbps': -0.016950379360572112,\n",
       " 'chol': -0.0032917620595624805,\n",
       " 'fbs': 0.00013974461725315356,\n",
       " 'restecg': 0.0004077346997387179,\n",
       " 'thalach': 0.02432685243746481,\n",
       " 'exang': -0.002088800386157698,\n",
       " 'oldpeak': -0.004566453884164545,\n",
       " 'slope': 0.0017016501307571864,\n",
       " 'ca': -0.0035217296199271894,\n",
       " 'thal': -0.0027984466773310636}"
      ]
     },
     "execution_count": 112,
     "metadata": {},
     "output_type": "execute_result"
    }
   ],
   "source": [
    "feature_dict = dict(zip(df.columns, list(log_reg_feat.coef_[0])))\n",
    "feature_dict"
   ]
  },
  {
   "cell_type": "code",
   "execution_count": 135,
   "id": "8d82f47c",
   "metadata": {},
   "outputs": [
    {
     "data": {
      "image/png": "[encoded data removed]",
      "text/plain": [
       "<Figure size 576x432 with 1 Axes>"
      ]
     },
     "metadata": {
      "needs_background": "light"
     },
     "output_type": "display_data"
    }
   ],
   "source": [
    "pd.DataFrame(feature_dict, index = [0]).T.plot.bar(figsize = (8,6))\n",
    "ax = plt.gca()\n",
    "ax.set(ylabel = 'Model Coefficient values (Correlation)')\n",
    "ax.set(xlabel = 'Feature Variables')\n",
    "ax.set(title = 'Feature Importance plot');"
   ]
  },
  {
   "cell_type": "code",
   "execution_count": 120,
   "id": "a5662a4b",
   "metadata": {},
   "outputs": [
    {
     "data": {
      "text/html": [
       "<div>\n",
       "<style scoped>\n",
       "    .dataframe tbody tr th:only-of-type {\n",
       "        vertical-align: middle;\n",
       "    }\n",
       "\n",
       "    .dataframe tbody tr th {\n",
       "        vertical-align: top;\n",
       "    }\n",
       "\n",
       "    .dataframe thead th {\n",
       "        text-align: right;\n",
       "    }\n",
       "</style>\n",
       "<table border=\"1\" class=\"dataframe\">\n",
       "  <thead>\n",
       "    <tr style=\"text-align: right;\">\n",
       "      <th></th>\n",
       "      <th>0</th>\n",
       "    </tr>\n",
       "  </thead>\n",
       "  <tbody>\n",
       "    <tr>\n",
       "      <th>age</th>\n",
       "      <td>-0.006783</td>\n",
       "    </tr>\n",
       "    <tr>\n",
       "      <th>sex</th>\n",
       "      <td>-0.001632</td>\n",
       "    </tr>\n",
       "    <tr>\n",
       "      <th>cp</th>\n",
       "      <td>0.004466</td>\n",
       "    </tr>\n",
       "    <tr>\n",
       "      <th>trestbps</th>\n",
       "      <td>-0.016950</td>\n",
       "    </tr>\n",
       "    <tr>\n",
       "      <th>chol</th>\n",
       "      <td>-0.003292</td>\n",
       "    </tr>\n",
       "    <tr>\n",
       "      <th>fbs</th>\n",
       "      <td>0.000140</td>\n",
       "    </tr>\n",
       "    <tr>\n",
       "      <th>restecg</th>\n",
       "      <td>0.000408</td>\n",
       "    </tr>\n",
       "    <tr>\n",
       "      <th>thalach</th>\n",
       "      <td>0.024327</td>\n",
       "    </tr>\n",
       "    <tr>\n",
       "      <th>exang</th>\n",
       "      <td>-0.002089</td>\n",
       "    </tr>\n",
       "    <tr>\n",
       "      <th>oldpeak</th>\n",
       "      <td>-0.004566</td>\n",
       "    </tr>\n",
       "    <tr>\n",
       "      <th>slope</th>\n",
       "      <td>0.001702</td>\n",
       "    </tr>\n",
       "    <tr>\n",
       "      <th>ca</th>\n",
       "      <td>-0.003522</td>\n",
       "    </tr>\n",
       "    <tr>\n",
       "      <th>thal</th>\n",
       "      <td>-0.002798</td>\n",
       "    </tr>\n",
       "  </tbody>\n",
       "</table>\n",
       "</div>"
      ],
      "text/plain": [
       "                 0\n",
       "age      -0.006783\n",
       "sex      -0.001632\n",
       "cp        0.004466\n",
       "trestbps -0.016950\n",
       "chol     -0.003292\n",
       "fbs       0.000140\n",
       "restecg   0.000408\n",
       "thalach   0.024327\n",
       "exang    -0.002089\n",
       "oldpeak  -0.004566\n",
       "slope     0.001702\n",
       "ca       -0.003522\n",
       "thal     -0.002798"
      ]
     },
     "execution_count": 120,
     "metadata": {},
     "output_type": "execute_result"
    }
   ],
   "source": [
    "pd.DataFrame(feature_dict, index = [0]).T"
   ]
  },
  {
   "cell_type": "code",
   "execution_count": 121,
   "id": "4ee4d00a",
   "metadata": {},
   "outputs": [
    {
     "data": {
      "text/html": [
       "<div>\n",
       "<style scoped>\n",
       "    .dataframe tbody tr th:only-of-type {\n",
       "        vertical-align: middle;\n",
       "    }\n",
       "\n",
       "    .dataframe tbody tr th {\n",
       "        vertical-align: top;\n",
       "    }\n",
       "\n",
       "    .dataframe thead th {\n",
       "        text-align: right;\n",
       "    }\n",
       "</style>\n",
       "<table border=\"1\" class=\"dataframe\">\n",
       "  <thead>\n",
       "    <tr style=\"text-align: right;\">\n",
       "      <th></th>\n",
       "      <th>age</th>\n",
       "      <th>sex</th>\n",
       "      <th>cp</th>\n",
       "      <th>trestbps</th>\n",
       "      <th>chol</th>\n",
       "      <th>fbs</th>\n",
       "      <th>restecg</th>\n",
       "      <th>thalach</th>\n",
       "      <th>exang</th>\n",
       "      <th>oldpeak</th>\n",
       "      <th>slope</th>\n",
       "      <th>ca</th>\n",
       "      <th>thal</th>\n",
       "    </tr>\n",
       "  </thead>\n",
       "  <tbody>\n",
       "    <tr>\n",
       "      <th>0</th>\n",
       "      <td>-0.006783</td>\n",
       "      <td>-0.001632</td>\n",
       "      <td>0.004466</td>\n",
       "      <td>-0.01695</td>\n",
       "      <td>-0.003292</td>\n",
       "      <td>0.00014</td>\n",
       "      <td>0.000408</td>\n",
       "      <td>0.024327</td>\n",
       "      <td>-0.002089</td>\n",
       "      <td>-0.004566</td>\n",
       "      <td>0.001702</td>\n",
       "      <td>-0.003522</td>\n",
       "      <td>-0.002798</td>\n",
       "    </tr>\n",
       "  </tbody>\n",
       "</table>\n",
       "</div>"
      ],
      "text/plain": [
       "        age       sex        cp  trestbps      chol      fbs   restecg  \\\n",
       "0 -0.006783 -0.001632  0.004466  -0.01695 -0.003292  0.00014  0.000408   \n",
       "\n",
       "    thalach     exang   oldpeak     slope        ca      thal  \n",
       "0  0.024327 -0.002089 -0.004566  0.001702 -0.003522 -0.002798  "
      ]
     },
     "execution_count": 121,
     "metadata": {},
     "output_type": "execute_result"
    }
   ],
   "source": [
    "pd.DataFrame(feature_dict, index = [0])"
   ]
  },
  {
   "cell_type": "markdown",
   "id": "66e17dd2",
   "metadata": {},
   "source": [
    "### 6. Experimentation\n",
    "* Until now we haven't reached our goal of 95% accuracy :/ so we should ask the folowing questions:\n",
    "> 1. Could we collect more data?\n",
    "> 2. Could we improve our model?\n",
    "> 3. Could we experiment with more models (like CatBoost or XGBoost)?\n",
    "\n",
    "* Until now whatever we have done is nothing but experimentation and we may continue to experiment to answer the above questions and reach our aim "
   ]
  },
  {
   "cell_type": "code",
   "execution_count": null,
   "id": "2df55b5a",
   "metadata": {},
   "outputs": [],
   "source": []
  }
 ],
 "metadata": {
  "kernelspec": {
   "display_name": "Python 3 (ipykernel)",
   "language": "python",
   "name": "python3"
  },
  "language_info": {
   "codemirror_mode": {
    "name": "ipython",
    "version": 3
   },
   "file_extension": ".py",
   "mimetype": "text/x-python",
   "name": "python",
   "nbconvert_exporter": "python",
   "pygments_lexer": "ipython3",
   "version": "3.10.4"
  }
 },
 "nbformat": 4,
 "nbformat_minor": 5
}
